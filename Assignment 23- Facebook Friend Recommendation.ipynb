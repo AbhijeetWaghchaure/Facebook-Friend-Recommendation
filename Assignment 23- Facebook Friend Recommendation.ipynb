{
 "cells": [
  {
   "cell_type": "markdown",
   "metadata": {
    "colab_type": "text",
    "id": "168QPRizVFFg"
   },
   "source": [
    "<p style=\"font-size:32px;text-align:center\"> <b>Social network Graph Link Prediction - Facebook Challenge</b> </p>"
   ]
  },
  {
   "cell_type": "code",
   "execution_count": 8,
   "metadata": {
    "colab": {},
    "colab_type": "code",
    "id": "Q8lS7fVyVFFl"
   },
   "outputs": [],
   "source": [
    "#Importing Libraries\n",
    "# please do go through this python notebook: \n",
    "import warnings\n",
    "warnings.filterwarnings(\"ignore\")\n",
    "\n",
    "import csv\n",
    "import pandas as pd#pandas to create small dataframes \n",
    "import datetime #Convert to unix time\n",
    "import time #Convert to unix time\n",
    "# if numpy is not installed already : pip3 install numpy\n",
    "import numpy as np#Do aritmetic operations on arrays\n",
    "# matplotlib: used to plot graphs\n",
    "import matplotlib\n",
    "import matplotlib.pylab as plt\n",
    "import seaborn as sns#Plots\n",
    "from matplotlib import rcParams#Size of plots  \n",
    "from sklearn.cluster import MiniBatchKMeans, KMeans#Clustering\n",
    "import math\n",
    "import pickle\n",
    "import os\n",
    "# to install xgboost: pip3 install xgboost\n",
    "import xgboost as xgb\n",
    "\n",
    "import warnings\n",
    "import networkx as nx\n",
    "import pdb\n",
    "import pickle\n",
    "from pandas import HDFStore,DataFrame\n",
    "from pandas import read_hdf\n",
    "from scipy.sparse.linalg import svds, eigs\n",
    "import gc\n",
    "from tqdm import tqdm\n",
    "from sklearn.ensemble import RandomForestClassifier\n",
    "from sklearn.metrics import f1_score"
   ]
  },
  {
   "cell_type": "markdown",
   "metadata": {
    "colab_type": "text",
    "id": "1znHayNeVFFt"
   },
   "source": [
    "# 1. Reading Data"
   ]
  },
  {
   "cell_type": "code",
   "execution_count": 11,
   "metadata": {
    "colab": {},
    "colab_type": "code",
    "id": "Uq9HbHwEVFFv",
    "outputId": "b2aa525a-93d3-47c3-8216-416a811bc812"
   },
   "outputs": [
    {
     "name": "stdout",
     "output_type": "stream",
     "text": [
      "Current Time =  2019-05-24 21:09:06.868196\n",
      "Name: \n",
      "Type: DiGraph\n",
      "Number of nodes: 1780722\n",
      "Number of edges: 7550015\n",
      "Average in degree:   4.2399\n",
      "Average out degree:   4.2399\n",
      "\n",
      "Time taken for creation of dataframe is 0:04:00.803636\n"
     ]
    }
   ],
   "source": [
    "startTime = datetime.datetime.now()\n",
    "print(\"Current Time = \",startTime)\n",
    "\n",
    "if os.path.isfile('data/after_eda/train_pos_after_eda.csv'):\n",
    "    train_graph=nx.read_edgelist('data/after_eda/train_pos_after_eda.csv',delimiter=',',create_using=nx.DiGraph(),nodetype=int)\n",
    "    print(nx.info(train_graph))\n",
    "else:\n",
    "    print(\"please run the FB_EDA.ipynb or download the files from drive\")\n",
    "    \n",
    "print(\"\\nTime taken for creation of dataframe is {}\".format(datetime.datetime.now() - startTime))"
   ]
  },
  {
   "cell_type": "markdown",
   "metadata": {
    "colab_type": "text",
    "id": "HmlUa64tVFF7"
   },
   "source": [
    "# 2. Similarity measures"
   ]
  },
  {
   "cell_type": "markdown",
   "metadata": {
    "colab_type": "text",
    "id": "ivVMUMiWVFF9"
   },
   "source": [
    "## 2.1 Jaccard Distance:\n",
    "http://www.statisticshowto.com/jaccard-index/"
   ]
  },
  {
   "cell_type": "markdown",
   "metadata": {
    "colab_type": "text",
    "id": "NoWCYuRBVFF_"
   },
   "source": [
    "\\begin{equation}\n",
    "j = \\frac{|X\\cap Y|}{|X \\cup Y|} \n",
    "\\end{equation}"
   ]
  },
  {
   "cell_type": "code",
   "execution_count": 0,
   "metadata": {
    "colab": {},
    "colab_type": "code",
    "id": "Seo4z5SnVFGB"
   },
   "outputs": [],
   "source": [
    "#for followees\n",
    "def jaccard_for_followees(a,b):\n",
    "    try:\n",
    "        if len(set(train_graph.successors(a))) == 0  | len(set(train_graph.successors(b))) == 0:\n",
    "            return 0\n",
    "        sim = (len(set(train_graph.successors(a)).intersection(set(train_graph.successors(b)))))/\\\n",
    "                                    (len(set(train_graph.successors(a)).union(set(train_graph.successors(b)))))\n",
    "    except:\n",
    "        return 0\n",
    "    return sim"
   ]
  },
  {
   "cell_type": "code",
   "execution_count": 0,
   "metadata": {
    "colab": {},
    "colab_type": "code",
    "id": "Oa9FMlS8VFGF",
    "outputId": "426a6833-1631-4024-c24a-d21ae7686472"
   },
   "outputs": [
    {
     "name": "stdout",
     "output_type": "stream",
     "text": [
      "0.0\n"
     ]
    }
   ],
   "source": [
    "#one test case\n",
    "print(jaccard_for_followees(273084,1505602))"
   ]
  },
  {
   "cell_type": "code",
   "execution_count": 0,
   "metadata": {
    "colab": {},
    "colab_type": "code",
    "id": "Gf8njOv6VFGK",
    "outputId": "8ba07727-a0ab-498e-819f-0d310876191c"
   },
   "outputs": [
    {
     "name": "stdout",
     "output_type": "stream",
     "text": [
      "0.0\n"
     ]
    }
   ],
   "source": [
    "#node 1635354 not in graph \n",
    "print(jaccard_for_followees(273084,1505602))"
   ]
  },
  {
   "cell_type": "code",
   "execution_count": 0,
   "metadata": {
    "colab": {},
    "colab_type": "code",
    "id": "LO-a5ZkKVFGO"
   },
   "outputs": [],
   "source": [
    "#for followers\n",
    "def jaccard_for_followers(a,b):\n",
    "    try:\n",
    "        if len(set(train_graph.predecessors(a))) == 0  | len(set(g.predecessors(b))) == 0:\n",
    "            return 0\n",
    "        sim = (len(set(train_graph.predecessors(a)).intersection(set(train_graph.predecessors(b)))))/\\\n",
    "                                 (len(set(train_graph.predecessors(a)).union(set(train_graph.predecessors(b)))))\n",
    "        return sim\n",
    "    except:\n",
    "        return 0"
   ]
  },
  {
   "cell_type": "code",
   "execution_count": 0,
   "metadata": {
    "colab": {},
    "colab_type": "code",
    "id": "DlbX2t0jVFGQ",
    "outputId": "7e4b4536-442a-4b0c-ae02-fb442c1955db"
   },
   "outputs": [
    {
     "name": "stdout",
     "output_type": "stream",
     "text": [
      "0\n"
     ]
    }
   ],
   "source": [
    "print(jaccard_for_followers(273084,470294))"
   ]
  },
  {
   "cell_type": "code",
   "execution_count": 0,
   "metadata": {
    "colab": {},
    "colab_type": "code",
    "id": "OgeBW2LMVFGU",
    "outputId": "1e12fabe-d990-4506-bb6b-c86b01d1b0af"
   },
   "outputs": [
    {
     "name": "stdout",
     "output_type": "stream",
     "text": [
      "0\n"
     ]
    }
   ],
   "source": [
    "#node 1635354 not in graph \n",
    "print(jaccard_for_followees(669354,1635354))"
   ]
  },
  {
   "cell_type": "markdown",
   "metadata": {
    "colab_type": "text",
    "id": "MnH2my2UVFGX"
   },
   "source": [
    "## 2.2 Cosine distance"
   ]
  },
  {
   "cell_type": "markdown",
   "metadata": {
    "colab_type": "text",
    "id": "XNvdBGS2VFGY"
   },
   "source": [
    "\\begin{equation}\n",
    "CosineDistance = \\frac{|X\\cap Y|}{|X|\\cdot|Y|} \n",
    "\\end{equation}"
   ]
  },
  {
   "cell_type": "code",
   "execution_count": 0,
   "metadata": {
    "colab": {},
    "colab_type": "code",
    "id": "Iznz67EdVFGZ"
   },
   "outputs": [],
   "source": [
    "#for followees\n",
    "def cosine_for_followees(a,b):\n",
    "    try:\n",
    "        if len(set(train_graph.successors(a))) == 0  | len(set(train_graph.successors(b))) == 0:\n",
    "            return 0\n",
    "        sim = (len(set(train_graph.successors(a)).intersection(set(train_graph.successors(b)))))/\\\n",
    "                                    (math.sqrt(len(set(train_graph.successors(a)))*len((set(train_graph.successors(b))))))\n",
    "        return sim\n",
    "    except:\n",
    "        return 0"
   ]
  },
  {
   "cell_type": "code",
   "execution_count": 0,
   "metadata": {
    "colab": {},
    "colab_type": "code",
    "id": "H55ALjkMVFGc",
    "outputId": "531fceba-60f4-4e6b-97f4-f37733dc468f"
   },
   "outputs": [
    {
     "name": "stdout",
     "output_type": "stream",
     "text": [
      "0.0\n"
     ]
    }
   ],
   "source": [
    "print(cosine_for_followees(273084,1505602))"
   ]
  },
  {
   "cell_type": "code",
   "execution_count": 0,
   "metadata": {
    "colab": {},
    "colab_type": "code",
    "id": "q0RGKgJFVFGf",
    "outputId": "41202fc6-f4aa-4a1d-d8f6-84f960a3fbba"
   },
   "outputs": [
    {
     "name": "stdout",
     "output_type": "stream",
     "text": [
      "0\n"
     ]
    }
   ],
   "source": [
    "print(cosine_for_followees(273084,1635354))"
   ]
  },
  {
   "cell_type": "code",
   "execution_count": 0,
   "metadata": {
    "colab": {},
    "colab_type": "code",
    "id": "KJ_yGxA0VFGj"
   },
   "outputs": [],
   "source": [
    "def cosine_for_followers(a,b):\n",
    "    try:\n",
    "        \n",
    "        if len(set(train_graph.predecessors(a))) == 0  | len(set(train_graph.predecessors(b))) == 0:\n",
    "            return 0\n",
    "        sim = (len(set(train_graph.predecessors(a)).intersection(set(train_graph.predecessors(b)))))/\\\n",
    "                                     (math.sqrt(len(set(train_graph.predecessors(a))))*(len(set(train_graph.predecessors(b)))))\n",
    "        return sim\n",
    "    except:\n",
    "        return 0"
   ]
  },
  {
   "cell_type": "code",
   "execution_count": 0,
   "metadata": {
    "colab": {},
    "colab_type": "code",
    "id": "75QrFJb6VFGm",
    "outputId": "f01e0558-f1e3-465f-ab14-0e4ca764f4aa"
   },
   "outputs": [
    {
     "name": "stdout",
     "output_type": "stream",
     "text": [
      "0.02886751345948129\n"
     ]
    }
   ],
   "source": [
    "print(cosine_for_followers(2,470294))"
   ]
  },
  {
   "cell_type": "code",
   "execution_count": 0,
   "metadata": {
    "colab": {},
    "colab_type": "code",
    "id": "-ut4k_F0VFGq",
    "outputId": "8bc9607a-7262-43e2-9de8-f71d276762fc"
   },
   "outputs": [
    {
     "name": "stdout",
     "output_type": "stream",
     "text": [
      "0\n"
     ]
    }
   ],
   "source": [
    "print(cosine_for_followers(669354,1635354))"
   ]
  },
  {
   "cell_type": "markdown",
   "metadata": {
    "colab_type": "text",
    "id": "DaIHhWh6VFGv"
   },
   "source": [
    "## 3. Ranking Measures"
   ]
  },
  {
   "cell_type": "markdown",
   "metadata": {
    "colab_type": "text",
    "id": "6nfV1SprVFGx"
   },
   "source": [
    "https://networkx.github.io/documentation/networkx-1.10/reference/generated/networkx.algorithms.link_analysis.pagerank_alg.pagerank.html\n",
    "\n",
    "PageRank computes a ranking of the nodes in the graph G based on the structure of the incoming links.\n",
    "\n",
    "<img src='PageRanks-Example.jpg'/>\n",
    "\n",
    "Mathematical PageRanks for a simple network, expressed as percentages. (Google uses a logarithmic scale.) Page C has a higher PageRank than Page E, even though there are fewer links to C; the one link to C comes from an important page and hence is of high value. If web surfers who start on a random page have an 85% likelihood of choosing a random link from the page they are currently visiting, and a 15% likelihood of jumping to a page chosen at random from the entire web, they will reach Page E 8.1% of the time. <b>(The 15% likelihood of jumping to an arbitrary page corresponds to a damping factor of 85%.) Without damping, all web surfers would eventually end up on Pages A, B, or C, and all other pages would have PageRank zero. In the presence of damping, Page A effectively links to all pages in the web, even though it has no outgoing links of its own.</b>"
   ]
  },
  {
   "cell_type": "markdown",
   "metadata": {
    "colab_type": "text",
    "id": "GkkfYYZ6VFGy"
   },
   "source": [
    "## 3.1 Page Ranking\n",
    "\n",
    "https://en.wikipedia.org/wiki/PageRank\n"
   ]
  },
  {
   "cell_type": "code",
   "execution_count": 0,
   "metadata": {
    "colab": {},
    "colab_type": "code",
    "id": "AtvqwZ34VFGy"
   },
   "outputs": [],
   "source": [
    "if not os.path.isfile('data/fea_sample/page_rank.p'):\n",
    "    pr = nx.pagerank(train_graph, alpha=0.85)\n",
    "    pickle.dump(pr,open('data/fea_sample/page_rank.p','wb'))\n",
    "else:\n",
    "    pr = pickle.load(open('data/fea_sample/page_rank.p','rb'))"
   ]
  },
  {
   "cell_type": "code",
   "execution_count": 0,
   "metadata": {
    "colab": {},
    "colab_type": "code",
    "id": "lXGKYYf6VFG2",
    "outputId": "bb3d1b7a-81f9-44ab-dbe7-3214ccd47179"
   },
   "outputs": [
    {
     "name": "stdout",
     "output_type": "stream",
     "text": [
      "min 1.6556497245737814e-07\n",
      "max 2.7098251341935827e-05\n",
      "mean 5.615699699389075e-07\n"
     ]
    }
   ],
   "source": [
    "print('min',pr[min(pr, key=pr.get)])\n",
    "print('max',pr[max(pr, key=pr.get)])\n",
    "print('mean',float(sum(pr.values())) / len(pr))"
   ]
  },
  {
   "cell_type": "code",
   "execution_count": 0,
   "metadata": {
    "colab": {},
    "colab_type": "code",
    "id": "5xwlah4oVFG4",
    "outputId": "992fdfad-7ff6-4626-c9ee-d9bce220a680"
   },
   "outputs": [
    {
     "name": "stdout",
     "output_type": "stream",
     "text": [
      "5.615699699389075e-07\n"
     ]
    }
   ],
   "source": [
    "#for imputing to nodes which are not there in Train data\n",
    "mean_pr = float(sum(pr.values())) / len(pr)\n",
    "print(mean_pr)"
   ]
  },
  {
   "cell_type": "markdown",
   "metadata": {
    "colab_type": "text",
    "id": "HhPbSL1tVFG7"
   },
   "source": [
    "# 4. Other Graph Features"
   ]
  },
  {
   "cell_type": "markdown",
   "metadata": {
    "colab_type": "text",
    "id": "AgsorCl7VFG8"
   },
   "source": [
    "## 4.1 Shortest path:"
   ]
  },
  {
   "cell_type": "markdown",
   "metadata": {
    "colab_type": "text",
    "id": "E7teH2LCVFG9"
   },
   "source": [
    "Getting Shortest path between twoo nodes, if nodes have direct path i.e directly connected then we are removing that edge and calculating path. "
   ]
  },
  {
   "cell_type": "code",
   "execution_count": 0,
   "metadata": {
    "colab": {},
    "colab_type": "code",
    "id": "RA076ovzVFG9"
   },
   "outputs": [],
   "source": [
    "#if has direct edge then deleting that edge and calculating shortest path\n",
    "def compute_shortest_path_length(a,b):\n",
    "    p=-1\n",
    "    try:\n",
    "        if train_graph.has_edge(a,b):\n",
    "            train_graph.remove_edge(a,b)\n",
    "            p= nx.shortest_path_length(train_graph,source=a,target=b)\n",
    "            train_graph.add_edge(a,b)\n",
    "        else:\n",
    "            p= nx.shortest_path_length(train_graph,source=a,target=b)\n",
    "        return p\n",
    "    except:\n",
    "        return -1"
   ]
  },
  {
   "cell_type": "code",
   "execution_count": 0,
   "metadata": {
    "colab": {},
    "colab_type": "code",
    "id": "AxnKId11VFG_",
    "outputId": "15ca223a-6a04-4549-d010-54619b472a9e"
   },
   "outputs": [
    {
     "data": {
      "text/plain": [
       "10"
      ]
     },
     "execution_count": 21,
     "metadata": {
      "tags": []
     },
     "output_type": "execute_result"
    }
   ],
   "source": [
    "#testing\n",
    "compute_shortest_path_length(77697, 826021)"
   ]
  },
  {
   "cell_type": "code",
   "execution_count": 0,
   "metadata": {
    "colab": {},
    "colab_type": "code",
    "id": "0huWCNtRVFHC",
    "outputId": "6debfa4f-2067-48bc-84b3-ab86e2d9dea6"
   },
   "outputs": [
    {
     "data": {
      "text/plain": [
       "-1"
      ]
     },
     "execution_count": 22,
     "metadata": {
      "tags": []
     },
     "output_type": "execute_result"
    }
   ],
   "source": [
    "#testing\n",
    "compute_shortest_path_length(669354,1635354)"
   ]
  },
  {
   "cell_type": "markdown",
   "metadata": {
    "colab_type": "text",
    "id": "baE_95bzVFHF"
   },
   "source": [
    "## 4.2 Checking for same community"
   ]
  },
  {
   "cell_type": "code",
   "execution_count": 0,
   "metadata": {
    "colab": {},
    "colab_type": "code",
    "id": "15CIQqAbVFHG"
   },
   "outputs": [],
   "source": [
    "#getting weekly connected edges from graph \n",
    "wcc=list(nx.weakly_connected_components(train_graph))\n",
    "def belongs_to_same_wcc(a,b):\n",
    "    index = []\n",
    "    if train_graph.has_edge(b,a):\n",
    "        return 1\n",
    "    if train_graph.has_edge(a,b):\n",
    "            for i in wcc:\n",
    "                if a in i:\n",
    "                    index= i\n",
    "                    break\n",
    "            if (b in index):\n",
    "                train_graph.remove_edge(a,b)\n",
    "                if compute_shortest_path_length(a,b)==-1:\n",
    "                    train_graph.add_edge(a,b)\n",
    "                    return 0\n",
    "                else:\n",
    "                    train_graph.add_edge(a,b)\n",
    "                    return 1\n",
    "            else:\n",
    "                return 0\n",
    "    else:\n",
    "            for i in wcc:\n",
    "                if a in i:\n",
    "                    index= i\n",
    "                    break\n",
    "            if(b in index):\n",
    "                return 1\n",
    "            else:\n",
    "                return 0"
   ]
  },
  {
   "cell_type": "code",
   "execution_count": 0,
   "metadata": {
    "colab": {},
    "colab_type": "code",
    "id": "fAzOHtCFVFHI",
    "outputId": "2b043a87-b460-42bf-f37e-4c04bbed6586"
   },
   "outputs": [
    {
     "data": {
      "text/plain": [
       "0"
      ]
     },
     "execution_count": 24,
     "metadata": {
      "tags": []
     },
     "output_type": "execute_result"
    }
   ],
   "source": [
    "belongs_to_same_wcc(861, 1659750)"
   ]
  },
  {
   "cell_type": "code",
   "execution_count": 0,
   "metadata": {
    "colab": {},
    "colab_type": "code",
    "id": "HMdYpPuGVFHK",
    "outputId": "2005e22c-b60f-48d7-839b-650bf97cae35"
   },
   "outputs": [
    {
     "data": {
      "text/plain": [
       "0"
      ]
     },
     "execution_count": 25,
     "metadata": {
      "tags": []
     },
     "output_type": "execute_result"
    }
   ],
   "source": [
    "belongs_to_same_wcc(669354,1635354)"
   ]
  },
  {
   "cell_type": "markdown",
   "metadata": {
    "colab_type": "text",
    "id": "q74nth0OVFHN"
   },
   "source": [
    "## 4.3 Adamic/Adar Index:\n",
    "Adamic/Adar measures is defined as inverted sum of degrees of common neighbours for given two vertices.\n",
    "$$A(x,y)=\\sum_{u \\in N(x) \\cap N(y)}\\frac{1}{log(|N(u)|)}$$"
   ]
  },
  {
   "cell_type": "code",
   "execution_count": 0,
   "metadata": {
    "colab": {},
    "colab_type": "code",
    "id": "CeS98LI5VFHO"
   },
   "outputs": [],
   "source": [
    "#adar index\n",
    "def calc_adar_in(a,b):\n",
    "    sum=0\n",
    "    try:\n",
    "        n=list(set(train_graph.successors(a)).intersection(set(train_graph.successors(b))))\n",
    "        if len(n)!=0:\n",
    "            for i in n:\n",
    "                sum=sum+(1/np.log10(len(list(train_graph.predecessors(i)))))\n",
    "            return sum\n",
    "        else:\n",
    "            return 0\n",
    "    except:\n",
    "        return 0"
   ]
  },
  {
   "cell_type": "code",
   "execution_count": 0,
   "metadata": {
    "colab": {},
    "colab_type": "code",
    "id": "KezFeRmyVFHQ",
    "outputId": "2f9c0e11-02d9-4f28-d67a-65e3d4943e99"
   },
   "outputs": [
    {
     "data": {
      "text/plain": [
       "0"
      ]
     },
     "execution_count": 27,
     "metadata": {
      "tags": []
     },
     "output_type": "execute_result"
    }
   ],
   "source": [
    "calc_adar_in(1,189226)"
   ]
  },
  {
   "cell_type": "code",
   "execution_count": 0,
   "metadata": {
    "colab": {},
    "colab_type": "code",
    "id": "vj_m89bBVFHV",
    "outputId": "68a0a099-2954-402f-c80f-6d436ffa1aba"
   },
   "outputs": [
    {
     "data": {
      "text/plain": [
       "0"
      ]
     },
     "execution_count": 28,
     "metadata": {
      "tags": []
     },
     "output_type": "execute_result"
    }
   ],
   "source": [
    "calc_adar_in(669354,1635354)"
   ]
  },
  {
   "cell_type": "markdown",
   "metadata": {
    "colab_type": "text",
    "id": "pBUudhFAVFHY"
   },
   "source": [
    "## 4.4 Is persion was following back:"
   ]
  },
  {
   "cell_type": "code",
   "execution_count": 0,
   "metadata": {
    "colab": {},
    "colab_type": "code",
    "id": "j_mwmopLVFHZ"
   },
   "outputs": [],
   "source": [
    "def follows_back(a,b):\n",
    "    if train_graph.has_edge(b,a):\n",
    "        return 1\n",
    "    else:\n",
    "        return 0"
   ]
  },
  {
   "cell_type": "code",
   "execution_count": 0,
   "metadata": {
    "colab": {},
    "colab_type": "code",
    "id": "LdjUXIfbVFHb",
    "outputId": "ed3d8640-9834-4a95-e712-804292da70e9"
   },
   "outputs": [
    {
     "data": {
      "text/plain": [
       "1"
      ]
     },
     "execution_count": 30,
     "metadata": {
      "tags": []
     },
     "output_type": "execute_result"
    }
   ],
   "source": [
    "follows_back(1,189226)"
   ]
  },
  {
   "cell_type": "code",
   "execution_count": 0,
   "metadata": {
    "colab": {},
    "colab_type": "code",
    "id": "PmZtL65YVFHf",
    "outputId": "18ea6fe2-3f96-42c0-d116-ecb76ddba4b5"
   },
   "outputs": [
    {
     "data": {
      "text/plain": [
       "0"
      ]
     },
     "execution_count": 31,
     "metadata": {
      "tags": []
     },
     "output_type": "execute_result"
    }
   ],
   "source": [
    "follows_back(669354,1635354)"
   ]
  },
  {
   "cell_type": "markdown",
   "metadata": {
    "colab_type": "text",
    "id": "29Vrq2EXVFHi"
   },
   "source": [
    "## 4.5 Katz Centrality:\n",
    "https://en.wikipedia.org/wiki/Katz_centrality\n",
    "\n",
    "https://www.geeksforgeeks.org/katz-centrality-centrality-measure/\n",
    " Katz centrality computes the centrality for a node \n",
    "    based on the centrality of its neighbors. It is a \n",
    "    generalization of the eigenvector centrality. The\n",
    "    Katz centrality for node `i` is\n",
    " \n",
    "$$x_i = \\alpha \\sum_{j} A_{ij} x_j + \\beta,$$\n",
    "where `A` is the adjacency matrix of the graph G \n",
    "with eigenvalues $$\\lambda$$.\n",
    "\n",
    "The parameter $$\\beta$$ controls the initial centrality and \n",
    "\n",
    "$$\\alpha < \\frac{1}{\\lambda_{max}}.$$"
   ]
  },
  {
   "cell_type": "code",
   "execution_count": 0,
   "metadata": {
    "colab": {},
    "colab_type": "code",
    "id": "CN5OSqrkVFHj"
   },
   "outputs": [],
   "source": [
    "if not os.path.isfile('data/fea_sample/katz.p'):\n",
    "    katz = nx.katz.katz_centrality(train_graph,alpha=0.005,beta=1)\n",
    "    pickle.dump(katz,open('data/fea_sample/katz.p','wb'))\n",
    "else:\n",
    "    katz = pickle.load(open('data/fea_sample/katz.p','rb'))"
   ]
  },
  {
   "cell_type": "code",
   "execution_count": 0,
   "metadata": {
    "colab": {},
    "colab_type": "code",
    "id": "gcU83vw7VFHm",
    "outputId": "05f49ad4-46fe-4cf6-f32a-2fe4846b0714"
   },
   "outputs": [
    {
     "name": "stdout",
     "output_type": "stream",
     "text": [
      "min 0.0007313532484065916\n",
      "max 0.003394554981699122\n",
      "mean 0.0007483800935562018\n"
     ]
    }
   ],
   "source": [
    "print('min',katz[min(katz, key=katz.get)])\n",
    "print('max',katz[max(katz, key=katz.get)])\n",
    "print('mean',float(sum(katz.values())) / len(katz))"
   ]
  },
  {
   "cell_type": "code",
   "execution_count": 0,
   "metadata": {
    "colab": {},
    "colab_type": "code",
    "id": "qcboIksiVFHt",
    "outputId": "99f52422-9edb-479a-d5d9-e33401160da7"
   },
   "outputs": [
    {
     "name": "stdout",
     "output_type": "stream",
     "text": [
      "0.0007483800935562018\n"
     ]
    }
   ],
   "source": [
    "mean_katz = float(sum(katz.values())) / len(katz)\n",
    "print(mean_katz)"
   ]
  },
  {
   "cell_type": "markdown",
   "metadata": {
    "colab_type": "text",
    "id": "SRZqGFgYVFHx"
   },
   "source": [
    "## 4.6 Hits Score\n",
    "The HITS algorithm computes two numbers for a node. Authorities estimates the node value based on the incoming links. Hubs estimates the node value based on outgoing links.\n",
    "\n",
    "https://en.wikipedia.org/wiki/HITS_algorithm"
   ]
  },
  {
   "cell_type": "code",
   "execution_count": 0,
   "metadata": {
    "colab": {},
    "colab_type": "code",
    "id": "WXNHRdzUVFHz"
   },
   "outputs": [],
   "source": [
    "if not os.path.isfile('data/fea_sample/hits.p'):\n",
    "    hits = nx.hits(train_graph, max_iter=100, tol=1e-08, nstart=None, normalized=True)\n",
    "    pickle.dump(hits,open('data/fea_sample/hits.p','wb'))\n",
    "else:\n",
    "    hits = pickle.load(open('data/fea_sample/hits.p','rb'))"
   ]
  },
  {
   "cell_type": "code",
   "execution_count": 0,
   "metadata": {
    "colab": {},
    "colab_type": "code",
    "id": "PSUwSZBVVFH3",
    "outputId": "77448253-5409-4229-f0be-b8dbc14d7f46"
   },
   "outputs": [
    {
     "name": "stdout",
     "output_type": "stream",
     "text": [
      "min 0.0\n",
      "max 0.004868653378780953\n",
      "mean 5.615699699344123e-07\n"
     ]
    }
   ],
   "source": [
    "print('min',hits[0][min(hits[0], key=hits[0].get)])\n",
    "print('max',hits[0][max(hits[0], key=hits[0].get)])\n",
    "print('mean',float(sum(hits[0].values())) / len(hits[0]))"
   ]
  },
  {
   "cell_type": "markdown",
   "metadata": {
    "colab_type": "text",
    "id": "ZZtowOLZVFH6"
   },
   "source": [
    "# 5. Featurization"
   ]
  },
  {
   "cell_type": "markdown",
   "metadata": {
    "colab_type": "text",
    "id": "o6NnRWmLVFH6"
   },
   "source": [
    "## 5. 1 Reading a sample of Data from both train and test"
   ]
  },
  {
   "cell_type": "code",
   "execution_count": 0,
   "metadata": {
    "colab": {},
    "colab_type": "code",
    "id": "wgHje1UVVFH8"
   },
   "outputs": [],
   "source": [
    "import random\n",
    "if os.path.isfile('data/after_eda/train_after_eda.csv'):\n",
    "    filename = \"data/after_eda/train_after_eda.csv\"\n",
    "    # you uncomment this line, if you dont know the lentgh of the file name\n",
    "    # here we have hardcoded the number of lines as 15100030\n",
    "    # n_train = sum(1 for line in open(filename)) #number of records in file (excludes header)\n",
    "    n_train =  15100028\n",
    "    s = 100000 #desired sample size\n",
    "    skip_train = sorted(random.sample(range(1,n_train+1),n_train-s))\n",
    "    #https://stackoverflow.com/a/22259008/4084039"
   ]
  },
  {
   "cell_type": "code",
   "execution_count": 0,
   "metadata": {
    "colab": {},
    "colab_type": "code",
    "id": "zOzuRFFlVFH-"
   },
   "outputs": [],
   "source": [
    "if os.path.isfile('data/after_eda/train_after_eda.csv'):\n",
    "    filename = \"data/after_eda/test_after_eda.csv\"\n",
    "    # you uncomment this line, if you dont know the lentgh of the file name\n",
    "    # here we have hardcoded the number of lines as 3775008\n",
    "    # n_test = sum(1 for line in open(filename)) #number of records in file (excludes header)\n",
    "    n_test = 3775006\n",
    "    s = 50000 #desired sample size\n",
    "    skip_test = sorted(random.sample(range(1,n_test+1),n_test-s))\n",
    "    #https://stackoverflow.com/a/22259008/4084039"
   ]
  },
  {
   "cell_type": "code",
   "execution_count": 0,
   "metadata": {
    "colab": {},
    "colab_type": "code",
    "id": "3D_SeUCOVFH_",
    "outputId": "322902a4-0420-4b99-8606-5fd0de4bbea4"
   },
   "outputs": [
    {
     "name": "stdout",
     "output_type": "stream",
     "text": [
      "Number of rows in the train data file: 15100028\n",
      "Number of rows we are going to elimiate in train data are 15000028\n",
      "Number of rows in the test data file: 3775006\n",
      "Number of rows we are going to elimiate in test data are 3725006\n"
     ]
    }
   ],
   "source": [
    "print(\"Number of rows in the train data file:\", n_train)\n",
    "print(\"Number of rows we are going to elimiate in train data are\",len(skip_train))\n",
    "print(\"Number of rows in the test data file:\", n_test)\n",
    "print(\"Number of rows we are going to elimiate in test data are\",len(skip_test))"
   ]
  },
  {
   "cell_type": "code",
   "execution_count": 0,
   "metadata": {
    "colab": {},
    "colab_type": "code",
    "id": "pCisf6PpVFID",
    "outputId": "daf2af43-3f98-4466-ad99-03bc54464714"
   },
   "outputs": [
    {
     "name": "stdout",
     "output_type": "stream",
     "text": [
      "Our train matrix size  (100002, 3)\n"
     ]
    },
    {
     "data": {
      "text/html": [
       "<div>\n",
       "<style scoped>\n",
       "    .dataframe tbody tr th:only-of-type {\n",
       "        vertical-align: middle;\n",
       "    }\n",
       "\n",
       "    .dataframe tbody tr th {\n",
       "        vertical-align: top;\n",
       "    }\n",
       "\n",
       "    .dataframe thead th {\n",
       "        text-align: right;\n",
       "    }\n",
       "</style>\n",
       "<table border=\"1\" class=\"dataframe\">\n",
       "  <thead>\n",
       "    <tr style=\"text-align: right;\">\n",
       "      <th></th>\n",
       "      <th>source_node</th>\n",
       "      <th>destination_node</th>\n",
       "      <th>indicator_link</th>\n",
       "    </tr>\n",
       "  </thead>\n",
       "  <tbody>\n",
       "    <tr>\n",
       "      <th>0</th>\n",
       "      <td>273084</td>\n",
       "      <td>1505602</td>\n",
       "      <td>1</td>\n",
       "    </tr>\n",
       "    <tr>\n",
       "      <th>1</th>\n",
       "      <td>832016</td>\n",
       "      <td>1543415</td>\n",
       "      <td>1</td>\n",
       "    </tr>\n",
       "  </tbody>\n",
       "</table>\n",
       "</div>"
      ],
      "text/plain": [
       "   source_node  destination_node  indicator_link\n",
       "0       273084           1505602               1\n",
       "1       832016           1543415               1"
      ]
     },
     "execution_count": 49,
     "metadata": {
      "tags": []
     },
     "output_type": "execute_result"
    }
   ],
   "source": [
    "df_final_train = pd.read_csv('data/after_eda/train_after_eda.csv', skiprows=skip_train, names=['source_node', 'destination_node'])\n",
    "df_final_train['indicator_link'] = pd.read_csv('data/train_y.csv', skiprows=skip_train, names=['indicator_link'])\n",
    "print(\"Our train matrix size \",df_final_train.shape)\n",
    "df_final_train.head(2)"
   ]
  },
  {
   "cell_type": "code",
   "execution_count": 0,
   "metadata": {
    "colab": {},
    "colab_type": "code",
    "id": "tFn1RkdyVFIH",
    "outputId": "1ca99e70-6d2a-45f2-f51c-fd3b1211ad20"
   },
   "outputs": [
    {
     "name": "stdout",
     "output_type": "stream",
     "text": [
      "Our test matrix size  (50002, 3)\n"
     ]
    },
    {
     "data": {
      "text/html": [
       "<div>\n",
       "<style scoped>\n",
       "    .dataframe tbody tr th:only-of-type {\n",
       "        vertical-align: middle;\n",
       "    }\n",
       "\n",
       "    .dataframe tbody tr th {\n",
       "        vertical-align: top;\n",
       "    }\n",
       "\n",
       "    .dataframe thead th {\n",
       "        text-align: right;\n",
       "    }\n",
       "</style>\n",
       "<table border=\"1\" class=\"dataframe\">\n",
       "  <thead>\n",
       "    <tr style=\"text-align: right;\">\n",
       "      <th></th>\n",
       "      <th>source_node</th>\n",
       "      <th>destination_node</th>\n",
       "      <th>indicator_link</th>\n",
       "    </tr>\n",
       "  </thead>\n",
       "  <tbody>\n",
       "    <tr>\n",
       "      <th>0</th>\n",
       "      <td>848424</td>\n",
       "      <td>784690</td>\n",
       "      <td>1</td>\n",
       "    </tr>\n",
       "    <tr>\n",
       "      <th>1</th>\n",
       "      <td>483294</td>\n",
       "      <td>1255532</td>\n",
       "      <td>1</td>\n",
       "    </tr>\n",
       "  </tbody>\n",
       "</table>\n",
       "</div>"
      ],
      "text/plain": [
       "   source_node  destination_node  indicator_link\n",
       "0       848424            784690               1\n",
       "1       483294           1255532               1"
      ]
     },
     "execution_count": 50,
     "metadata": {
      "tags": []
     },
     "output_type": "execute_result"
    }
   ],
   "source": [
    "df_final_test = pd.read_csv('data/after_eda/test_after_eda.csv', skiprows=skip_test, names=['source_node', 'destination_node'])\n",
    "df_final_test['indicator_link'] = pd.read_csv('data/test_y.csv', skiprows=skip_test, names=['indicator_link'])\n",
    "print(\"Our test matrix size \",df_final_test.shape)\n",
    "df_final_test.head(2)"
   ]
  },
  {
   "cell_type": "markdown",
   "metadata": {
    "colab_type": "text",
    "id": "gIaOWDaDVFIJ"
   },
   "source": [
    "## 5.2 Adding a set of features\n",
    "\n",
    "__we will create these each of these features for both train and test data points__\n",
    "<ol>\n",
    "<li>jaccard_followers</li>\n",
    "<li>jaccard_followees</li>\n",
    "<li>cosine_followers</li>\n",
    "<li>cosine_followees</li>\n",
    "<li>num_followers_s</li>\n",
    "<li>num_followees_s</li>\n",
    "<li>num_followers_d</li>\n",
    "<li>num_followees_d</li>\n",
    "<li>inter_followers</li>\n",
    "<li>inter_followees</li>\n",
    "</ol>"
   ]
  },
  {
   "cell_type": "code",
   "execution_count": 0,
   "metadata": {
    "colab": {},
    "colab_type": "code",
    "id": "2qTkOiBcVFIJ"
   },
   "outputs": [],
   "source": [
    "if not os.path.isfile('data/fea_sample/storage_sample_stage1.h5'):\n",
    "    #mapping jaccrd followers to train and test data\n",
    "    df_final_train['jaccard_followers'] = df_final_train.apply(lambda row:\n",
    "                                            jaccard_for_followers(row['source_node'],row['destination_node']),axis=1)\n",
    "    df_final_test['jaccard_followers'] = df_final_test.apply(lambda row:\n",
    "                                            jaccard_for_followers(row['source_node'],row['destination_node']),axis=1)\n",
    "\n",
    "    #mapping jaccrd followees to train and test data\n",
    "    df_final_train['jaccard_followees'] = df_final_train.apply(lambda row:\n",
    "                                            jaccard_for_followees(row['source_node'],row['destination_node']),axis=1)\n",
    "    df_final_test['jaccard_followees'] = df_final_test.apply(lambda row:\n",
    "                                            jaccard_for_followees(row['source_node'],row['destination_node']),axis=1)\n",
    "    \n",
    "\n",
    "        #mapping jaccrd followers to train and test data\n",
    "    df_final_train['cosine_followers'] = df_final_train.apply(lambda row:\n",
    "                                            cosine_for_followers(row['source_node'],row['destination_node']),axis=1)\n",
    "    df_final_test['cosine_followers'] = df_final_test.apply(lambda row:\n",
    "                                            cosine_for_followers(row['source_node'],row['destination_node']),axis=1)\n",
    "\n",
    "    #mapping jaccrd followees to train and test data\n",
    "    df_final_train['cosine_followees'] = df_final_train.apply(lambda row:\n",
    "                                            cosine_for_followees(row['source_node'],row['destination_node']),axis=1)\n",
    "    df_final_test['cosine_followees'] = df_final_test.apply(lambda row:\n",
    "                                            cosine_for_followees(row['source_node'],row['destination_node']),axis=1)"
   ]
  },
  {
   "cell_type": "code",
   "execution_count": 0,
   "metadata": {
    "colab": {},
    "colab_type": "code",
    "id": "fz2eZpSnVFIL"
   },
   "outputs": [],
   "source": [
    "def compute_features_stage1(df_final):\n",
    "    #calculating no of followers followees for source and destination\n",
    "    #calculating intersection of followers and followees for source and destination\n",
    "    num_followers_s=[]\n",
    "    num_followees_s=[]\n",
    "    num_followers_d=[]\n",
    "    num_followees_d=[]\n",
    "    inter_followers=[]\n",
    "    inter_followees=[]\n",
    "    for i,row in df_final.iterrows():\n",
    "        try:\n",
    "            s1=set(train_graph.predecessors(row['source_node']))\n",
    "            s2=set(train_graph.successors(row['source_node']))\n",
    "        except:\n",
    "            s1 = set()\n",
    "            s2 = set()\n",
    "        try:\n",
    "            d1=set(train_graph.predecessors(row['destination_node']))\n",
    "            d2=set(train_graph.successors(row['destination_node']))\n",
    "        except:\n",
    "            d1 = set()\n",
    "            d2 = set()\n",
    "        num_followers_s.append(len(s1))\n",
    "        num_followees_s.append(len(s2))\n",
    "\n",
    "        num_followers_d.append(len(d1))\n",
    "        num_followees_d.append(len(d2))\n",
    "\n",
    "        inter_followers.append(len(s1.intersection(d1)))\n",
    "        inter_followees.append(len(s2.intersection(d2)))\n",
    "    \n",
    "    return num_followers_s, num_followers_d, num_followees_s, num_followees_d, inter_followers, inter_followees"
   ]
  },
  {
   "cell_type": "code",
   "execution_count": 0,
   "metadata": {
    "colab": {},
    "colab_type": "code",
    "id": "VFc60kcRVFIN"
   },
   "outputs": [],
   "source": [
    "if not os.path.isfile('data/fea_sample/storage_sample_stage1.h5'):\n",
    "    df_final_train['num_followers_s'], df_final_train['num_followers_d'], \\\n",
    "    df_final_train['num_followees_s'], df_final_train['num_followees_d'], \\\n",
    "    df_final_train['inter_followers'], df_final_train['inter_followees']= compute_features_stage1(df_final_train)\n",
    "    \n",
    "    df_final_test['num_followers_s'], df_final_test['num_followers_d'], \\\n",
    "    df_final_test['num_followees_s'], df_final_test['num_followees_d'], \\\n",
    "    df_final_test['inter_followers'], df_final_test['inter_followees']= compute_features_stage1(df_final_test)\n",
    "    \n",
    "    hdf = HDFStore('data/fea_sample/storage_sample_stage1.h5')\n",
    "    hdf.put('train_df',df_final_train, format='table', data_columns=True)\n",
    "    hdf.put('test_df',df_final_test, format='table', data_columns=True)\n",
    "    hdf.close()\n",
    "else:\n",
    "    df_final_train = read_hdf('data/fea_sample/storage_sample_stage1.h5', 'train_df',mode='r')\n",
    "    df_final_test = read_hdf('data/fea_sample/storage_sample_stage1.h5', 'test_df',mode='r')"
   ]
  },
  {
   "cell_type": "markdown",
   "metadata": {
    "colab_type": "text",
    "id": "go_e8hxxVFIO"
   },
   "source": [
    "## 5.3 Adding new set of features\n",
    "\n",
    "__we will create these each of these features for both train and test data points__\n",
    "<ol>\n",
    "<li>adar index</li>\n",
    "<li>is following back</li>\n",
    "<li>belongs to same weakly connect components</li>\n",
    "<li>shortest path between source and destination</li>\n",
    "</ol>"
   ]
  },
  {
   "cell_type": "code",
   "execution_count": 0,
   "metadata": {
    "colab": {},
    "colab_type": "code",
    "id": "LqB0Peg0VFIP"
   },
   "outputs": [],
   "source": [
    "if not os.path.isfile('data/fea_sample/storage_sample_stage2.h5'):\n",
    "    #mapping adar index on train\n",
    "    df_final_train['adar_index'] = df_final_train.apply(lambda row: calc_adar_in(row['source_node'],row['destination_node']),axis=1)\n",
    "    #mapping adar index on test\n",
    "    df_final_test['adar_index'] = df_final_test.apply(lambda row: calc_adar_in(row['source_node'],row['destination_node']),axis=1)\n",
    "\n",
    "    #--------------------------------------------------------------------------------------------------------\n",
    "    #mapping followback or not on train\n",
    "    df_final_train['follows_back'] = df_final_train.apply(lambda row: follows_back(row['source_node'],row['destination_node']),axis=1)\n",
    "\n",
    "    #mapping followback or not on test\n",
    "    df_final_test['follows_back'] = df_final_test.apply(lambda row: follows_back(row['source_node'],row['destination_node']),axis=1)\n",
    "\n",
    "    #--------------------------------------------------------------------------------------------------------\n",
    "    #mapping same component of wcc or not on train\n",
    "    df_final_train['same_comp'] = df_final_train.apply(lambda row: belongs_to_same_wcc(row['source_node'],row['destination_node']),axis=1)\n",
    "\n",
    "    ##mapping same component of wcc or not on train\n",
    "    df_final_test['same_comp'] = df_final_test.apply(lambda row: belongs_to_same_wcc(row['source_node'],row['destination_node']),axis=1)\n",
    "    \n",
    "    #--------------------------------------------------------------------------------------------------------\n",
    "    #mapping shortest path on train \n",
    "    df_final_train['shortest_path'] = df_final_train.apply(lambda row: compute_shortest_path_length(row['source_node'],row['destination_node']),axis=1)\n",
    "    #mapping shortest path on test\n",
    "    df_final_test['shortest_path'] = df_final_test.apply(lambda row: compute_shortest_path_length(row['source_node'],row['destination_node']),axis=1)\n",
    "\n",
    "    hdf = HDFStore('data/fea_sample/storage_sample_stage2.h5')\n",
    "    hdf.put('train_df',df_final_train, format='table', data_columns=True)\n",
    "    hdf.put('test_df',df_final_test, format='table', data_columns=True)\n",
    "    hdf.close()\n",
    "else:\n",
    "    df_final_train = read_hdf('data/fea_sample/storage_sample_stage2.h5', 'train_df',mode='r')\n",
    "    df_final_test = read_hdf('data/fea_sample/storage_sample_stage2.h5', 'test_df',mode='r')"
   ]
  },
  {
   "cell_type": "markdown",
   "metadata": {
    "colab_type": "text",
    "id": "HJ8Dbma_VFIR"
   },
   "source": [
    "## 5.4 Adding new set of features\n",
    "\n",
    "__we will create these each of these features for both train and test data points__\n",
    "<ol>\n",
    "<li>Weight Features\n",
    "    <ul>\n",
    "        <li>weight of incoming edges</li>\n",
    "        <li>weight of outgoing edges</li>\n",
    "        <li>weight of incoming edges + weight of outgoing edges</li>\n",
    "        <li>weight of incoming edges * weight of outgoing edges</li>\n",
    "        <li>2*weight of incoming edges + weight of outgoing edges</li>\n",
    "        <li>weight of incoming edges + 2*weight of outgoing edges</li>\n",
    "    </ul>\n",
    "</li>\n",
    "<li>Page Ranking of source</li>\n",
    "<li>Page Ranking of dest</li>\n",
    "<li>katz of source</li>\n",
    "<li>katz of dest</li>\n",
    "<li>hubs of source</li>\n",
    "<li>hubs of dest</li>\n",
    "<li>authorities_s of source</li>\n",
    "<li>authorities_s of dest</li>\n",
    "</ol>"
   ]
  },
  {
   "cell_type": "markdown",
   "metadata": {
    "colab_type": "text",
    "id": "iVHI2jtNVFIS"
   },
   "source": [
    "#### Weight Features"
   ]
  },
  {
   "cell_type": "markdown",
   "metadata": {
    "colab_type": "text",
    "id": "rXmUYF9FVFIT"
   },
   "source": [
    "In order to determine the similarity of nodes, an edge weight value was calculated between nodes. Edge weight decreases as the neighbor count goes up. Intuitively, consider one million people following a celebrity on a social network then chances are most of them never met each other or the celebrity. On the other hand, if a user has 30 contacts in his/her social network, the chances are higher that many of them know each other. \n",
    "`credit` - Graph-based Features for Supervised Link Prediction\n",
    "William Cukierski, Benjamin Hamner, Bo Yang"
   ]
  },
  {
   "cell_type": "markdown",
   "metadata": {
    "colab_type": "text",
    "id": "Qzbs2no7VFIV"
   },
   "source": [
    "\\begin{equation}\n",
    "W = \\frac{1}{\\sqrt{1+|X|}}\n",
    "\\end{equation}"
   ]
  },
  {
   "cell_type": "markdown",
   "metadata": {
    "colab_type": "text",
    "id": "kkzUPrWaVFIV"
   },
   "source": [
    "it is directed graph so calculated Weighted in and Weighted out differently"
   ]
  },
  {
   "cell_type": "code",
   "execution_count": 0,
   "metadata": {
    "colab": {},
    "colab_type": "code",
    "id": "FgNMzzTbVFIW",
    "outputId": "7e8e6d88-8bd6-45f6-f80e-82b093c18974"
   },
   "outputs": [
    {
     "name": "stderr",
     "output_type": "stream",
     "text": [
      "100%|████████████████████████████████████████████████████████████████████| 1780722/1780722 [00:11<00:00, 152682.24it/s]\n"
     ]
    }
   ],
   "source": [
    "#weight for source and destination of each link\n",
    "Weight_in = {}\n",
    "Weight_out = {}\n",
    "for i in  tqdm(train_graph.nodes()):\n",
    "    s1=set(train_graph.predecessors(i))\n",
    "    w_in = 1.0/(np.sqrt(1+len(s1)))\n",
    "    Weight_in[i]=w_in\n",
    "    \n",
    "    s2=set(train_graph.successors(i))\n",
    "    w_out = 1.0/(np.sqrt(1+len(s2)))\n",
    "    Weight_out[i]=w_out\n",
    "    \n",
    "#for imputing with mean\n",
    "mean_weight_in = np.mean(list(Weight_in.values()))\n",
    "mean_weight_out = np.mean(list(Weight_out.values()))"
   ]
  },
  {
   "cell_type": "code",
   "execution_count": 0,
   "metadata": {
    "colab": {},
    "colab_type": "code",
    "id": "AF4yPhIOVFIY"
   },
   "outputs": [],
   "source": [
    "if not os.path.isfile('data/fea_sample/storage_sample_stage3.h5'):\n",
    "    #mapping to pandas train\n",
    "    df_final_train['weight_in'] = df_final_train.destination_node.apply(lambda x: Weight_in.get(x,mean_weight_in))\n",
    "    df_final_train['weight_out'] = df_final_train.source_node.apply(lambda x: Weight_out.get(x,mean_weight_out))\n",
    "\n",
    "    #mapping to pandas test\n",
    "    df_final_test['weight_in'] = df_final_test.destination_node.apply(lambda x: Weight_in.get(x,mean_weight_in))\n",
    "    df_final_test['weight_out'] = df_final_test.source_node.apply(lambda x: Weight_out.get(x,mean_weight_out))\n",
    "\n",
    "\n",
    "    #some features engineerings on the in and out weights\n",
    "    df_final_train['weight_f1'] = df_final_train.weight_in + df_final_train.weight_out\n",
    "    df_final_train['weight_f2'] = df_final_train.weight_in * df_final_train.weight_out\n",
    "    df_final_train['weight_f3'] = (2*df_final_train.weight_in + 1*df_final_train.weight_out)\n",
    "    df_final_train['weight_f4'] = (1*df_final_train.weight_in + 2*df_final_train.weight_out)\n",
    "\n",
    "    #some features engineerings on the in and out weights\n",
    "    df_final_test['weight_f1'] = df_final_test.weight_in + df_final_test.weight_out\n",
    "    df_final_test['weight_f2'] = df_final_test.weight_in * df_final_test.weight_out\n",
    "    df_final_test['weight_f3'] = (2*df_final_test.weight_in + 1*df_final_test.weight_out)\n",
    "    df_final_test['weight_f4'] = (1*df_final_test.weight_in + 2*df_final_test.weight_out)"
   ]
  },
  {
   "cell_type": "code",
   "execution_count": 4,
   "metadata": {
    "colab": {},
    "colab_type": "code",
    "id": "uhxzhQ9aVFIa"
   },
   "outputs": [],
   "source": [
    "if not os.path.isfile('data/fea_sample/storage_sample_stage3.h5'):\n",
    "    \n",
    "    #page rank for source and destination in Train and Test\n",
    "    #if anything not there in train graph then adding mean page rank \n",
    "    df_final_train['page_rank_s'] = df_final_train.source_node.apply(lambda x:pr.get(x,mean_pr))\n",
    "    df_final_train['page_rank_d'] = df_final_train.destination_node.apply(lambda x:pr.get(x,mean_pr))\n",
    "\n",
    "    df_final_test['page_rank_s'] = df_final_test.source_node.apply(lambda x:pr.get(x,mean_pr))\n",
    "    df_final_test['page_rank_d'] = df_final_test.destination_node.apply(lambda x:pr.get(x,mean_pr))\n",
    "    #================================================================================\n",
    "\n",
    "    #Katz centrality score for source and destination in Train and test\n",
    "    #if anything not there in train graph then adding mean katz score\n",
    "    df_final_train['katz_s'] = df_final_train.source_node.apply(lambda x: katz.get(x,mean_katz))\n",
    "    df_final_train['katz_d'] = df_final_train.destination_node.apply(lambda x: katz.get(x,mean_katz))\n",
    "\n",
    "    df_final_test['katz_s'] = df_final_test.source_node.apply(lambda x: katz.get(x,mean_katz))\n",
    "    df_final_test['katz_d'] = df_final_test.destination_node.apply(lambda x: katz.get(x,mean_katz))\n",
    "    #================================================================================\n",
    "\n",
    "    #Hits algorithm score for source and destination in Train and test\n",
    "    #if anything not there in train graph then adding 0\n",
    "    df_final_train['hubs_s'] = df_final_train.source_node.apply(lambda x: hits[0].get(x,0))\n",
    "    df_final_train['hubs_d'] = df_final_train.destination_node.apply(lambda x: hits[0].get(x,0))\n",
    "\n",
    "    df_final_test['hubs_s'] = df_final_test.source_node.apply(lambda x: hits[0].get(x,0))\n",
    "    df_final_test['hubs_d'] = df_final_test.destination_node.apply(lambda x: hits[0].get(x,0))\n",
    "    #================================================================================\n",
    "\n",
    "    #Hits algorithm score for source and destination in Train and Test\n",
    "    #if anything not there in train graph then adding 0\n",
    "    df_final_train['authorities_s'] = df_final_train.source_node.apply(lambda x: hits[1].get(x,0))\n",
    "    df_final_train['authorities_d'] = df_final_train.destination_node.apply(lambda x: hits[1].get(x,0))\n",
    "\n",
    "    df_final_test['authorities_s'] = df_final_test.source_node.apply(lambda x: hits[1].get(x,0))\n",
    "    df_final_test['authorities_d'] = df_final_test.destination_node.apply(lambda x: hits[1].get(x,0))\n",
    "    #================================================================================\n",
    "\n",
    "    hdf = HDFStore('data/fea_sample/storage_sample_stage3.h5')\n",
    "    hdf.put('train_df',df_final_train, format='table', data_columns=True)\n",
    "    hdf.put('test_df',df_final_test, format='table', data_columns=True)\n",
    "    hdf.close()\n",
    "else:\n",
    "    df_final_train = read_hdf('data/fea_sample/storage_sample_stage3.h5', 'train_df',mode='r')\n",
    "    df_final_test = read_hdf('data/fea_sample/storage_sample_stage3.h5', 'test_df',mode='r')"
   ]
  },
  {
   "cell_type": "markdown",
   "metadata": {
    "colab_type": "text",
    "id": "p6xkDfD-VFIb"
   },
   "source": [
    "## 5.5 Adding new set of features\n",
    "\n",
    "__we will create these each of these features for both train and test data points__\n",
    "<ol>\n",
    "<li>SVD features for both source and destination</li>\n",
    "</ol>"
   ]
  },
  {
   "cell_type": "code",
   "execution_count": 12,
   "metadata": {
    "colab": {},
    "colab_type": "code",
    "id": "WQO6E65eVFIc"
   },
   "outputs": [],
   "source": [
    "def svd(x, S):\n",
    "    try:\n",
    "        z = sadj_dict[x]\n",
    "        return S[z]\n",
    "    except:\n",
    "        return [0,0,0,0,0,0]"
   ]
  },
  {
   "cell_type": "code",
   "execution_count": 13,
   "metadata": {
    "colab": {},
    "colab_type": "code",
    "id": "9sOyLwvNVFId"
   },
   "outputs": [],
   "source": [
    "#for svd features to get feature vector creating a dict node val and inedx in svd vector\n",
    "sadj_col = sorted(train_graph.nodes())\n",
    "sadj_dict = { val:idx for idx,val in enumerate(sadj_col)}"
   ]
  },
  {
   "cell_type": "code",
   "execution_count": 14,
   "metadata": {
    "colab": {},
    "colab_type": "code",
    "id": "zLSt8fGVVFIg"
   },
   "outputs": [],
   "source": [
    "Adj = nx.adjacency_matrix(train_graph,nodelist=sorted(train_graph.nodes())).asfptype()"
   ]
  },
  {
   "cell_type": "code",
   "execution_count": 15,
   "metadata": {
    "colab": {},
    "colab_type": "code",
    "id": "soq-VAHlVFIh",
    "outputId": "3f9bfb32-004f-4698-e415-469243250130"
   },
   "outputs": [
    {
     "name": "stdout",
     "output_type": "stream",
     "text": [
      "Adjacency matrix Shape (1780722, 1780722)\n",
      "U Shape (1780722, 6)\n",
      "V Shape (6, 1780722)\n",
      "s Shape (6,)\n"
     ]
    }
   ],
   "source": [
    "U, s, V = svds(Adj, k = 6)\n",
    "print('Adjacency matrix Shape',Adj.shape)\n",
    "print('U Shape',U.shape)\n",
    "print('V Shape',V.shape)\n",
    "print('s Shape',s.shape)"
   ]
  },
  {
   "cell_type": "code",
   "execution_count": 16,
   "metadata": {
    "colab": {},
    "colab_type": "code",
    "id": "ls5fqLFhVFIm"
   },
   "outputs": [],
   "source": [
    "if not os.path.isfile('data/fea_sample/storage_sample_stage4.h5'):\n",
    "    #===================================================================================================\n",
    "    \n",
    "    df_final_train[['svd_u_s_1', 'svd_u_s_2','svd_u_s_3', 'svd_u_s_4', 'svd_u_s_5', 'svd_u_s_6']] = \\\n",
    "    df_final_train.source_node.apply(lambda x: svd(x, U)).apply(pd.Series)\n",
    "    \n",
    "    df_final_train[['svd_u_d_1', 'svd_u_d_2', 'svd_u_d_3', 'svd_u_d_4', 'svd_u_d_5','svd_u_d_6']] = \\\n",
    "    df_final_train.destination_node.apply(lambda x: svd(x, U)).apply(pd.Series)\n",
    "    #===================================================================================================\n",
    "    \n",
    "    df_final_train[['svd_v_s_1','svd_v_s_2', 'svd_v_s_3', 'svd_v_s_4', 'svd_v_s_5', 'svd_v_s_6',]] = \\\n",
    "    df_final_train.source_node.apply(lambda x: svd(x, V.T)).apply(pd.Series)\n",
    "\n",
    "    df_final_train[['svd_v_d_1', 'svd_v_d_2', 'svd_v_d_3', 'svd_v_d_4', 'svd_v_d_5','svd_v_d_6']] = \\\n",
    "    df_final_train.destination_node.apply(lambda x: svd(x, V.T)).apply(pd.Series)\n",
    "    #===================================================================================================\n",
    "    \n",
    "    df_final_test[['svd_u_s_1', 'svd_u_s_2','svd_u_s_3', 'svd_u_s_4', 'svd_u_s_5', 'svd_u_s_6']] = \\\n",
    "    df_final_test.source_node.apply(lambda x: svd(x, U)).apply(pd.Series)\n",
    "    \n",
    "    df_final_test[['svd_u_d_1', 'svd_u_d_2', 'svd_u_d_3', 'svd_u_d_4', 'svd_u_d_5','svd_u_d_6']] = \\\n",
    "    df_final_test.destination_node.apply(lambda x: svd(x, U)).apply(pd.Series)\n",
    "\n",
    "    #===================================================================================================\n",
    "    \n",
    "    df_final_test[['svd_v_s_1','svd_v_s_2', 'svd_v_s_3', 'svd_v_s_4', 'svd_v_s_5', 'svd_v_s_6',]] = \\\n",
    "    df_final_test.source_node.apply(lambda x: svd(x, V.T)).apply(pd.Series)\n",
    "\n",
    "    df_final_test[['svd_v_d_1', 'svd_v_d_2', 'svd_v_d_3', 'svd_v_d_4', 'svd_v_d_5','svd_v_d_6']] = \\\n",
    "    df_final_test.destination_node.apply(lambda x: svd(x, V.T)).apply(pd.Series)\n",
    "    #===================================================================================================\n",
    "\n",
    "    hdf = HDFStore('data/fea_sample/storage_sample_stage4.h5')\n",
    "    hdf.put('train_df',df_final_train, format='table', data_columns=True)\n",
    "    hdf.put('test_df',df_final_test, format='table', data_columns=True)\n",
    "    hdf.close()"
   ]
  },
  {
   "cell_type": "code",
   "execution_count": 0,
   "metadata": {
    "colab": {},
    "colab_type": "code",
    "id": "0-hBtlkzVFIn"
   },
   "outputs": [],
   "source": [
    "# prepared and stored the data from machine learning models\n",
    "# pelase check the FB_Models.ipynb"
   ]
  },
  {
   "cell_type": "code",
   "execution_count": 17,
   "metadata": {},
   "outputs": [
    {
     "data": {
      "text/html": [
       "<div>\n",
       "<style scoped>\n",
       "    .dataframe tbody tr th:only-of-type {\n",
       "        vertical-align: middle;\n",
       "    }\n",
       "\n",
       "    .dataframe tbody tr th {\n",
       "        vertical-align: top;\n",
       "    }\n",
       "\n",
       "    .dataframe thead th {\n",
       "        text-align: right;\n",
       "    }\n",
       "</style>\n",
       "<table border=\"1\" class=\"dataframe\">\n",
       "  <thead>\n",
       "    <tr style=\"text-align: right;\">\n",
       "      <th></th>\n",
       "      <th>weight_f1</th>\n",
       "      <th>weight_f2</th>\n",
       "      <th>weight_f3</th>\n",
       "      <th>weight_f4</th>\n",
       "      <th>page_rank_s</th>\n",
       "      <th>page_rank_d</th>\n",
       "      <th>katz_s</th>\n",
       "      <th>katz_d</th>\n",
       "      <th>hubs_s</th>\n",
       "      <th>hubs_d</th>\n",
       "      <th>...</th>\n",
       "      <th>svd_v_d_3</th>\n",
       "      <th>svd_v_d_4</th>\n",
       "      <th>svd_v_d_5</th>\n",
       "      <th>svd_v_d_6</th>\n",
       "      <th>followee_preferential_attachment</th>\n",
       "      <th>follower_preferential_attachment</th>\n",
       "      <th>train_u_s_dot</th>\n",
       "      <th>train_u_d_dot</th>\n",
       "      <th>s_dot</th>\n",
       "      <th>d_dot</th>\n",
       "    </tr>\n",
       "  </thead>\n",
       "  <tbody>\n",
       "    <tr>\n",
       "      <th>0</th>\n",
       "      <td>0.627964</td>\n",
       "      <td>0.094491</td>\n",
       "      <td>1.005929</td>\n",
       "      <td>0.877964</td>\n",
       "      <td>2.045290e-06</td>\n",
       "      <td>3.459963e-07</td>\n",
       "      <td>0.000773</td>\n",
       "      <td>0.000756</td>\n",
       "      <td>1.943132e-13</td>\n",
       "      <td>1.941103e-13</td>\n",
       "      <td>...</td>\n",
       "      <td>1.128586e-06</td>\n",
       "      <td>6.616730e-14</td>\n",
       "      <td>9.771079e-13</td>\n",
       "      <td>4.160001e-14</td>\n",
       "      <td>120</td>\n",
       "      <td>66</td>\n",
       "      <td>3.396011e-24</td>\n",
       "      <td>9.780549e-25</td>\n",
       "      <td>3.396011e-24</td>\n",
       "      <td>9.780549e-25</td>\n",
       "    </tr>\n",
       "    <tr>\n",
       "      <th>1</th>\n",
       "      <td>0.229598</td>\n",
       "      <td>0.013030</td>\n",
       "      <td>0.332196</td>\n",
       "      <td>0.356598</td>\n",
       "      <td>2.353458e-07</td>\n",
       "      <td>6.427660e-07</td>\n",
       "      <td>0.000845</td>\n",
       "      <td>0.001317</td>\n",
       "      <td>3.906648e-11</td>\n",
       "      <td>9.424102e-11</td>\n",
       "      <td>...</td>\n",
       "      <td>-3.112915e-10</td>\n",
       "      <td>6.738902e-02</td>\n",
       "      <td>2.607841e-11</td>\n",
       "      <td>2.372904e-09</td>\n",
       "      <td>8662</td>\n",
       "      <td>1598</td>\n",
       "      <td>2.490508e-25</td>\n",
       "      <td>1.835653e-25</td>\n",
       "      <td>2.490508e-25</td>\n",
       "      <td>1.835653e-25</td>\n",
       "    </tr>\n",
       "    <tr>\n",
       "      <th>2</th>\n",
       "      <td>0.339999</td>\n",
       "      <td>0.028653</td>\n",
       "      <td>0.525694</td>\n",
       "      <td>0.494302</td>\n",
       "      <td>6.211019e-07</td>\n",
       "      <td>5.179801e-07</td>\n",
       "      <td>0.000885</td>\n",
       "      <td>0.000855</td>\n",
       "      <td>7.730764e-114</td>\n",
       "      <td>4.067322e-114</td>\n",
       "      <td>...</td>\n",
       "      <td>-2.715741e-18</td>\n",
       "      <td>-1.792508e-17</td>\n",
       "      <td>2.236164e-18</td>\n",
       "      <td>-6.429151e-18</td>\n",
       "      <td>902</td>\n",
       "      <td>980</td>\n",
       "      <td>1.114951e-11</td>\n",
       "      <td>2.238777e-12</td>\n",
       "      <td>1.114951e-11</td>\n",
       "      <td>2.238777e-12</td>\n",
       "    </tr>\n",
       "    <tr>\n",
       "      <th>3</th>\n",
       "      <td>0.696923</td>\n",
       "      <td>0.117851</td>\n",
       "      <td>0.985599</td>\n",
       "      <td>1.105172</td>\n",
       "      <td>2.998153e-07</td>\n",
       "      <td>1.704245e-06</td>\n",
       "      <td>0.000739</td>\n",
       "      <td>0.000773</td>\n",
       "      <td>5.443738e-17</td>\n",
       "      <td>4.139999e-16</td>\n",
       "      <td>...</td>\n",
       "      <td>5.214019e-08</td>\n",
       "      <td>9.595842e-13</td>\n",
       "      <td>3.047045e-10</td>\n",
       "      <td>1.246592e-13</td>\n",
       "      <td>35</td>\n",
       "      <td>22</td>\n",
       "      <td>7.963277e-25</td>\n",
       "      <td>1.022343e-26</td>\n",
       "      <td>7.963277e-25</td>\n",
       "      <td>1.022343e-26</td>\n",
       "    </tr>\n",
       "    <tr>\n",
       "      <th>4</th>\n",
       "      <td>1.301511</td>\n",
       "      <td>0.301511</td>\n",
       "      <td>2.301511</td>\n",
       "      <td>1.603023</td>\n",
       "      <td>4.349180e-07</td>\n",
       "      <td>2.089590e-07</td>\n",
       "      <td>0.000751</td>\n",
       "      <td>0.000735</td>\n",
       "      <td>3.887821e-16</td>\n",
       "      <td>4.721269e-16</td>\n",
       "      <td>...</td>\n",
       "      <td>3.097681e-09</td>\n",
       "      <td>8.173215e-16</td>\n",
       "      <td>1.122941e-15</td>\n",
       "      <td>5.096952e-17</td>\n",
       "      <td>33</td>\n",
       "      <td>5</td>\n",
       "      <td>5.587275e-25</td>\n",
       "      <td>7.922819e-25</td>\n",
       "      <td>5.587275e-25</td>\n",
       "      <td>7.922819e-25</td>\n",
       "    </tr>\n",
       "    <tr>\n",
       "      <th>5</th>\n",
       "      <td>0.617739</td>\n",
       "      <td>0.095346</td>\n",
       "      <td>0.933967</td>\n",
       "      <td>0.919250</td>\n",
       "      <td>5.942343e-07</td>\n",
       "      <td>1.143388e-06</td>\n",
       "      <td>0.000767</td>\n",
       "      <td>0.000766</td>\n",
       "      <td>9.056178e-17</td>\n",
       "      <td>2.229857e-17</td>\n",
       "      <td>...</td>\n",
       "      <td>4.915210e-13</td>\n",
       "      <td>3.509644e-13</td>\n",
       "      <td>2.726586e-13</td>\n",
       "      <td>2.407994e-16</td>\n",
       "      <td>80</td>\n",
       "      <td>81</td>\n",
       "      <td>1.283842e-23</td>\n",
       "      <td>7.153952e-28</td>\n",
       "      <td>1.283842e-23</td>\n",
       "      <td>7.153952e-28</td>\n",
       "    </tr>\n",
       "    <tr>\n",
       "      <th>6</th>\n",
       "      <td>1.447214</td>\n",
       "      <td>0.447214</td>\n",
       "      <td>1.894427</td>\n",
       "      <td>2.447214</td>\n",
       "      <td>2.848986e-07</td>\n",
       "      <td>1.128758e-06</td>\n",
       "      <td>0.000735</td>\n",
       "      <td>0.000750</td>\n",
       "      <td>1.601784e-19</td>\n",
       "      <td>3.976197e-19</td>\n",
       "      <td>...</td>\n",
       "      <td>1.031040e-07</td>\n",
       "      <td>5.762078e-15</td>\n",
       "      <td>1.513900e-14</td>\n",
       "      <td>4.159354e-16</td>\n",
       "      <td>4</td>\n",
       "      <td>5</td>\n",
       "      <td>1.159333e-24</td>\n",
       "      <td>3.343639e-25</td>\n",
       "      <td>1.159333e-24</td>\n",
       "      <td>3.343639e-25</td>\n",
       "    </tr>\n",
       "    <tr>\n",
       "      <th>7</th>\n",
       "      <td>0.853553</td>\n",
       "      <td>0.176777</td>\n",
       "      <td>1.353553</td>\n",
       "      <td>1.207107</td>\n",
       "      <td>6.694862e-07</td>\n",
       "      <td>5.254600e-07</td>\n",
       "      <td>0.000763</td>\n",
       "      <td>0.000743</td>\n",
       "      <td>5.606024e-16</td>\n",
       "      <td>3.412867e-17</td>\n",
       "      <td>...</td>\n",
       "      <td>2.288945e-12</td>\n",
       "      <td>7.654468e-15</td>\n",
       "      <td>1.454795e-13</td>\n",
       "      <td>8.228869e-17</td>\n",
       "      <td>49</td>\n",
       "      <td>24</td>\n",
       "      <td>1.689524e-20</td>\n",
       "      <td>5.429547e-21</td>\n",
       "      <td>1.689524e-20</td>\n",
       "      <td>5.429547e-21</td>\n",
       "    </tr>\n",
       "    <tr>\n",
       "      <th>8</th>\n",
       "      <td>0.583489</td>\n",
       "      <td>0.084515</td>\n",
       "      <td>0.850750</td>\n",
       "      <td>0.899717</td>\n",
       "      <td>1.466870e-06</td>\n",
       "      <td>1.373409e-06</td>\n",
       "      <td>0.000757</td>\n",
       "      <td>0.000781</td>\n",
       "      <td>5.731343e-17</td>\n",
       "      <td>6.754239e-16</td>\n",
       "      <td>...</td>\n",
       "      <td>5.703949e-13</td>\n",
       "      <td>1.782188e-11</td>\n",
       "      <td>1.800731e-13</td>\n",
       "      <td>3.318310e-15</td>\n",
       "      <td>81</td>\n",
       "      <td>91</td>\n",
       "      <td>6.775661e-20</td>\n",
       "      <td>1.941393e-20</td>\n",
       "      <td>6.775661e-20</td>\n",
       "      <td>1.941393e-20</td>\n",
       "    </tr>\n",
       "    <tr>\n",
       "      <th>9</th>\n",
       "      <td>0.930904</td>\n",
       "      <td>0.204124</td>\n",
       "      <td>1.508254</td>\n",
       "      <td>1.284457</td>\n",
       "      <td>6.630224e-07</td>\n",
       "      <td>2.618341e-07</td>\n",
       "      <td>0.000758</td>\n",
       "      <td>0.000739</td>\n",
       "      <td>2.494454e-16</td>\n",
       "      <td>2.271664e-17</td>\n",
       "      <td>...</td>\n",
       "      <td>1.020691e-07</td>\n",
       "      <td>5.219094e-15</td>\n",
       "      <td>4.038262e-14</td>\n",
       "      <td>2.351526e-16</td>\n",
       "      <td>21</td>\n",
       "      <td>14</td>\n",
       "      <td>3.192812e-03</td>\n",
       "      <td>9.068719e-04</td>\n",
       "      <td>3.192812e-03</td>\n",
       "      <td>9.068719e-04</td>\n",
       "    </tr>\n",
       "  </tbody>\n",
       "</table>\n",
       "<p>10 rows × 42 columns</p>\n",
       "</div>"
      ],
      "text/plain": [
       "   weight_f1  weight_f2  weight_f3  weight_f4   page_rank_s   page_rank_d  \\\n",
       "0   0.627964   0.094491   1.005929   0.877964  2.045290e-06  3.459963e-07   \n",
       "1   0.229598   0.013030   0.332196   0.356598  2.353458e-07  6.427660e-07   \n",
       "2   0.339999   0.028653   0.525694   0.494302  6.211019e-07  5.179801e-07   \n",
       "3   0.696923   0.117851   0.985599   1.105172  2.998153e-07  1.704245e-06   \n",
       "4   1.301511   0.301511   2.301511   1.603023  4.349180e-07  2.089590e-07   \n",
       "5   0.617739   0.095346   0.933967   0.919250  5.942343e-07  1.143388e-06   \n",
       "6   1.447214   0.447214   1.894427   2.447214  2.848986e-07  1.128758e-06   \n",
       "7   0.853553   0.176777   1.353553   1.207107  6.694862e-07  5.254600e-07   \n",
       "8   0.583489   0.084515   0.850750   0.899717  1.466870e-06  1.373409e-06   \n",
       "9   0.930904   0.204124   1.508254   1.284457  6.630224e-07  2.618341e-07   \n",
       "\n",
       "     katz_s    katz_d         hubs_s         hubs_d      ...       \\\n",
       "0  0.000773  0.000756   1.943132e-13   1.941103e-13      ...        \n",
       "1  0.000845  0.001317   3.906648e-11   9.424102e-11      ...        \n",
       "2  0.000885  0.000855  7.730764e-114  4.067322e-114      ...        \n",
       "3  0.000739  0.000773   5.443738e-17   4.139999e-16      ...        \n",
       "4  0.000751  0.000735   3.887821e-16   4.721269e-16      ...        \n",
       "5  0.000767  0.000766   9.056178e-17   2.229857e-17      ...        \n",
       "6  0.000735  0.000750   1.601784e-19   3.976197e-19      ...        \n",
       "7  0.000763  0.000743   5.606024e-16   3.412867e-17      ...        \n",
       "8  0.000757  0.000781   5.731343e-17   6.754239e-16      ...        \n",
       "9  0.000758  0.000739   2.494454e-16   2.271664e-17      ...        \n",
       "\n",
       "      svd_v_d_3     svd_v_d_4     svd_v_d_5     svd_v_d_6  \\\n",
       "0  1.128586e-06  6.616730e-14  9.771079e-13  4.160001e-14   \n",
       "1 -3.112915e-10  6.738902e-02  2.607841e-11  2.372904e-09   \n",
       "2 -2.715741e-18 -1.792508e-17  2.236164e-18 -6.429151e-18   \n",
       "3  5.214019e-08  9.595842e-13  3.047045e-10  1.246592e-13   \n",
       "4  3.097681e-09  8.173215e-16  1.122941e-15  5.096952e-17   \n",
       "5  4.915210e-13  3.509644e-13  2.726586e-13  2.407994e-16   \n",
       "6  1.031040e-07  5.762078e-15  1.513900e-14  4.159354e-16   \n",
       "7  2.288945e-12  7.654468e-15  1.454795e-13  8.228869e-17   \n",
       "8  5.703949e-13  1.782188e-11  1.800731e-13  3.318310e-15   \n",
       "9  1.020691e-07  5.219094e-15  4.038262e-14  2.351526e-16   \n",
       "\n",
       "   followee_preferential_attachment  follower_preferential_attachment  \\\n",
       "0                               120                                66   \n",
       "1                              8662                              1598   \n",
       "2                               902                               980   \n",
       "3                                35                                22   \n",
       "4                                33                                 5   \n",
       "5                                80                                81   \n",
       "6                                 4                                 5   \n",
       "7                                49                                24   \n",
       "8                                81                                91   \n",
       "9                                21                                14   \n",
       "\n",
       "   train_u_s_dot  train_u_d_dot         s_dot         d_dot  \n",
       "0   3.396011e-24   9.780549e-25  3.396011e-24  9.780549e-25  \n",
       "1   2.490508e-25   1.835653e-25  2.490508e-25  1.835653e-25  \n",
       "2   1.114951e-11   2.238777e-12  1.114951e-11  2.238777e-12  \n",
       "3   7.963277e-25   1.022343e-26  7.963277e-25  1.022343e-26  \n",
       "4   5.587275e-25   7.922819e-25  5.587275e-25  7.922819e-25  \n",
       "5   1.283842e-23   7.153952e-28  1.283842e-23  7.153952e-28  \n",
       "6   1.159333e-24   3.343639e-25  1.159333e-24  3.343639e-25  \n",
       "7   1.689524e-20   5.429547e-21  1.689524e-20  5.429547e-21  \n",
       "8   6.775661e-20   1.941393e-20  6.775661e-20  1.941393e-20  \n",
       "9   3.192812e-03   9.068719e-04  3.192812e-03  9.068719e-04  \n",
       "\n",
       "[10 rows x 42 columns]"
      ]
     },
     "execution_count": 17,
     "metadata": {},
     "output_type": "execute_result"
    }
   ],
   "source": [
    "#df_final_train\n",
    "df_final_train.ix[:,'weight_f1':][:10]"
   ]
  },
  {
   "cell_type": "markdown",
   "metadata": {},
   "source": [
    "# Preferential_attachment"
   ]
  },
  {
   "cell_type": "code",
   "execution_count": 18,
   "metadata": {},
   "outputs": [],
   "source": [
    "def followee_preferential_attachment(user1,user2):\n",
    "    try:\n",
    "        user_1 = len(set(train_graph.successors(user1)))\n",
    "        user_2 = len(set(train_graph.successors(user2)))\n",
    "        return(user_1*user_2)\n",
    "    except:\n",
    "        return(0)\n",
    "    \n",
    "def follower_preferential_attachment(user1,user2):\n",
    "    try:\n",
    "        user_1 = len(set(train_graph.predecessors(user1)))\n",
    "        user_2 = len(set(train_graph.predecessors(user2)))\n",
    "        return(user_1*user_2)\n",
    "    except:\n",
    "        return(0)"
   ]
  },
  {
   "cell_type": "code",
   "execution_count": 19,
   "metadata": {},
   "outputs": [
    {
     "name": "stdout",
     "output_type": "stream",
     "text": [
      "Current Time =  2019-05-24 21:18:39.178276\n",
      "Time taken for creation of dataframe is 0:00:02.927990\n"
     ]
    }
   ],
   "source": [
    "startTime = datetime.datetime.now()\n",
    "print(\"Current Time = \",startTime)\n",
    "\n",
    "if not os.path.isfile('data/fea_sample/storage_sample_stage5.h5'):\n",
    "    #===================================================================================================\n",
    "    \n",
    "    df_final_train[['svd_u_s_1', 'svd_u_s_2','svd_u_s_3', 'svd_u_s_4', 'svd_u_s_5', 'svd_u_s_6']] = \\\n",
    "    df_final_train.source_node.apply(lambda x: svd(x, U)).apply(pd.Series)\n",
    "    \n",
    "    df_final_train[['svd_u_d_1', 'svd_u_d_2', 'svd_u_d_3', 'svd_u_d_4', 'svd_u_d_5','svd_u_d_6']] = \\\n",
    "    df_final_train.destination_node.apply(lambda x: svd(x, U)).apply(pd.Series)\n",
    "    #===================================================================================================\n",
    "    \n",
    "    df_final_train[['svd_v_s_1','svd_v_s_2', 'svd_v_s_3', 'svd_v_s_4', 'svd_v_s_5', 'svd_v_s_6',]] = \\\n",
    "    df_final_train.source_node.apply(lambda x: svd(x, V.T)).apply(pd.Series)\n",
    "\n",
    "    df_final_train[['svd_v_d_1', 'svd_v_d_2', 'svd_v_d_3', 'svd_v_d_4', 'svd_v_d_5','svd_v_d_6']] = \\\n",
    "    df_final_train.destination_node.apply(lambda x: svd(x, V.T)).apply(pd.Series)\n",
    "    #===================================================================================================\n",
    "    \n",
    "    df_final_test[['svd_u_s_1', 'svd_u_s_2','svd_u_s_3', 'svd_u_s_4', 'svd_u_s_5', 'svd_u_s_6']] = \\\n",
    "    df_final_test.source_node.apply(lambda x: svd(x, U)).apply(pd.Series)\n",
    "    \n",
    "    df_final_test[['svd_u_d_1', 'svd_u_d_2', 'svd_u_d_3', 'svd_u_d_4', 'svd_u_d_5','svd_u_d_6']] = \\\n",
    "    df_final_test.destination_node.apply(lambda x: svd(x, U)).apply(pd.Series)\n",
    "\n",
    "    #===================================================================================================\n",
    "    \n",
    "    df_final_test[['svd_v_s_1','svd_v_s_2', 'svd_v_s_3', 'svd_v_s_4', 'svd_v_s_5', 'svd_v_s_6',]] = \\\n",
    "    df_final_test.source_node.apply(lambda x: svd(x, V.T)).apply(pd.Series)\n",
    "\n",
    "    df_final_test[['svd_v_d_1', 'svd_v_d_2', 'svd_v_d_3', 'svd_v_d_4', 'svd_v_d_5','svd_v_d_6']] = \\\n",
    "    df_final_test.destination_node.apply(lambda x: svd(x, V.T)).apply(pd.Series)\n",
    "    #===================================================================================================\n",
    "\n",
    "    df_final_train['followee_preferential_attachment'] = df_final_train.apply(lambda row: followee_preferential_attachment(row['source_node'],row['destination_node']),axis=1)\n",
    "    df_final_test['followee_preferential_attachment'] = df_final_test.apply(lambda row: followee_preferential_attachment(row['source_node'],row['destination_node']),axis=1)\n",
    "    \n",
    "    df_final_train['follower_preferential_attachment'] = df_final_train.apply(lambda row: follower_preferential_attachment(row['source_node'],row['destination_node']),axis=1)\n",
    "    df_final_test['follower_preferential_attachment'] = df_final_test.apply(lambda row: follower_preferential_attachment(row['source_node'],row['destination_node']),axis=1)\n",
    "    \n",
    "    #===================================================================================================\n",
    "    \n",
    "    hdf = HDFStore('data/fea_sample/storage_sample_stage5.h5')\n",
    "    hdf.put('train_df',df_final_train, format='table', data_columns=True)\n",
    "    hdf.put('test_df',df_final_test, format='table', data_columns=True)\n",
    "    hdf.close()\n",
    "else:\n",
    "    df_final_train = read_hdf('data/fea_sample/storage_sample_stage5.h5', 'train_df',mode='r')\n",
    "    df_final_test = read_hdf('data/fea_sample/storage_sample_stage5.h5', 'test_df',mode='r')\n",
    "    \n",
    "print(\"Time taken for creation of dataframe is {}\".format(datetime.datetime.now() - startTime))"
   ]
  },
  {
   "cell_type": "code",
   "execution_count": 30,
   "metadata": {},
   "outputs": [
    {
     "name": "stdout",
     "output_type": "stream",
     "text": [
      "(100002,)\n",
      "(100002,)\n",
      "(100002,)\n",
      "(100002,)\n",
      "(100002,)\n",
      "(100002,)\n",
      "(100002,)\n",
      "(100002,)\n",
      "(100002,)\n",
      "(100002,)\n",
      "(100002,)\n",
      "(100002,)\n",
      "(100002,)\n",
      "(100002,)\n",
      "(100002,)\n",
      "(100002,)\n",
      "(100002,)\n",
      "(100002,)\n",
      "(100002,)\n",
      "(100002,)\n",
      "(100002,)\n",
      "(100002,)\n",
      "(100002,)\n",
      "(100002,)\n",
      "*******************************************\n",
      "(100002,)\n",
      "(100002,)\n"
     ]
    }
   ],
   "source": [
    "# for Train data\n",
    "\n",
    "x1 = list(df_final_train['svd_u_s_1'])\n",
    "x2 = list(df_final_train['svd_u_s_2'])\n",
    "x3 = list(df_final_train['svd_u_s_3'])\n",
    "x4 = list(df_final_train['svd_u_s_4'])\n",
    "x5 = list(df_final_train['svd_u_s_5'])\n",
    "x6 = list(df_final_train['svd_u_s_6'])\n",
    "\n",
    "x7 = list(df_final_train['svd_u_d_1'])\n",
    "x8 = list(df_final_train['svd_u_d_2'])\n",
    "x9 = list(df_final_train['svd_u_d_3'])\n",
    "x10 = list(df_final_train['svd_u_d_4'])\n",
    "x11 = list(df_final_train['svd_u_d_5'])\n",
    "x12 = list(df_final_train['svd_u_d_6'])\n",
    "\n",
    "y1 = list(df_final_train['svd_v_s_1'])\n",
    "y2 = list(df_final_train['svd_v_s_2'])\n",
    "y3 = list(df_final_train['svd_v_s_3'])\n",
    "y4 = list(df_final_train['svd_v_s_4'])\n",
    "y5 = list(df_final_train['svd_v_s_5'])\n",
    "y6 = list(df_final_train['svd_v_s_6'])\n",
    "\n",
    "y7 = list(df_final_train['svd_v_d_1'])\n",
    "y8 = list(df_final_train['svd_v_d_2'])\n",
    "y9 = list(df_final_train['svd_v_d_3'])\n",
    "y10 = list(df_final_train['svd_v_d_4'])\n",
    "y11 = list(df_final_train['svd_v_d_5'])\n",
    "y12 = list(df_final_train['svd_v_d_6'])\n",
    "\n",
    "print(np.shape(x1))\n",
    "print(np.shape(x2))\n",
    "print(np.shape(x3))\n",
    "print(np.shape(x4))\n",
    "print(np.shape(x5))\n",
    "print(np.shape(x6))\n",
    "print(np.shape(x7))\n",
    "print(np.shape(x8))\n",
    "print(np.shape(x9))\n",
    "print(np.shape(x10))\n",
    "print(np.shape(x11))\n",
    "print(np.shape(x12))\n",
    "\n",
    "print(np.shape(y1))\n",
    "print(np.shape(y2))\n",
    "print(np.shape(y3))\n",
    "print(np.shape(y4))\n",
    "print(np.shape(y5))\n",
    "print(np.shape(y6))\n",
    "print(np.shape(y7))\n",
    "print(np.shape(y8))\n",
    "print(np.shape(y9))\n",
    "print(np.shape(y10))\n",
    "print(np.shape(y11))\n",
    "print(np.shape(y12))\n",
    "\n",
    "train_u_source = []\n",
    "train_u_destination = []\n",
    "train_v_source = []\n",
    "train_v_destination = []\n",
    "train_u_s_dot = []\n",
    "train_u_d_dot = []\n",
    "\n",
    "for loop1 in range(0,len(x1)):\n",
    "    train_u_source.append(x1[loop1])                             \n",
    "    train_u_source.append(x2[loop1])\n",
    "    train_u_source.append(x3[loop1])\n",
    "    train_u_source.append(x4[loop1])\n",
    "    train_u_source.append(x5[loop1])\n",
    "    train_u_source.append(x6[loop1])\n",
    "\n",
    "    train_u_destination.append(x7[loop1]) \n",
    "    train_u_destination.append(x8[loop1])\n",
    "    train_u_destination.append(x9[loop1])\n",
    "    train_u_destination.append(x10[loop1])\n",
    "    train_u_destination.append(x11[loop1])\n",
    "    train_u_destination.append(x12[loop1])\n",
    "\n",
    "    dot_product = np.dot(train_u_source[loop1],train_u_destination[loop1])\n",
    "    train_u_s_dot.append(dot_product)\n",
    "\n",
    "    \n",
    "for loop2 in range(0,len(y1)):   \n",
    "    train_v_source.append(y1[loop2]) \n",
    "    train_v_source.append(y2[loop2])\n",
    "    train_v_source.append(y3[loop2])\n",
    "    train_v_source.append(y4[loop2])\n",
    "    train_v_source.append(y5[loop2])\n",
    "    train_v_source.append(y6[loop2])\n",
    "\n",
    "    train_v_destination.append(y7[loop2]) \n",
    "    train_v_destination.append(y8[loop2])\n",
    "    train_v_destination.append(y9[loop2])\n",
    "    train_v_destination.append(y10[loop2])\n",
    "    train_v_destination.append(y11[loop2])\n",
    "    train_v_destination.append(y12[loop2])\n",
    "\n",
    "    dot_product = np.dot(train_v_source[loop2],train_v_destination[loop2])\n",
    "    train_u_d_dot.append(dot_product)\n",
    "\n",
    "print(\"*******************************************\")\n",
    "print(np.shape(train_u_s_dot))\n",
    "print(np.shape(train_u_d_dot))\n"
   ]
  },
  {
   "cell_type": "code",
   "execution_count": 31,
   "metadata": {},
   "outputs": [
    {
     "name": "stdout",
     "output_type": "stream",
     "text": [
      "(50002,)\n",
      "(50002,)\n",
      "(50002,)\n",
      "(50002,)\n",
      "(50002,)\n",
      "(50002,)\n",
      "(50002,)\n",
      "(50002,)\n",
      "(50002,)\n",
      "(50002,)\n",
      "(50002,)\n",
      "(50002,)\n",
      "(50002,)\n",
      "(50002,)\n",
      "(50002,)\n",
      "(50002,)\n",
      "(50002,)\n",
      "(50002,)\n",
      "(50002,)\n",
      "(50002,)\n",
      "(50002,)\n",
      "(50002,)\n",
      "(50002,)\n",
      "(50002,)\n",
      "*******************************************\n",
      "(50002,)\n",
      "(50002,)\n"
     ]
    }
   ],
   "source": [
    "# for Test data\n",
    "\n",
    "x1 = list(df_final_test['svd_u_s_1'])\n",
    "x2 = list(df_final_test['svd_u_s_2'])\n",
    "x3 = list(df_final_test['svd_u_s_3'])\n",
    "x4 = list(df_final_test['svd_u_s_4'])\n",
    "x5 = list(df_final_test['svd_u_s_5'])\n",
    "x6 = list(df_final_test['svd_u_s_6'])\n",
    "\n",
    "x7 = list(df_final_test['svd_u_d_1'])\n",
    "x8 = list(df_final_test['svd_u_d_2'])\n",
    "x9 = list(df_final_test['svd_u_d_3'])\n",
    "x10 = list(df_final_test['svd_u_d_4'])\n",
    "x11 = list(df_final_test['svd_u_d_5'])\n",
    "x12 = list(df_final_test['svd_u_d_6'])\n",
    "\n",
    "y1 = list(df_final_test['svd_v_s_1'])\n",
    "y2 = list(df_final_test['svd_v_s_2'])\n",
    "y3 = list(df_final_test['svd_v_s_3'])\n",
    "y4 = list(df_final_test['svd_v_s_4'])\n",
    "y5 = list(df_final_test['svd_v_s_5'])\n",
    "y6 = list(df_final_test['svd_v_s_6'])\n",
    "\n",
    "y7 = list(df_final_test['svd_v_d_1'])\n",
    "y8 = list(df_final_test['svd_v_d_2'])\n",
    "y9 = list(df_final_test['svd_v_d_3'])\n",
    "y10 = list(df_final_test['svd_v_d_4'])\n",
    "y11 = list(df_final_test['svd_v_d_5'])\n",
    "y12 = list(df_final_test['svd_v_d_6'])\n",
    "\n",
    "print(np.shape(x1))\n",
    "print(np.shape(x2))\n",
    "print(np.shape(x3))\n",
    "print(np.shape(x4))\n",
    "print(np.shape(x5))\n",
    "print(np.shape(x6))\n",
    "print(np.shape(x7))\n",
    "print(np.shape(x8))\n",
    "print(np.shape(x9))\n",
    "print(np.shape(x10))\n",
    "print(np.shape(x11))\n",
    "print(np.shape(x12))\n",
    "\n",
    "print(np.shape(y1))\n",
    "print(np.shape(y2))\n",
    "print(np.shape(y3))\n",
    "print(np.shape(y4))\n",
    "print(np.shape(y5))\n",
    "print(np.shape(y6))\n",
    "print(np.shape(y7))\n",
    "print(np.shape(y8))\n",
    "print(np.shape(y9))\n",
    "print(np.shape(y10))\n",
    "print(np.shape(y11))\n",
    "print(np.shape(y12))\n",
    "\n",
    "\n",
    "test_u_source = []\n",
    "test_u_destination = []\n",
    "test_v_source = []\n",
    "test_v_destination = []\n",
    "test_v_s_dot = []\n",
    "test_v_d_dot = []\n",
    "\n",
    "for loop3 in range(0,len(x1)):\n",
    "    test_u_source.append(x1[loop3])                              \n",
    "    test_u_source.append(x2[loop3])\n",
    "    test_u_source.append(x3[loop3])\n",
    "    test_u_source.append(x4[loop3])\n",
    "    test_u_source.append(x5[loop3])\n",
    "    test_u_source.append(x6[loop3])\n",
    "\n",
    "    test_u_destination.append(x7[loop3])\n",
    "    test_u_destination.append(x8[loop3])\n",
    "    test_u_destination.append(x9[loop3])\n",
    "    test_u_destination.append(x10[loop3])\n",
    "    test_u_destination.append(x11[loop3])\n",
    "    test_u_destination.append(x12[loop3])\n",
    "    \n",
    "    dot_product = np.dot(test_u_source[loop3],test_u_destination[loop3])\n",
    "    test_v_s_dot.append(dot_product)\n",
    "\n",
    "for loop4 in range(0,len(y1)):\n",
    "    test_v_source.append(y1[loop4])\n",
    "    test_v_source.append(y2[loop4])\n",
    "    test_v_source.append(y3[loop4])\n",
    "    test_v_source.append(y4[loop4])\n",
    "    test_v_source.append(y5[loop4])\n",
    "    test_v_source.append(y6[loop4])\n",
    "\n",
    "    test_v_destination.append(y7[loop4])\n",
    "    test_v_destination.append(y8[loop4])\n",
    "    test_v_destination.append(y9[loop4])\n",
    "    test_v_destination.append(y10[loop4])\n",
    "    test_v_destination.append(y11[loop4])\n",
    "    test_v_destination.append(y12[loop4])\n",
    "    \n",
    "    dot_product = np.dot(test_v_source[loop4],test_v_destination[loop4])\n",
    "    test_v_d_dot.append(dot_product)\n",
    "\n",
    "print(\"*******************************************\")\n",
    "print(np.shape(test_v_s_dot))\n",
    "print(np.shape(test_v_d_dot))"
   ]
  },
  {
   "cell_type": "code",
   "execution_count": 32,
   "metadata": {},
   "outputs": [
    {
     "name": "stdout",
     "output_type": "stream",
     "text": [
      "Current Time =  2019-05-24 21:20:42.572386\n",
      "Time taken for creation of dataframe is 0:00:21.119923\n"
     ]
    }
   ],
   "source": [
    "startTime = datetime.datetime.now()\n",
    "print(\"Current Time = \",startTime)\n",
    "\n",
    "if not os.path.isfile('data/fea_sample/storage_sample_stage6.h5'):\n",
    "    #===================================================================================================\n",
    "    df_final_train['s_dot'] = np.array(train_u_s_dot)\n",
    "    df_final_train['d_dot'] = np.array(train_u_d_dot)\n",
    "    \n",
    "    df_final_test['s_dot'] = np.array(test_v_s_dot)\n",
    "    df_final_test['d_dot'] = np.array(test_v_d_dot)\n",
    "\n",
    "    hdf = HDFStore('data/fea_sample/storage_sample_stage6.h5')\n",
    "    hdf.put('train_df',df_final_train, format='table', data_columns=True)\n",
    "    hdf.put('test_df',df_final_test, format='table', data_columns=True)\n",
    "    hdf.close()\n",
    "else:\n",
    "    df_final_train = read_hdf('data/fea_sample/storage_sample_stage6.h5', 'train_df',mode='r')\n",
    "    df_final_test = read_hdf('data/fea_sample/storage_sample_stage6.h5', 'test_df',mode='r')\n",
    "    \n",
    "print(\"Time taken for creation of dataframe is {}\".format(datetime.datetime.now() - startTime))"
   ]
  },
  {
   "cell_type": "code",
   "execution_count": 22,
   "metadata": {},
   "outputs": [],
   "source": [
    "#reading\n",
    "from pandas import read_hdf\n",
    "df_final_train = read_hdf('data/fea_sample/storage_sample_stage6.h5', 'train_df',mode='r')\n",
    "df_final_test = read_hdf('data/fea_sample/storage_sample_stage6.h5', 'test_df',mode='r')"
   ]
  },
  {
   "cell_type": "code",
   "execution_count": 33,
   "metadata": {
    "scrolled": false
   },
   "outputs": [
    {
     "data": {
      "text/html": [
       "<div>\n",
       "<style scoped>\n",
       "    .dataframe tbody tr th:only-of-type {\n",
       "        vertical-align: middle;\n",
       "    }\n",
       "\n",
       "    .dataframe tbody tr th {\n",
       "        vertical-align: top;\n",
       "    }\n",
       "\n",
       "    .dataframe thead th {\n",
       "        text-align: right;\n",
       "    }\n",
       "</style>\n",
       "<table border=\"1\" class=\"dataframe\">\n",
       "  <thead>\n",
       "    <tr style=\"text-align: right;\">\n",
       "      <th></th>\n",
       "      <th>adar_index</th>\n",
       "      <th>follows_back</th>\n",
       "      <th>same_comp</th>\n",
       "      <th>shortest_path</th>\n",
       "      <th>weight_in</th>\n",
       "      <th>weight_out</th>\n",
       "      <th>weight_f1</th>\n",
       "      <th>weight_f2</th>\n",
       "      <th>weight_f3</th>\n",
       "      <th>weight_f4</th>\n",
       "      <th>...</th>\n",
       "      <th>svd_v_d_3</th>\n",
       "      <th>svd_v_d_4</th>\n",
       "      <th>svd_v_d_5</th>\n",
       "      <th>svd_v_d_6</th>\n",
       "      <th>followee_preferential_attachment</th>\n",
       "      <th>follower_preferential_attachment</th>\n",
       "      <th>test_v_s_dot</th>\n",
       "      <th>test_v_d_dot</th>\n",
       "      <th>s_dot</th>\n",
       "      <th>d_dot</th>\n",
       "    </tr>\n",
       "  </thead>\n",
       "  <tbody>\n",
       "    <tr>\n",
       "      <th>0</th>\n",
       "      <td>0.000000</td>\n",
       "      <td>1</td>\n",
       "      <td>1</td>\n",
       "      <td>2</td>\n",
       "      <td>0.258199</td>\n",
       "      <td>0.377964</td>\n",
       "      <td>0.636163</td>\n",
       "      <td>0.097590</td>\n",
       "      <td>0.894362</td>\n",
       "      <td>1.014128</td>\n",
       "      <td>...</td>\n",
       "      <td>3.512351e-07</td>\n",
       "      <td>2.486660e-09</td>\n",
       "      <td>2.771146e-09</td>\n",
       "      <td>1.727695e-12</td>\n",
       "      <td>54</td>\n",
       "      <td>84</td>\n",
       "      <td>1.024953e-22</td>\n",
       "      <td>2.147580e-22</td>\n",
       "      <td>1.024953e-22</td>\n",
       "      <td>2.147580e-22</td>\n",
       "    </tr>\n",
       "    <tr>\n",
       "      <th>1</th>\n",
       "      <td>0.000000</td>\n",
       "      <td>1</td>\n",
       "      <td>1</td>\n",
       "      <td>7</td>\n",
       "      <td>0.235702</td>\n",
       "      <td>0.707107</td>\n",
       "      <td>0.942809</td>\n",
       "      <td>0.166667</td>\n",
       "      <td>1.178511</td>\n",
       "      <td>1.649916</td>\n",
       "      <td>...</td>\n",
       "      <td>4.668669e-08</td>\n",
       "      <td>6.665782e-12</td>\n",
       "      <td>1.495980e-10</td>\n",
       "      <td>9.836744e-14</td>\n",
       "      <td>19</td>\n",
       "      <td>34</td>\n",
       "      <td>1.214169e-25</td>\n",
       "      <td>1.090768e-22</td>\n",
       "      <td>1.214169e-25</td>\n",
       "      <td>1.090768e-22</td>\n",
       "    </tr>\n",
       "    <tr>\n",
       "      <th>2</th>\n",
       "      <td>0.000000</td>\n",
       "      <td>0</td>\n",
       "      <td>1</td>\n",
       "      <td>5</td>\n",
       "      <td>0.301511</td>\n",
       "      <td>0.242536</td>\n",
       "      <td>0.544047</td>\n",
       "      <td>0.073127</td>\n",
       "      <td>0.845558</td>\n",
       "      <td>0.786583</td>\n",
       "      <td>...</td>\n",
       "      <td>3.479854e-07</td>\n",
       "      <td>1.630555e-13</td>\n",
       "      <td>3.954762e-13</td>\n",
       "      <td>3.875775e-14</td>\n",
       "      <td>144</td>\n",
       "      <td>150</td>\n",
       "      <td>8.413963e-20</td>\n",
       "      <td>2.073977e-17</td>\n",
       "      <td>8.413963e-20</td>\n",
       "      <td>2.073977e-17</td>\n",
       "    </tr>\n",
       "    <tr>\n",
       "      <th>3</th>\n",
       "      <td>0.000000</td>\n",
       "      <td>0</td>\n",
       "      <td>1</td>\n",
       "      <td>3</td>\n",
       "      <td>0.162221</td>\n",
       "      <td>0.301511</td>\n",
       "      <td>0.463733</td>\n",
       "      <td>0.048912</td>\n",
       "      <td>0.625954</td>\n",
       "      <td>0.765244</td>\n",
       "      <td>...</td>\n",
       "      <td>1.879855e-05</td>\n",
       "      <td>4.384839e-12</td>\n",
       "      <td>1.239415e-11</td>\n",
       "      <td>6.483494e-13</td>\n",
       "      <td>340</td>\n",
       "      <td>407</td>\n",
       "      <td>7.154994e-26</td>\n",
       "      <td>6.717807e-21</td>\n",
       "      <td>7.154994e-26</td>\n",
       "      <td>6.717807e-21</td>\n",
       "    </tr>\n",
       "    <tr>\n",
       "      <th>4</th>\n",
       "      <td>6.136433</td>\n",
       "      <td>0</td>\n",
       "      <td>1</td>\n",
       "      <td>2</td>\n",
       "      <td>0.188982</td>\n",
       "      <td>0.250000</td>\n",
       "      <td>0.438982</td>\n",
       "      <td>0.047246</td>\n",
       "      <td>0.627964</td>\n",
       "      <td>0.688982</td>\n",
       "      <td>...</td>\n",
       "      <td>1.256876e-05</td>\n",
       "      <td>3.637116e-12</td>\n",
       "      <td>3.948477e-12</td>\n",
       "      <td>2.415871e-13</td>\n",
       "      <td>405</td>\n",
       "      <td>324</td>\n",
       "      <td>9.437465e-24</td>\n",
       "      <td>1.203126e-21</td>\n",
       "      <td>9.437465e-24</td>\n",
       "      <td>1.203126e-21</td>\n",
       "    </tr>\n",
       "    <tr>\n",
       "      <th>5</th>\n",
       "      <td>0.000000</td>\n",
       "      <td>0</td>\n",
       "      <td>0</td>\n",
       "      <td>-1</td>\n",
       "      <td>0.588969</td>\n",
       "      <td>0.301511</td>\n",
       "      <td>0.890481</td>\n",
       "      <td>0.177581</td>\n",
       "      <td>1.479450</td>\n",
       "      <td>1.191992</td>\n",
       "      <td>...</td>\n",
       "      <td>0.000000e+00</td>\n",
       "      <td>0.000000e+00</td>\n",
       "      <td>0.000000e+00</td>\n",
       "      <td>0.000000e+00</td>\n",
       "      <td>0</td>\n",
       "      <td>0</td>\n",
       "      <td>1.928818e-29</td>\n",
       "      <td>9.563667e-26</td>\n",
       "      <td>1.928818e-29</td>\n",
       "      <td>9.563667e-26</td>\n",
       "    </tr>\n",
       "    <tr>\n",
       "      <th>6</th>\n",
       "      <td>0.000000</td>\n",
       "      <td>1</td>\n",
       "      <td>1</td>\n",
       "      <td>-1</td>\n",
       "      <td>1.000000</td>\n",
       "      <td>0.353553</td>\n",
       "      <td>1.353553</td>\n",
       "      <td>0.353553</td>\n",
       "      <td>2.353553</td>\n",
       "      <td>1.707107</td>\n",
       "      <td>...</td>\n",
       "      <td>0.000000e+00</td>\n",
       "      <td>0.000000e+00</td>\n",
       "      <td>0.000000e+00</td>\n",
       "      <td>0.000000e+00</td>\n",
       "      <td>7</td>\n",
       "      <td>0</td>\n",
       "      <td>4.076331e-26</td>\n",
       "      <td>3.795281e-24</td>\n",
       "      <td>4.076331e-26</td>\n",
       "      <td>3.795281e-24</td>\n",
       "    </tr>\n",
       "    <tr>\n",
       "      <th>7</th>\n",
       "      <td>3.095903</td>\n",
       "      <td>1</td>\n",
       "      <td>1</td>\n",
       "      <td>2</td>\n",
       "      <td>0.250000</td>\n",
       "      <td>0.288675</td>\n",
       "      <td>0.538675</td>\n",
       "      <td>0.072169</td>\n",
       "      <td>0.788675</td>\n",
       "      <td>0.827350</td>\n",
       "      <td>...</td>\n",
       "      <td>4.597542e-11</td>\n",
       "      <td>5.675210e-13</td>\n",
       "      <td>4.877886e-13</td>\n",
       "      <td>3.437278e-14</td>\n",
       "      <td>275</td>\n",
       "      <td>180</td>\n",
       "      <td>2.006451e-26</td>\n",
       "      <td>9.286194e-23</td>\n",
       "      <td>2.006451e-26</td>\n",
       "      <td>9.286194e-23</td>\n",
       "    </tr>\n",
       "    <tr>\n",
       "      <th>8</th>\n",
       "      <td>0.000000</td>\n",
       "      <td>0</td>\n",
       "      <td>0</td>\n",
       "      <td>-1</td>\n",
       "      <td>0.588969</td>\n",
       "      <td>0.301511</td>\n",
       "      <td>0.890481</td>\n",
       "      <td>0.177581</td>\n",
       "      <td>1.479450</td>\n",
       "      <td>1.191992</td>\n",
       "      <td>...</td>\n",
       "      <td>0.000000e+00</td>\n",
       "      <td>0.000000e+00</td>\n",
       "      <td>0.000000e+00</td>\n",
       "      <td>0.000000e+00</td>\n",
       "      <td>0</td>\n",
       "      <td>0</td>\n",
       "      <td>1.352149e-17</td>\n",
       "      <td>1.188350e-17</td>\n",
       "      <td>1.352149e-17</td>\n",
       "      <td>1.188350e-17</td>\n",
       "    </tr>\n",
       "    <tr>\n",
       "      <th>9</th>\n",
       "      <td>0.000000</td>\n",
       "      <td>1</td>\n",
       "      <td>1</td>\n",
       "      <td>-1</td>\n",
       "      <td>0.377964</td>\n",
       "      <td>1.000000</td>\n",
       "      <td>1.377964</td>\n",
       "      <td>0.377964</td>\n",
       "      <td>1.755929</td>\n",
       "      <td>2.377964</td>\n",
       "      <td>...</td>\n",
       "      <td>2.417007e-13</td>\n",
       "      <td>6.131609e-14</td>\n",
       "      <td>1.297121e-13</td>\n",
       "      <td>6.960836e-16</td>\n",
       "      <td>0</td>\n",
       "      <td>6</td>\n",
       "      <td>1.823917e-26</td>\n",
       "      <td>1.498867e-25</td>\n",
       "      <td>1.823917e-26</td>\n",
       "      <td>1.498867e-25</td>\n",
       "    </tr>\n",
       "  </tbody>\n",
       "</table>\n",
       "<p>10 rows × 48 columns</p>\n",
       "</div>"
      ],
      "text/plain": [
       "   adar_index  follows_back  same_comp  shortest_path  weight_in  weight_out  \\\n",
       "0    0.000000             1          1              2   0.258199    0.377964   \n",
       "1    0.000000             1          1              7   0.235702    0.707107   \n",
       "2    0.000000             0          1              5   0.301511    0.242536   \n",
       "3    0.000000             0          1              3   0.162221    0.301511   \n",
       "4    6.136433             0          1              2   0.188982    0.250000   \n",
       "5    0.000000             0          0             -1   0.588969    0.301511   \n",
       "6    0.000000             1          1             -1   1.000000    0.353553   \n",
       "7    3.095903             1          1              2   0.250000    0.288675   \n",
       "8    0.000000             0          0             -1   0.588969    0.301511   \n",
       "9    0.000000             1          1             -1   0.377964    1.000000   \n",
       "\n",
       "   weight_f1  weight_f2  weight_f3  weight_f4      ...          svd_v_d_3  \\\n",
       "0   0.636163   0.097590   0.894362   1.014128      ...       3.512351e-07   \n",
       "1   0.942809   0.166667   1.178511   1.649916      ...       4.668669e-08   \n",
       "2   0.544047   0.073127   0.845558   0.786583      ...       3.479854e-07   \n",
       "3   0.463733   0.048912   0.625954   0.765244      ...       1.879855e-05   \n",
       "4   0.438982   0.047246   0.627964   0.688982      ...       1.256876e-05   \n",
       "5   0.890481   0.177581   1.479450   1.191992      ...       0.000000e+00   \n",
       "6   1.353553   0.353553   2.353553   1.707107      ...       0.000000e+00   \n",
       "7   0.538675   0.072169   0.788675   0.827350      ...       4.597542e-11   \n",
       "8   0.890481   0.177581   1.479450   1.191992      ...       0.000000e+00   \n",
       "9   1.377964   0.377964   1.755929   2.377964      ...       2.417007e-13   \n",
       "\n",
       "      svd_v_d_4     svd_v_d_5     svd_v_d_6  followee_preferential_attachment  \\\n",
       "0  2.486660e-09  2.771146e-09  1.727695e-12                                54   \n",
       "1  6.665782e-12  1.495980e-10  9.836744e-14                                19   \n",
       "2  1.630555e-13  3.954762e-13  3.875775e-14                               144   \n",
       "3  4.384839e-12  1.239415e-11  6.483494e-13                               340   \n",
       "4  3.637116e-12  3.948477e-12  2.415871e-13                               405   \n",
       "5  0.000000e+00  0.000000e+00  0.000000e+00                                 0   \n",
       "6  0.000000e+00  0.000000e+00  0.000000e+00                                 7   \n",
       "7  5.675210e-13  4.877886e-13  3.437278e-14                               275   \n",
       "8  0.000000e+00  0.000000e+00  0.000000e+00                                 0   \n",
       "9  6.131609e-14  1.297121e-13  6.960836e-16                                 0   \n",
       "\n",
       "   follower_preferential_attachment  test_v_s_dot  test_v_d_dot         s_dot  \\\n",
       "0                                84  1.024953e-22  2.147580e-22  1.024953e-22   \n",
       "1                                34  1.214169e-25  1.090768e-22  1.214169e-25   \n",
       "2                               150  8.413963e-20  2.073977e-17  8.413963e-20   \n",
       "3                               407  7.154994e-26  6.717807e-21  7.154994e-26   \n",
       "4                               324  9.437465e-24  1.203126e-21  9.437465e-24   \n",
       "5                                 0  1.928818e-29  9.563667e-26  1.928818e-29   \n",
       "6                                 0  4.076331e-26  3.795281e-24  4.076331e-26   \n",
       "7                               180  2.006451e-26  9.286194e-23  2.006451e-26   \n",
       "8                                 0  1.352149e-17  1.188350e-17  1.352149e-17   \n",
       "9                                 6  1.823917e-26  1.498867e-25  1.823917e-26   \n",
       "\n",
       "          d_dot  \n",
       "0  2.147580e-22  \n",
       "1  1.090768e-22  \n",
       "2  2.073977e-17  \n",
       "3  6.717807e-21  \n",
       "4  1.203126e-21  \n",
       "5  9.563667e-26  \n",
       "6  3.795281e-24  \n",
       "7  9.286194e-23  \n",
       "8  1.188350e-17  \n",
       "9  1.498867e-25  \n",
       "\n",
       "[10 rows x 48 columns]"
      ]
     },
     "execution_count": 33,
     "metadata": {},
     "output_type": "execute_result"
    }
   ],
   "source": [
    "df_final_test.ix[:,'adar_index':][:10]"
   ]
  },
  {
   "cell_type": "code",
   "execution_count": 24,
   "metadata": {
    "scrolled": true
   },
   "outputs": [
    {
     "data": {
      "text/html": [
       "<div>\n",
       "<style scoped>\n",
       "    .dataframe tbody tr th:only-of-type {\n",
       "        vertical-align: middle;\n",
       "    }\n",
       "\n",
       "    .dataframe tbody tr th {\n",
       "        vertical-align: top;\n",
       "    }\n",
       "\n",
       "    .dataframe thead th {\n",
       "        text-align: right;\n",
       "    }\n",
       "</style>\n",
       "<table border=\"1\" class=\"dataframe\">\n",
       "  <thead>\n",
       "    <tr style=\"text-align: right;\">\n",
       "      <th></th>\n",
       "      <th>weight_f4</th>\n",
       "      <th>page_rank_s</th>\n",
       "      <th>page_rank_d</th>\n",
       "      <th>katz_s</th>\n",
       "      <th>katz_d</th>\n",
       "      <th>hubs_s</th>\n",
       "      <th>hubs_d</th>\n",
       "      <th>authorities_s</th>\n",
       "      <th>authorities_d</th>\n",
       "      <th>svd_u_s_1</th>\n",
       "      <th>...</th>\n",
       "      <th>svd_v_d_3</th>\n",
       "      <th>svd_v_d_4</th>\n",
       "      <th>svd_v_d_5</th>\n",
       "      <th>svd_v_d_6</th>\n",
       "      <th>followee_preferential_attachment</th>\n",
       "      <th>follower_preferential_attachment</th>\n",
       "      <th>test_v_s_dot</th>\n",
       "      <th>test_v_d_dot</th>\n",
       "      <th>s_dot</th>\n",
       "      <th>d_dot</th>\n",
       "    </tr>\n",
       "  </thead>\n",
       "  <tbody>\n",
       "    <tr>\n",
       "      <th>0</th>\n",
       "      <td>1.014128</td>\n",
       "      <td>6.557971e-07</td>\n",
       "      <td>1.559547e-06</td>\n",
       "      <td>0.000754</td>\n",
       "      <td>0.000786</td>\n",
       "      <td>3.243237e-16</td>\n",
       "      <td>1.745627e-16</td>\n",
       "      <td>2.969838e-15</td>\n",
       "      <td>9.269213e-14</td>\n",
       "      <td>-9.987980e-12</td>\n",
       "      <td>...</td>\n",
       "      <td>3.512351e-07</td>\n",
       "      <td>2.486660e-09</td>\n",
       "      <td>2.771146e-09</td>\n",
       "      <td>1.727695e-12</td>\n",
       "      <td>54</td>\n",
       "      <td>84</td>\n",
       "      <td>1.024953e-22</td>\n",
       "      <td>2.147580e-22</td>\n",
       "      <td>1.024953e-22</td>\n",
       "      <td>2.147580e-22</td>\n",
       "    </tr>\n",
       "    <tr>\n",
       "      <th>1</th>\n",
       "      <td>1.649916</td>\n",
       "      <td>2.172064e-07</td>\n",
       "      <td>1.148360e-06</td>\n",
       "      <td>0.000739</td>\n",
       "      <td>0.000801</td>\n",
       "      <td>1.702625e-19</td>\n",
       "      <td>2.706300e-15</td>\n",
       "      <td>2.522357e-16</td>\n",
       "      <td>5.277458e-15</td>\n",
       "      <td>-2.079268e-15</td>\n",
       "      <td>...</td>\n",
       "      <td>4.668669e-08</td>\n",
       "      <td>6.665782e-12</td>\n",
       "      <td>1.495980e-10</td>\n",
       "      <td>9.836744e-14</td>\n",
       "      <td>19</td>\n",
       "      <td>34</td>\n",
       "      <td>1.214169e-25</td>\n",
       "      <td>1.090768e-22</td>\n",
       "      <td>1.214169e-25</td>\n",
       "      <td>1.090768e-22</td>\n",
       "    </tr>\n",
       "    <tr>\n",
       "      <th>2</th>\n",
       "      <td>0.786583</td>\n",
       "      <td>1.853369e-06</td>\n",
       "      <td>1.587858e-06</td>\n",
       "      <td>0.000789</td>\n",
       "      <td>0.000770</td>\n",
       "      <td>9.426796e-14</td>\n",
       "      <td>4.116616e-16</td>\n",
       "      <td>2.253244e-15</td>\n",
       "      <td>2.079387e-15</td>\n",
       "      <td>-1.782381e-11</td>\n",
       "      <td>...</td>\n",
       "      <td>3.479854e-07</td>\n",
       "      <td>1.630555e-13</td>\n",
       "      <td>3.954762e-13</td>\n",
       "      <td>3.875775e-14</td>\n",
       "      <td>144</td>\n",
       "      <td>150</td>\n",
       "      <td>8.413963e-20</td>\n",
       "      <td>2.073977e-17</td>\n",
       "      <td>8.413963e-20</td>\n",
       "      <td>2.073977e-17</td>\n",
       "    </tr>\n",
       "    <tr>\n",
       "      <th>3</th>\n",
       "      <td>0.765244</td>\n",
       "      <td>7.000791e-07</td>\n",
       "      <td>1.657820e-06</td>\n",
       "      <td>0.000778</td>\n",
       "      <td>0.000884</td>\n",
       "      <td>9.876114e-14</td>\n",
       "      <td>1.039593e-13</td>\n",
       "      <td>1.511694e-14</td>\n",
       "      <td>3.478438e-14</td>\n",
       "      <td>-4.491249e-11</td>\n",
       "      <td>...</td>\n",
       "      <td>1.879855e-05</td>\n",
       "      <td>4.384839e-12</td>\n",
       "      <td>1.239415e-11</td>\n",
       "      <td>6.483494e-13</td>\n",
       "      <td>340</td>\n",
       "      <td>407</td>\n",
       "      <td>7.154994e-26</td>\n",
       "      <td>6.717807e-21</td>\n",
       "      <td>7.154994e-26</td>\n",
       "      <td>6.717807e-21</td>\n",
       "    </tr>\n",
       "    <tr>\n",
       "      <th>4</th>\n",
       "      <td>0.688982</td>\n",
       "      <td>7.103008e-07</td>\n",
       "      <td>1.181606e-06</td>\n",
       "      <td>0.000779</td>\n",
       "      <td>0.000840</td>\n",
       "      <td>1.557332e-15</td>\n",
       "      <td>1.096037e-14</td>\n",
       "      <td>5.180869e-15</td>\n",
       "      <td>1.296135e-14</td>\n",
       "      <td>-9.778569e-13</td>\n",
       "      <td>...</td>\n",
       "      <td>1.256876e-05</td>\n",
       "      <td>3.637116e-12</td>\n",
       "      <td>3.948477e-12</td>\n",
       "      <td>2.415871e-13</td>\n",
       "      <td>405</td>\n",
       "      <td>324</td>\n",
       "      <td>9.437465e-24</td>\n",
       "      <td>1.203126e-21</td>\n",
       "      <td>9.437465e-24</td>\n",
       "      <td>1.203126e-21</td>\n",
       "    </tr>\n",
       "    <tr>\n",
       "      <th>5</th>\n",
       "      <td>1.191992</td>\n",
       "      <td>3.803655e-07</td>\n",
       "      <td>5.615700e-07</td>\n",
       "      <td>0.000739</td>\n",
       "      <td>0.000748</td>\n",
       "      <td>2.494904e-16</td>\n",
       "      <td>0.000000e+00</td>\n",
       "      <td>3.442852e-22</td>\n",
       "      <td>0.000000e+00</td>\n",
       "      <td>-8.977767e-15</td>\n",
       "      <td>...</td>\n",
       "      <td>0.000000e+00</td>\n",
       "      <td>0.000000e+00</td>\n",
       "      <td>0.000000e+00</td>\n",
       "      <td>0.000000e+00</td>\n",
       "      <td>0</td>\n",
       "      <td>0</td>\n",
       "      <td>1.928818e-29</td>\n",
       "      <td>9.563667e-26</td>\n",
       "      <td>1.928818e-29</td>\n",
       "      <td>9.563667e-26</td>\n",
       "    </tr>\n",
       "    <tr>\n",
       "      <th>6</th>\n",
       "      <td>1.707107</td>\n",
       "      <td>1.251767e-06</td>\n",
       "      <td>1.655650e-07</td>\n",
       "      <td>0.000762</td>\n",
       "      <td>0.000731</td>\n",
       "      <td>2.188066e-14</td>\n",
       "      <td>5.745713e-16</td>\n",
       "      <td>8.005011e-14</td>\n",
       "      <td>0.000000e+00</td>\n",
       "      <td>-2.143381e-11</td>\n",
       "      <td>...</td>\n",
       "      <td>0.000000e+00</td>\n",
       "      <td>0.000000e+00</td>\n",
       "      <td>0.000000e+00</td>\n",
       "      <td>0.000000e+00</td>\n",
       "      <td>7</td>\n",
       "      <td>0</td>\n",
       "      <td>4.076331e-26</td>\n",
       "      <td>3.795281e-24</td>\n",
       "      <td>4.076331e-26</td>\n",
       "      <td>3.795281e-24</td>\n",
       "    </tr>\n",
       "    <tr>\n",
       "      <th>7</th>\n",
       "      <td>0.827350</td>\n",
       "      <td>1.319717e-06</td>\n",
       "      <td>1.790599e-06</td>\n",
       "      <td>0.000777</td>\n",
       "      <td>0.000789</td>\n",
       "      <td>1.672452e-17</td>\n",
       "      <td>9.345255e-14</td>\n",
       "      <td>6.722380e-16</td>\n",
       "      <td>1.844117e-15</td>\n",
       "      <td>-2.047625e-14</td>\n",
       "      <td>...</td>\n",
       "      <td>4.597542e-11</td>\n",
       "      <td>5.675210e-13</td>\n",
       "      <td>4.877886e-13</td>\n",
       "      <td>3.437278e-14</td>\n",
       "      <td>275</td>\n",
       "      <td>180</td>\n",
       "      <td>2.006451e-26</td>\n",
       "      <td>9.286194e-23</td>\n",
       "      <td>2.006451e-26</td>\n",
       "      <td>9.286194e-23</td>\n",
       "    </tr>\n",
       "    <tr>\n",
       "      <th>8</th>\n",
       "      <td>1.191992</td>\n",
       "      <td>3.329817e-07</td>\n",
       "      <td>5.615700e-07</td>\n",
       "      <td>0.000747</td>\n",
       "      <td>0.000748</td>\n",
       "      <td>6.356182e-17</td>\n",
       "      <td>0.000000e+00</td>\n",
       "      <td>6.831622e-17</td>\n",
       "      <td>0.000000e+00</td>\n",
       "      <td>-9.936400e-14</td>\n",
       "      <td>...</td>\n",
       "      <td>0.000000e+00</td>\n",
       "      <td>0.000000e+00</td>\n",
       "      <td>0.000000e+00</td>\n",
       "      <td>0.000000e+00</td>\n",
       "      <td>0</td>\n",
       "      <td>0</td>\n",
       "      <td>1.352149e-17</td>\n",
       "      <td>1.188350e-17</td>\n",
       "      <td>1.352149e-17</td>\n",
       "      <td>1.188350e-17</td>\n",
       "    </tr>\n",
       "    <tr>\n",
       "      <th>9</th>\n",
       "      <td>2.377964</td>\n",
       "      <td>2.848986e-07</td>\n",
       "      <td>1.207745e-06</td>\n",
       "      <td>0.000735</td>\n",
       "      <td>0.000754</td>\n",
       "      <td>0.000000e+00</td>\n",
       "      <td>2.025499e-19</td>\n",
       "      <td>1.424379e-21</td>\n",
       "      <td>3.734454e-17</td>\n",
       "      <td>-4.079425e-20</td>\n",
       "      <td>...</td>\n",
       "      <td>2.417007e-13</td>\n",
       "      <td>6.131609e-14</td>\n",
       "      <td>1.297121e-13</td>\n",
       "      <td>6.960836e-16</td>\n",
       "      <td>0</td>\n",
       "      <td>6</td>\n",
       "      <td>1.823917e-26</td>\n",
       "      <td>1.498867e-25</td>\n",
       "      <td>1.823917e-26</td>\n",
       "      <td>1.498867e-25</td>\n",
       "    </tr>\n",
       "  </tbody>\n",
       "</table>\n",
       "<p>10 rows × 39 columns</p>\n",
       "</div>"
      ],
      "text/plain": [
       "   weight_f4   page_rank_s   page_rank_d    katz_s    katz_d        hubs_s  \\\n",
       "0   1.014128  6.557971e-07  1.559547e-06  0.000754  0.000786  3.243237e-16   \n",
       "1   1.649916  2.172064e-07  1.148360e-06  0.000739  0.000801  1.702625e-19   \n",
       "2   0.786583  1.853369e-06  1.587858e-06  0.000789  0.000770  9.426796e-14   \n",
       "3   0.765244  7.000791e-07  1.657820e-06  0.000778  0.000884  9.876114e-14   \n",
       "4   0.688982  7.103008e-07  1.181606e-06  0.000779  0.000840  1.557332e-15   \n",
       "5   1.191992  3.803655e-07  5.615700e-07  0.000739  0.000748  2.494904e-16   \n",
       "6   1.707107  1.251767e-06  1.655650e-07  0.000762  0.000731  2.188066e-14   \n",
       "7   0.827350  1.319717e-06  1.790599e-06  0.000777  0.000789  1.672452e-17   \n",
       "8   1.191992  3.329817e-07  5.615700e-07  0.000747  0.000748  6.356182e-17   \n",
       "9   2.377964  2.848986e-07  1.207745e-06  0.000735  0.000754  0.000000e+00   \n",
       "\n",
       "         hubs_d  authorities_s  authorities_d     svd_u_s_1      ...       \\\n",
       "0  1.745627e-16   2.969838e-15   9.269213e-14 -9.987980e-12      ...        \n",
       "1  2.706300e-15   2.522357e-16   5.277458e-15 -2.079268e-15      ...        \n",
       "2  4.116616e-16   2.253244e-15   2.079387e-15 -1.782381e-11      ...        \n",
       "3  1.039593e-13   1.511694e-14   3.478438e-14 -4.491249e-11      ...        \n",
       "4  1.096037e-14   5.180869e-15   1.296135e-14 -9.778569e-13      ...        \n",
       "5  0.000000e+00   3.442852e-22   0.000000e+00 -8.977767e-15      ...        \n",
       "6  5.745713e-16   8.005011e-14   0.000000e+00 -2.143381e-11      ...        \n",
       "7  9.345255e-14   6.722380e-16   1.844117e-15 -2.047625e-14      ...        \n",
       "8  0.000000e+00   6.831622e-17   0.000000e+00 -9.936400e-14      ...        \n",
       "9  2.025499e-19   1.424379e-21   3.734454e-17 -4.079425e-20      ...        \n",
       "\n",
       "      svd_v_d_3     svd_v_d_4     svd_v_d_5     svd_v_d_6  \\\n",
       "0  3.512351e-07  2.486660e-09  2.771146e-09  1.727695e-12   \n",
       "1  4.668669e-08  6.665782e-12  1.495980e-10  9.836744e-14   \n",
       "2  3.479854e-07  1.630555e-13  3.954762e-13  3.875775e-14   \n",
       "3  1.879855e-05  4.384839e-12  1.239415e-11  6.483494e-13   \n",
       "4  1.256876e-05  3.637116e-12  3.948477e-12  2.415871e-13   \n",
       "5  0.000000e+00  0.000000e+00  0.000000e+00  0.000000e+00   \n",
       "6  0.000000e+00  0.000000e+00  0.000000e+00  0.000000e+00   \n",
       "7  4.597542e-11  5.675210e-13  4.877886e-13  3.437278e-14   \n",
       "8  0.000000e+00  0.000000e+00  0.000000e+00  0.000000e+00   \n",
       "9  2.417007e-13  6.131609e-14  1.297121e-13  6.960836e-16   \n",
       "\n",
       "   followee_preferential_attachment  follower_preferential_attachment  \\\n",
       "0                                54                                84   \n",
       "1                                19                                34   \n",
       "2                               144                               150   \n",
       "3                               340                               407   \n",
       "4                               405                               324   \n",
       "5                                 0                                 0   \n",
       "6                                 7                                 0   \n",
       "7                               275                               180   \n",
       "8                                 0                                 0   \n",
       "9                                 0                                 6   \n",
       "\n",
       "   test_v_s_dot  test_v_d_dot         s_dot         d_dot  \n",
       "0  1.024953e-22  2.147580e-22  1.024953e-22  2.147580e-22  \n",
       "1  1.214169e-25  1.090768e-22  1.214169e-25  1.090768e-22  \n",
       "2  8.413963e-20  2.073977e-17  8.413963e-20  2.073977e-17  \n",
       "3  7.154994e-26  6.717807e-21  7.154994e-26  6.717807e-21  \n",
       "4  9.437465e-24  1.203126e-21  9.437465e-24  1.203126e-21  \n",
       "5  1.928818e-29  9.563667e-26  1.928818e-29  9.563667e-26  \n",
       "6  4.076331e-26  3.795281e-24  4.076331e-26  3.795281e-24  \n",
       "7  2.006451e-26  9.286194e-23  2.006451e-26  9.286194e-23  \n",
       "8  1.352149e-17  1.188350e-17  1.352149e-17  1.188350e-17  \n",
       "9  1.823917e-26  1.498867e-25  1.823917e-26  1.498867e-25  \n",
       "\n",
       "[10 rows x 39 columns]"
      ]
     },
     "execution_count": 24,
     "metadata": {},
     "output_type": "execute_result"
    }
   ],
   "source": [
    "df_final_test.ix[:,'weight_f4':][:10]"
   ]
  },
  {
   "cell_type": "code",
   "execution_count": 25,
   "metadata": {
    "scrolled": true
   },
   "outputs": [
    {
     "data": {
      "text/html": [
       "<div>\n",
       "<style scoped>\n",
       "    .dataframe tbody tr th:only-of-type {\n",
       "        vertical-align: middle;\n",
       "    }\n",
       "\n",
       "    .dataframe tbody tr th {\n",
       "        vertical-align: top;\n",
       "    }\n",
       "\n",
       "    .dataframe thead th {\n",
       "        text-align: right;\n",
       "    }\n",
       "</style>\n",
       "<table border=\"1\" class=\"dataframe\">\n",
       "  <thead>\n",
       "    <tr style=\"text-align: right;\">\n",
       "      <th></th>\n",
       "      <th>svd_u_s_1</th>\n",
       "      <th>svd_u_s_2</th>\n",
       "      <th>svd_u_s_3</th>\n",
       "      <th>svd_u_s_4</th>\n",
       "      <th>svd_u_s_5</th>\n",
       "      <th>svd_u_s_6</th>\n",
       "      <th>svd_u_d_1</th>\n",
       "      <th>svd_u_d_2</th>\n",
       "      <th>svd_u_d_3</th>\n",
       "      <th>svd_u_d_4</th>\n",
       "      <th>...</th>\n",
       "      <th>svd_v_d_3</th>\n",
       "      <th>svd_v_d_4</th>\n",
       "      <th>svd_v_d_5</th>\n",
       "      <th>svd_v_d_6</th>\n",
       "      <th>followee_preferential_attachment</th>\n",
       "      <th>follower_preferential_attachment</th>\n",
       "      <th>test_v_s_dot</th>\n",
       "      <th>test_v_d_dot</th>\n",
       "      <th>s_dot</th>\n",
       "      <th>d_dot</th>\n",
       "    </tr>\n",
       "  </thead>\n",
       "  <tbody>\n",
       "    <tr>\n",
       "      <th>0</th>\n",
       "      <td>-9.987980e-12</td>\n",
       "      <td>2.283708e-13</td>\n",
       "      <td>1.439960e-10</td>\n",
       "      <td>6.136158e-13</td>\n",
       "      <td>4.188181e-13</td>\n",
       "      <td>5.985839e-15</td>\n",
       "      <td>-1.026186e-11</td>\n",
       "      <td>5.316655e-13</td>\n",
       "      <td>5.843192e-10</td>\n",
       "      <td>1.166038e-13</td>\n",
       "      <td>...</td>\n",
       "      <td>3.512351e-07</td>\n",
       "      <td>2.486660e-09</td>\n",
       "      <td>2.771146e-09</td>\n",
       "      <td>1.727695e-12</td>\n",
       "      <td>54</td>\n",
       "      <td>84</td>\n",
       "      <td>1.024953e-22</td>\n",
       "      <td>2.147580e-22</td>\n",
       "      <td>1.024953e-22</td>\n",
       "      <td>2.147580e-22</td>\n",
       "    </tr>\n",
       "    <tr>\n",
       "      <th>1</th>\n",
       "      <td>-2.079268e-15</td>\n",
       "      <td>7.011592e-16</td>\n",
       "      <td>6.970671e-10</td>\n",
       "      <td>9.562313e-15</td>\n",
       "      <td>1.729157e-15</td>\n",
       "      <td>2.944887e-18</td>\n",
       "      <td>-1.960465e-11</td>\n",
       "      <td>2.861620e-11</td>\n",
       "      <td>1.939769e-08</td>\n",
       "      <td>1.907402e-12</td>\n",
       "      <td>...</td>\n",
       "      <td>4.668669e-08</td>\n",
       "      <td>6.665782e-12</td>\n",
       "      <td>1.495980e-10</td>\n",
       "      <td>9.836744e-14</td>\n",
       "      <td>19</td>\n",
       "      <td>34</td>\n",
       "      <td>1.214169e-25</td>\n",
       "      <td>1.090768e-22</td>\n",
       "      <td>1.214169e-25</td>\n",
       "      <td>1.090768e-22</td>\n",
       "    </tr>\n",
       "    <tr>\n",
       "      <th>2</th>\n",
       "      <td>-1.782381e-11</td>\n",
       "      <td>2.389626e-11</td>\n",
       "      <td>1.443051e-06</td>\n",
       "      <td>2.358027e-12</td>\n",
       "      <td>2.689642e-12</td>\n",
       "      <td>1.739184e-12</td>\n",
       "      <td>-1.863949e-13</td>\n",
       "      <td>1.806812e-13</td>\n",
       "      <td>2.544592e-07</td>\n",
       "      <td>1.693277e-13</td>\n",
       "      <td>...</td>\n",
       "      <td>3.479854e-07</td>\n",
       "      <td>1.630555e-13</td>\n",
       "      <td>3.954762e-13</td>\n",
       "      <td>3.875775e-14</td>\n",
       "      <td>144</td>\n",
       "      <td>150</td>\n",
       "      <td>8.413963e-20</td>\n",
       "      <td>2.073977e-17</td>\n",
       "      <td>8.413963e-20</td>\n",
       "      <td>2.073977e-17</td>\n",
       "    </tr>\n",
       "    <tr>\n",
       "      <th>3</th>\n",
       "      <td>-4.491249e-11</td>\n",
       "      <td>9.917580e-13</td>\n",
       "      <td>7.891237e-06</td>\n",
       "      <td>9.458626e-12</td>\n",
       "      <td>2.715849e-11</td>\n",
       "      <td>1.822079e-12</td>\n",
       "      <td>-1.070734e-10</td>\n",
       "      <td>2.888081e-12</td>\n",
       "      <td>2.070700e-05</td>\n",
       "      <td>7.229387e-12</td>\n",
       "      <td>...</td>\n",
       "      <td>1.879855e-05</td>\n",
       "      <td>4.384839e-12</td>\n",
       "      <td>1.239415e-11</td>\n",
       "      <td>6.483494e-13</td>\n",
       "      <td>340</td>\n",
       "      <td>407</td>\n",
       "      <td>7.154994e-26</td>\n",
       "      <td>6.717807e-21</td>\n",
       "      <td>7.154994e-26</td>\n",
       "      <td>6.717807e-21</td>\n",
       "    </tr>\n",
       "    <tr>\n",
       "      <th>4</th>\n",
       "      <td>-9.778569e-13</td>\n",
       "      <td>5.724678e-13</td>\n",
       "      <td>4.951878e-06</td>\n",
       "      <td>1.396835e-12</td>\n",
       "      <td>2.153250e-11</td>\n",
       "      <td>2.872774e-14</td>\n",
       "      <td>-2.275782e-11</td>\n",
       "      <td>1.007624e-12</td>\n",
       "      <td>2.517620e-06</td>\n",
       "      <td>1.394103e-10</td>\n",
       "      <td>...</td>\n",
       "      <td>1.256876e-05</td>\n",
       "      <td>3.637116e-12</td>\n",
       "      <td>3.948477e-12</td>\n",
       "      <td>2.415871e-13</td>\n",
       "      <td>405</td>\n",
       "      <td>324</td>\n",
       "      <td>9.437465e-24</td>\n",
       "      <td>1.203126e-21</td>\n",
       "      <td>9.437465e-24</td>\n",
       "      <td>1.203126e-21</td>\n",
       "    </tr>\n",
       "    <tr>\n",
       "      <th>5</th>\n",
       "      <td>-8.977767e-15</td>\n",
       "      <td>4.541045e-15</td>\n",
       "      <td>9.100025e-14</td>\n",
       "      <td>2.419543e-13</td>\n",
       "      <td>4.586857e-14</td>\n",
       "      <td>4.601913e-15</td>\n",
       "      <td>0.000000e+00</td>\n",
       "      <td>0.000000e+00</td>\n",
       "      <td>0.000000e+00</td>\n",
       "      <td>0.000000e+00</td>\n",
       "      <td>...</td>\n",
       "      <td>0.000000e+00</td>\n",
       "      <td>0.000000e+00</td>\n",
       "      <td>0.000000e+00</td>\n",
       "      <td>0.000000e+00</td>\n",
       "      <td>0</td>\n",
       "      <td>0</td>\n",
       "      <td>1.928818e-29</td>\n",
       "      <td>9.563667e-26</td>\n",
       "      <td>1.928818e-29</td>\n",
       "      <td>9.563667e-26</td>\n",
       "    </tr>\n",
       "    <tr>\n",
       "      <th>6</th>\n",
       "      <td>-2.143381e-11</td>\n",
       "      <td>1.069559e-09</td>\n",
       "      <td>3.714264e-11</td>\n",
       "      <td>2.544021e-11</td>\n",
       "      <td>2.935397e-11</td>\n",
       "      <td>4.036789e-13</td>\n",
       "      <td>-5.328096e-14</td>\n",
       "      <td>4.141292e-11</td>\n",
       "      <td>9.755928e-12</td>\n",
       "      <td>3.072229e-13</td>\n",
       "      <td>...</td>\n",
       "      <td>0.000000e+00</td>\n",
       "      <td>0.000000e+00</td>\n",
       "      <td>0.000000e+00</td>\n",
       "      <td>0.000000e+00</td>\n",
       "      <td>7</td>\n",
       "      <td>0</td>\n",
       "      <td>4.076331e-26</td>\n",
       "      <td>3.795281e-24</td>\n",
       "      <td>4.076331e-26</td>\n",
       "      <td>3.795281e-24</td>\n",
       "    </tr>\n",
       "    <tr>\n",
       "      <th>7</th>\n",
       "      <td>-2.047625e-14</td>\n",
       "      <td>3.044747e-14</td>\n",
       "      <td>8.187949e-13</td>\n",
       "      <td>4.402437e-15</td>\n",
       "      <td>1.083419e-14</td>\n",
       "      <td>3.136596e-16</td>\n",
       "      <td>-1.012196e-11</td>\n",
       "      <td>2.126978e-11</td>\n",
       "      <td>2.838897e-11</td>\n",
       "      <td>2.212300e-13</td>\n",
       "      <td>...</td>\n",
       "      <td>4.597542e-11</td>\n",
       "      <td>5.675210e-13</td>\n",
       "      <td>4.877886e-13</td>\n",
       "      <td>3.437278e-14</td>\n",
       "      <td>275</td>\n",
       "      <td>180</td>\n",
       "      <td>2.006451e-26</td>\n",
       "      <td>9.286194e-23</td>\n",
       "      <td>2.006451e-26</td>\n",
       "      <td>9.286194e-23</td>\n",
       "    </tr>\n",
       "    <tr>\n",
       "      <th>8</th>\n",
       "      <td>-9.936400e-14</td>\n",
       "      <td>1.079878e-12</td>\n",
       "      <td>5.993042e-12</td>\n",
       "      <td>1.324362e-13</td>\n",
       "      <td>2.225664e-08</td>\n",
       "      <td>1.171559e-15</td>\n",
       "      <td>0.000000e+00</td>\n",
       "      <td>0.000000e+00</td>\n",
       "      <td>0.000000e+00</td>\n",
       "      <td>0.000000e+00</td>\n",
       "      <td>...</td>\n",
       "      <td>0.000000e+00</td>\n",
       "      <td>0.000000e+00</td>\n",
       "      <td>0.000000e+00</td>\n",
       "      <td>0.000000e+00</td>\n",
       "      <td>0</td>\n",
       "      <td>0</td>\n",
       "      <td>1.352149e-17</td>\n",
       "      <td>1.188350e-17</td>\n",
       "      <td>1.352149e-17</td>\n",
       "      <td>1.188350e-17</td>\n",
       "    </tr>\n",
       "    <tr>\n",
       "      <th>9</th>\n",
       "      <td>-4.079425e-20</td>\n",
       "      <td>-1.681818e-20</td>\n",
       "      <td>-1.769057e-19</td>\n",
       "      <td>9.391413e-20</td>\n",
       "      <td>1.097935e-19</td>\n",
       "      <td>-1.897890e-19</td>\n",
       "      <td>-1.277149e-17</td>\n",
       "      <td>4.574075e-17</td>\n",
       "      <td>1.101686e-15</td>\n",
       "      <td>6.380305e-16</td>\n",
       "      <td>...</td>\n",
       "      <td>2.417007e-13</td>\n",
       "      <td>6.131609e-14</td>\n",
       "      <td>1.297121e-13</td>\n",
       "      <td>6.960836e-16</td>\n",
       "      <td>0</td>\n",
       "      <td>6</td>\n",
       "      <td>1.823917e-26</td>\n",
       "      <td>1.498867e-25</td>\n",
       "      <td>1.823917e-26</td>\n",
       "      <td>1.498867e-25</td>\n",
       "    </tr>\n",
       "  </tbody>\n",
       "</table>\n",
       "<p>10 rows × 30 columns</p>\n",
       "</div>"
      ],
      "text/plain": [
       "      svd_u_s_1     svd_u_s_2     svd_u_s_3     svd_u_s_4     svd_u_s_5  \\\n",
       "0 -9.987980e-12  2.283708e-13  1.439960e-10  6.136158e-13  4.188181e-13   \n",
       "1 -2.079268e-15  7.011592e-16  6.970671e-10  9.562313e-15  1.729157e-15   \n",
       "2 -1.782381e-11  2.389626e-11  1.443051e-06  2.358027e-12  2.689642e-12   \n",
       "3 -4.491249e-11  9.917580e-13  7.891237e-06  9.458626e-12  2.715849e-11   \n",
       "4 -9.778569e-13  5.724678e-13  4.951878e-06  1.396835e-12  2.153250e-11   \n",
       "5 -8.977767e-15  4.541045e-15  9.100025e-14  2.419543e-13  4.586857e-14   \n",
       "6 -2.143381e-11  1.069559e-09  3.714264e-11  2.544021e-11  2.935397e-11   \n",
       "7 -2.047625e-14  3.044747e-14  8.187949e-13  4.402437e-15  1.083419e-14   \n",
       "8 -9.936400e-14  1.079878e-12  5.993042e-12  1.324362e-13  2.225664e-08   \n",
       "9 -4.079425e-20 -1.681818e-20 -1.769057e-19  9.391413e-20  1.097935e-19   \n",
       "\n",
       "      svd_u_s_6     svd_u_d_1     svd_u_d_2     svd_u_d_3     svd_u_d_4  \\\n",
       "0  5.985839e-15 -1.026186e-11  5.316655e-13  5.843192e-10  1.166038e-13   \n",
       "1  2.944887e-18 -1.960465e-11  2.861620e-11  1.939769e-08  1.907402e-12   \n",
       "2  1.739184e-12 -1.863949e-13  1.806812e-13  2.544592e-07  1.693277e-13   \n",
       "3  1.822079e-12 -1.070734e-10  2.888081e-12  2.070700e-05  7.229387e-12   \n",
       "4  2.872774e-14 -2.275782e-11  1.007624e-12  2.517620e-06  1.394103e-10   \n",
       "5  4.601913e-15  0.000000e+00  0.000000e+00  0.000000e+00  0.000000e+00   \n",
       "6  4.036789e-13 -5.328096e-14  4.141292e-11  9.755928e-12  3.072229e-13   \n",
       "7  3.136596e-16 -1.012196e-11  2.126978e-11  2.838897e-11  2.212300e-13   \n",
       "8  1.171559e-15  0.000000e+00  0.000000e+00  0.000000e+00  0.000000e+00   \n",
       "9 -1.897890e-19 -1.277149e-17  4.574075e-17  1.101686e-15  6.380305e-16   \n",
       "\n",
       "       ...          svd_v_d_3     svd_v_d_4     svd_v_d_5     svd_v_d_6  \\\n",
       "0      ...       3.512351e-07  2.486660e-09  2.771146e-09  1.727695e-12   \n",
       "1      ...       4.668669e-08  6.665782e-12  1.495980e-10  9.836744e-14   \n",
       "2      ...       3.479854e-07  1.630555e-13  3.954762e-13  3.875775e-14   \n",
       "3      ...       1.879855e-05  4.384839e-12  1.239415e-11  6.483494e-13   \n",
       "4      ...       1.256876e-05  3.637116e-12  3.948477e-12  2.415871e-13   \n",
       "5      ...       0.000000e+00  0.000000e+00  0.000000e+00  0.000000e+00   \n",
       "6      ...       0.000000e+00  0.000000e+00  0.000000e+00  0.000000e+00   \n",
       "7      ...       4.597542e-11  5.675210e-13  4.877886e-13  3.437278e-14   \n",
       "8      ...       0.000000e+00  0.000000e+00  0.000000e+00  0.000000e+00   \n",
       "9      ...       2.417007e-13  6.131609e-14  1.297121e-13  6.960836e-16   \n",
       "\n",
       "   followee_preferential_attachment  follower_preferential_attachment  \\\n",
       "0                                54                                84   \n",
       "1                                19                                34   \n",
       "2                               144                               150   \n",
       "3                               340                               407   \n",
       "4                               405                               324   \n",
       "5                                 0                                 0   \n",
       "6                                 7                                 0   \n",
       "7                               275                               180   \n",
       "8                                 0                                 0   \n",
       "9                                 0                                 6   \n",
       "\n",
       "   test_v_s_dot  test_v_d_dot         s_dot         d_dot  \n",
       "0  1.024953e-22  2.147580e-22  1.024953e-22  2.147580e-22  \n",
       "1  1.214169e-25  1.090768e-22  1.214169e-25  1.090768e-22  \n",
       "2  8.413963e-20  2.073977e-17  8.413963e-20  2.073977e-17  \n",
       "3  7.154994e-26  6.717807e-21  7.154994e-26  6.717807e-21  \n",
       "4  9.437465e-24  1.203126e-21  9.437465e-24  1.203126e-21  \n",
       "5  1.928818e-29  9.563667e-26  1.928818e-29  9.563667e-26  \n",
       "6  4.076331e-26  3.795281e-24  4.076331e-26  3.795281e-24  \n",
       "7  2.006451e-26  9.286194e-23  2.006451e-26  9.286194e-23  \n",
       "8  1.352149e-17  1.188350e-17  1.352149e-17  1.188350e-17  \n",
       "9  1.823917e-26  1.498867e-25  1.823917e-26  1.498867e-25  \n",
       "\n",
       "[10 rows x 30 columns]"
      ]
     },
     "execution_count": 25,
     "metadata": {},
     "output_type": "execute_result"
    }
   ],
   "source": [
    "df_final_test.ix[:,'svd_u_s_1':][:10]"
   ]
  },
  {
   "cell_type": "code",
   "execution_count": 26,
   "metadata": {
    "scrolled": true
   },
   "outputs": [
    {
     "data": {
      "text/html": [
       "<div>\n",
       "<style scoped>\n",
       "    .dataframe tbody tr th:only-of-type {\n",
       "        vertical-align: middle;\n",
       "    }\n",
       "\n",
       "    .dataframe tbody tr th {\n",
       "        vertical-align: top;\n",
       "    }\n",
       "\n",
       "    .dataframe thead th {\n",
       "        text-align: right;\n",
       "    }\n",
       "</style>\n",
       "<table border=\"1\" class=\"dataframe\">\n",
       "  <thead>\n",
       "    <tr style=\"text-align: right;\">\n",
       "      <th></th>\n",
       "      <th>svd_u_d_4</th>\n",
       "      <th>svd_u_d_5</th>\n",
       "      <th>svd_u_d_6</th>\n",
       "      <th>svd_v_s_1</th>\n",
       "      <th>svd_v_s_2</th>\n",
       "      <th>svd_v_s_3</th>\n",
       "      <th>svd_v_s_4</th>\n",
       "      <th>svd_v_s_5</th>\n",
       "      <th>svd_v_s_6</th>\n",
       "      <th>svd_v_d_1</th>\n",
       "      <th>...</th>\n",
       "      <th>svd_v_d_3</th>\n",
       "      <th>svd_v_d_4</th>\n",
       "      <th>svd_v_d_5</th>\n",
       "      <th>svd_v_d_6</th>\n",
       "      <th>followee_preferential_attachment</th>\n",
       "      <th>follower_preferential_attachment</th>\n",
       "      <th>test_v_s_dot</th>\n",
       "      <th>test_v_d_dot</th>\n",
       "      <th>s_dot</th>\n",
       "      <th>d_dot</th>\n",
       "    </tr>\n",
       "  </thead>\n",
       "  <tbody>\n",
       "    <tr>\n",
       "      <th>0</th>\n",
       "      <td>1.166038e-13</td>\n",
       "      <td>2.253356e-11</td>\n",
       "      <td>3.222301e-15</td>\n",
       "      <td>-2.148853e-13</td>\n",
       "      <td>1.883259e-13</td>\n",
       "      <td>5.904813e-11</td>\n",
       "      <td>2.701538e-12</td>\n",
       "      <td>4.341620e-13</td>\n",
       "      <td>5.535507e-14</td>\n",
       "      <td>-9.994077e-10</td>\n",
       "      <td>...</td>\n",
       "      <td>3.512351e-07</td>\n",
       "      <td>2.486660e-09</td>\n",
       "      <td>2.771146e-09</td>\n",
       "      <td>1.727695e-12</td>\n",
       "      <td>54</td>\n",
       "      <td>84</td>\n",
       "      <td>1.024953e-22</td>\n",
       "      <td>2.147580e-22</td>\n",
       "      <td>1.024953e-22</td>\n",
       "      <td>2.147580e-22</td>\n",
       "    </tr>\n",
       "    <tr>\n",
       "      <th>1</th>\n",
       "      <td>1.907402e-12</td>\n",
       "      <td>3.797448e-11</td>\n",
       "      <td>4.993662e-14</td>\n",
       "      <td>-4.054500e-13</td>\n",
       "      <td>2.895773e-13</td>\n",
       "      <td>2.545371e-10</td>\n",
       "      <td>2.248600e-14</td>\n",
       "      <td>3.601010e-13</td>\n",
       "      <td>4.701465e-15</td>\n",
       "      <td>-9.360663e-12</td>\n",
       "      <td>...</td>\n",
       "      <td>4.668669e-08</td>\n",
       "      <td>6.665782e-12</td>\n",
       "      <td>1.495980e-10</td>\n",
       "      <td>9.836744e-14</td>\n",
       "      <td>19</td>\n",
       "      <td>34</td>\n",
       "      <td>1.214169e-25</td>\n",
       "      <td>1.090768e-22</td>\n",
       "      <td>1.214169e-25</td>\n",
       "      <td>1.090768e-22</td>\n",
       "    </tr>\n",
       "    <tr>\n",
       "      <th>2</th>\n",
       "      <td>1.693277e-13</td>\n",
       "      <td>2.712767e-13</td>\n",
       "      <td>7.596286e-15</td>\n",
       "      <td>-4.148335e-13</td>\n",
       "      <td>4.618813e-12</td>\n",
       "      <td>1.122147e-05</td>\n",
       "      <td>1.778931e-12</td>\n",
       "      <td>2.740540e-13</td>\n",
       "      <td>4.199860e-14</td>\n",
       "      <td>-4.253080e-13</td>\n",
       "      <td>...</td>\n",
       "      <td>3.479854e-07</td>\n",
       "      <td>1.630555e-13</td>\n",
       "      <td>3.954762e-13</td>\n",
       "      <td>3.875775e-14</td>\n",
       "      <td>144</td>\n",
       "      <td>150</td>\n",
       "      <td>8.413963e-20</td>\n",
       "      <td>2.073977e-17</td>\n",
       "      <td>8.413963e-20</td>\n",
       "      <td>2.073977e-17</td>\n",
       "    </tr>\n",
       "    <tr>\n",
       "      <th>3</th>\n",
       "      <td>7.229387e-12</td>\n",
       "      <td>3.563661e-11</td>\n",
       "      <td>1.917977e-12</td>\n",
       "      <td>-8.942576e-12</td>\n",
       "      <td>5.535692e-12</td>\n",
       "      <td>5.223671e-06</td>\n",
       "      <td>7.917210e-13</td>\n",
       "      <td>4.020726e-12</td>\n",
       "      <td>2.817659e-13</td>\n",
       "      <td>-2.162598e-11</td>\n",
       "      <td>...</td>\n",
       "      <td>1.879855e-05</td>\n",
       "      <td>4.384839e-12</td>\n",
       "      <td>1.239415e-11</td>\n",
       "      <td>6.483494e-13</td>\n",
       "      <td>340</td>\n",
       "      <td>407</td>\n",
       "      <td>7.154994e-26</td>\n",
       "      <td>6.717807e-21</td>\n",
       "      <td>7.154994e-26</td>\n",
       "      <td>6.717807e-21</td>\n",
       "    </tr>\n",
       "    <tr>\n",
       "      <th>4</th>\n",
       "      <td>1.394103e-10</td>\n",
       "      <td>2.961998e-11</td>\n",
       "      <td>2.022055e-13</td>\n",
       "      <td>-3.804983e-12</td>\n",
       "      <td>1.593137e-13</td>\n",
       "      <td>1.035013e-06</td>\n",
       "      <td>1.361585e-13</td>\n",
       "      <td>1.154625e-12</td>\n",
       "      <td>9.656621e-14</td>\n",
       "      <td>-8.742939e-12</td>\n",
       "      <td>...</td>\n",
       "      <td>1.256876e-05</td>\n",
       "      <td>3.637116e-12</td>\n",
       "      <td>3.948477e-12</td>\n",
       "      <td>2.415871e-13</td>\n",
       "      <td>405</td>\n",
       "      <td>324</td>\n",
       "      <td>9.437465e-24</td>\n",
       "      <td>1.203126e-21</td>\n",
       "      <td>9.437465e-24</td>\n",
       "      <td>1.203126e-21</td>\n",
       "    </tr>\n",
       "    <tr>\n",
       "      <th>5</th>\n",
       "      <td>0.000000e+00</td>\n",
       "      <td>0.000000e+00</td>\n",
       "      <td>0.000000e+00</td>\n",
       "      <td>-2.065320e-20</td>\n",
       "      <td>1.431037e-20</td>\n",
       "      <td>1.688691e-19</td>\n",
       "      <td>4.502556e-19</td>\n",
       "      <td>5.355082e-20</td>\n",
       "      <td>5.558353e-21</td>\n",
       "      <td>0.000000e+00</td>\n",
       "      <td>...</td>\n",
       "      <td>0.000000e+00</td>\n",
       "      <td>0.000000e+00</td>\n",
       "      <td>0.000000e+00</td>\n",
       "      <td>0.000000e+00</td>\n",
       "      <td>0</td>\n",
       "      <td>0</td>\n",
       "      <td>1.928818e-29</td>\n",
       "      <td>9.563667e-26</td>\n",
       "      <td>1.928818e-29</td>\n",
       "      <td>9.563667e-26</td>\n",
       "    </tr>\n",
       "    <tr>\n",
       "      <th>6</th>\n",
       "      <td>3.072229e-13</td>\n",
       "      <td>2.571312e-13</td>\n",
       "      <td>1.059874e-14</td>\n",
       "      <td>-5.259869e-12</td>\n",
       "      <td>4.156213e-09</td>\n",
       "      <td>1.005038e-09</td>\n",
       "      <td>3.214437e-11</td>\n",
       "      <td>3.218195e-11</td>\n",
       "      <td>1.492060e-12</td>\n",
       "      <td>0.000000e+00</td>\n",
       "      <td>...</td>\n",
       "      <td>0.000000e+00</td>\n",
       "      <td>0.000000e+00</td>\n",
       "      <td>0.000000e+00</td>\n",
       "      <td>0.000000e+00</td>\n",
       "      <td>7</td>\n",
       "      <td>0</td>\n",
       "      <td>4.076331e-26</td>\n",
       "      <td>3.795281e-24</td>\n",
       "      <td>4.076331e-26</td>\n",
       "      <td>3.795281e-24</td>\n",
       "    </tr>\n",
       "    <tr>\n",
       "      <th>7</th>\n",
       "      <td>2.212300e-13</td>\n",
       "      <td>7.222869e-12</td>\n",
       "      <td>1.724145e-12</td>\n",
       "      <td>-3.073752e-13</td>\n",
       "      <td>3.261902e-13</td>\n",
       "      <td>1.624182e-11</td>\n",
       "      <td>6.881217e-15</td>\n",
       "      <td>1.193123e-13</td>\n",
       "      <td>1.253012e-14</td>\n",
       "      <td>-9.799884e-10</td>\n",
       "      <td>...</td>\n",
       "      <td>4.597542e-11</td>\n",
       "      <td>5.675210e-13</td>\n",
       "      <td>4.877886e-13</td>\n",
       "      <td>3.437278e-14</td>\n",
       "      <td>275</td>\n",
       "      <td>180</td>\n",
       "      <td>2.006451e-26</td>\n",
       "      <td>9.286194e-23</td>\n",
       "      <td>2.006451e-26</td>\n",
       "      <td>9.286194e-23</td>\n",
       "    </tr>\n",
       "    <tr>\n",
       "      <th>8</th>\n",
       "      <td>0.000000e+00</td>\n",
       "      <td>0.000000e+00</td>\n",
       "      <td>0.000000e+00</td>\n",
       "      <td>-3.979063e-13</td>\n",
       "      <td>4.048196e-13</td>\n",
       "      <td>1.475414e-11</td>\n",
       "      <td>1.649609e-14</td>\n",
       "      <td>4.449603e-10</td>\n",
       "      <td>1.273362e-15</td>\n",
       "      <td>0.000000e+00</td>\n",
       "      <td>...</td>\n",
       "      <td>0.000000e+00</td>\n",
       "      <td>0.000000e+00</td>\n",
       "      <td>0.000000e+00</td>\n",
       "      <td>0.000000e+00</td>\n",
       "      <td>0</td>\n",
       "      <td>0</td>\n",
       "      <td>1.352149e-17</td>\n",
       "      <td>1.188350e-17</td>\n",
       "      <td>1.352149e-17</td>\n",
       "      <td>1.188350e-17</td>\n",
       "    </tr>\n",
       "    <tr>\n",
       "      <th>9</th>\n",
       "      <td>6.380305e-16</td>\n",
       "      <td>6.998461e-16</td>\n",
       "      <td>4.153101e-18</td>\n",
       "      <td>-1.293713e-19</td>\n",
       "      <td>4.557655e-19</td>\n",
       "      <td>1.069410e-17</td>\n",
       "      <td>6.098015e-18</td>\n",
       "      <td>5.591717e-18</td>\n",
       "      <td>2.950599e-20</td>\n",
       "      <td>-1.036071e-13</td>\n",
       "      <td>...</td>\n",
       "      <td>2.417007e-13</td>\n",
       "      <td>6.131609e-14</td>\n",
       "      <td>1.297121e-13</td>\n",
       "      <td>6.960836e-16</td>\n",
       "      <td>0</td>\n",
       "      <td>6</td>\n",
       "      <td>1.823917e-26</td>\n",
       "      <td>1.498867e-25</td>\n",
       "      <td>1.823917e-26</td>\n",
       "      <td>1.498867e-25</td>\n",
       "    </tr>\n",
       "  </tbody>\n",
       "</table>\n",
       "<p>10 rows × 21 columns</p>\n",
       "</div>"
      ],
      "text/plain": [
       "      svd_u_d_4     svd_u_d_5     svd_u_d_6     svd_v_s_1     svd_v_s_2  \\\n",
       "0  1.166038e-13  2.253356e-11  3.222301e-15 -2.148853e-13  1.883259e-13   \n",
       "1  1.907402e-12  3.797448e-11  4.993662e-14 -4.054500e-13  2.895773e-13   \n",
       "2  1.693277e-13  2.712767e-13  7.596286e-15 -4.148335e-13  4.618813e-12   \n",
       "3  7.229387e-12  3.563661e-11  1.917977e-12 -8.942576e-12  5.535692e-12   \n",
       "4  1.394103e-10  2.961998e-11  2.022055e-13 -3.804983e-12  1.593137e-13   \n",
       "5  0.000000e+00  0.000000e+00  0.000000e+00 -2.065320e-20  1.431037e-20   \n",
       "6  3.072229e-13  2.571312e-13  1.059874e-14 -5.259869e-12  4.156213e-09   \n",
       "7  2.212300e-13  7.222869e-12  1.724145e-12 -3.073752e-13  3.261902e-13   \n",
       "8  0.000000e+00  0.000000e+00  0.000000e+00 -3.979063e-13  4.048196e-13   \n",
       "9  6.380305e-16  6.998461e-16  4.153101e-18 -1.293713e-19  4.557655e-19   \n",
       "\n",
       "      svd_v_s_3     svd_v_s_4     svd_v_s_5     svd_v_s_6     svd_v_d_1  \\\n",
       "0  5.904813e-11  2.701538e-12  4.341620e-13  5.535507e-14 -9.994077e-10   \n",
       "1  2.545371e-10  2.248600e-14  3.601010e-13  4.701465e-15 -9.360663e-12   \n",
       "2  1.122147e-05  1.778931e-12  2.740540e-13  4.199860e-14 -4.253080e-13   \n",
       "3  5.223671e-06  7.917210e-13  4.020726e-12  2.817659e-13 -2.162598e-11   \n",
       "4  1.035013e-06  1.361585e-13  1.154625e-12  9.656621e-14 -8.742939e-12   \n",
       "5  1.688691e-19  4.502556e-19  5.355082e-20  5.558353e-21  0.000000e+00   \n",
       "6  1.005038e-09  3.214437e-11  3.218195e-11  1.492060e-12  0.000000e+00   \n",
       "7  1.624182e-11  6.881217e-15  1.193123e-13  1.253012e-14 -9.799884e-10   \n",
       "8  1.475414e-11  1.649609e-14  4.449603e-10  1.273362e-15  0.000000e+00   \n",
       "9  1.069410e-17  6.098015e-18  5.591717e-18  2.950599e-20 -1.036071e-13   \n",
       "\n",
       "       ...          svd_v_d_3     svd_v_d_4     svd_v_d_5     svd_v_d_6  \\\n",
       "0      ...       3.512351e-07  2.486660e-09  2.771146e-09  1.727695e-12   \n",
       "1      ...       4.668669e-08  6.665782e-12  1.495980e-10  9.836744e-14   \n",
       "2      ...       3.479854e-07  1.630555e-13  3.954762e-13  3.875775e-14   \n",
       "3      ...       1.879855e-05  4.384839e-12  1.239415e-11  6.483494e-13   \n",
       "4      ...       1.256876e-05  3.637116e-12  3.948477e-12  2.415871e-13   \n",
       "5      ...       0.000000e+00  0.000000e+00  0.000000e+00  0.000000e+00   \n",
       "6      ...       0.000000e+00  0.000000e+00  0.000000e+00  0.000000e+00   \n",
       "7      ...       4.597542e-11  5.675210e-13  4.877886e-13  3.437278e-14   \n",
       "8      ...       0.000000e+00  0.000000e+00  0.000000e+00  0.000000e+00   \n",
       "9      ...       2.417007e-13  6.131609e-14  1.297121e-13  6.960836e-16   \n",
       "\n",
       "   followee_preferential_attachment  follower_preferential_attachment  \\\n",
       "0                                54                                84   \n",
       "1                                19                                34   \n",
       "2                               144                               150   \n",
       "3                               340                               407   \n",
       "4                               405                               324   \n",
       "5                                 0                                 0   \n",
       "6                                 7                                 0   \n",
       "7                               275                               180   \n",
       "8                                 0                                 0   \n",
       "9                                 0                                 6   \n",
       "\n",
       "   test_v_s_dot  test_v_d_dot         s_dot         d_dot  \n",
       "0  1.024953e-22  2.147580e-22  1.024953e-22  2.147580e-22  \n",
       "1  1.214169e-25  1.090768e-22  1.214169e-25  1.090768e-22  \n",
       "2  8.413963e-20  2.073977e-17  8.413963e-20  2.073977e-17  \n",
       "3  7.154994e-26  6.717807e-21  7.154994e-26  6.717807e-21  \n",
       "4  9.437465e-24  1.203126e-21  9.437465e-24  1.203126e-21  \n",
       "5  1.928818e-29  9.563667e-26  1.928818e-29  9.563667e-26  \n",
       "6  4.076331e-26  3.795281e-24  4.076331e-26  3.795281e-24  \n",
       "7  2.006451e-26  9.286194e-23  2.006451e-26  9.286194e-23  \n",
       "8  1.352149e-17  1.188350e-17  1.352149e-17  1.188350e-17  \n",
       "9  1.823917e-26  1.498867e-25  1.823917e-26  1.498867e-25  \n",
       "\n",
       "[10 rows x 21 columns]"
      ]
     },
     "execution_count": 26,
     "metadata": {},
     "output_type": "execute_result"
    }
   ],
   "source": [
    "df_final_test.ix[:,'svd_u_d_4':][:10]"
   ]
  },
  {
   "cell_type": "code",
   "execution_count": 34,
   "metadata": {},
   "outputs": [
    {
     "data": {
      "text/html": [
       "<div>\n",
       "<style scoped>\n",
       "    .dataframe tbody tr th:only-of-type {\n",
       "        vertical-align: middle;\n",
       "    }\n",
       "\n",
       "    .dataframe tbody tr th {\n",
       "        vertical-align: top;\n",
       "    }\n",
       "\n",
       "    .dataframe thead th {\n",
       "        text-align: right;\n",
       "    }\n",
       "</style>\n",
       "<table border=\"1\" class=\"dataframe\">\n",
       "  <thead>\n",
       "    <tr style=\"text-align: right;\">\n",
       "      <th></th>\n",
       "      <th>svd_v_d_1</th>\n",
       "      <th>svd_v_d_2</th>\n",
       "      <th>svd_v_d_3</th>\n",
       "      <th>svd_v_d_4</th>\n",
       "      <th>svd_v_d_5</th>\n",
       "      <th>svd_v_d_6</th>\n",
       "      <th>followee_preferential_attachment</th>\n",
       "      <th>follower_preferential_attachment</th>\n",
       "      <th>test_v_s_dot</th>\n",
       "      <th>test_v_d_dot</th>\n",
       "      <th>s_dot</th>\n",
       "      <th>d_dot</th>\n",
       "    </tr>\n",
       "  </thead>\n",
       "  <tbody>\n",
       "    <tr>\n",
       "      <th>0</th>\n",
       "      <td>-9.994077e-10</td>\n",
       "      <td>5.791914e-10</td>\n",
       "      <td>3.512351e-07</td>\n",
       "      <td>2.486660e-09</td>\n",
       "      <td>2.771146e-09</td>\n",
       "      <td>1.727695e-12</td>\n",
       "      <td>54</td>\n",
       "      <td>84</td>\n",
       "      <td>1.024953e-22</td>\n",
       "      <td>2.147580e-22</td>\n",
       "      <td>1.024953e-22</td>\n",
       "      <td>2.147580e-22</td>\n",
       "    </tr>\n",
       "    <tr>\n",
       "      <th>1</th>\n",
       "      <td>-9.360663e-12</td>\n",
       "      <td>3.206811e-10</td>\n",
       "      <td>4.668669e-08</td>\n",
       "      <td>6.665782e-12</td>\n",
       "      <td>1.495980e-10</td>\n",
       "      <td>9.836744e-14</td>\n",
       "      <td>19</td>\n",
       "      <td>34</td>\n",
       "      <td>1.214169e-25</td>\n",
       "      <td>1.090768e-22</td>\n",
       "      <td>1.214169e-25</td>\n",
       "      <td>1.090768e-22</td>\n",
       "    </tr>\n",
       "    <tr>\n",
       "      <th>2</th>\n",
       "      <td>-4.253080e-13</td>\n",
       "      <td>4.789463e-13</td>\n",
       "      <td>3.479854e-07</td>\n",
       "      <td>1.630555e-13</td>\n",
       "      <td>3.954762e-13</td>\n",
       "      <td>3.875775e-14</td>\n",
       "      <td>144</td>\n",
       "      <td>150</td>\n",
       "      <td>8.413963e-20</td>\n",
       "      <td>2.073977e-17</td>\n",
       "      <td>8.413963e-20</td>\n",
       "      <td>2.073977e-17</td>\n",
       "    </tr>\n",
       "    <tr>\n",
       "      <th>3</th>\n",
       "      <td>-2.162598e-11</td>\n",
       "      <td>6.939286e-12</td>\n",
       "      <td>1.879855e-05</td>\n",
       "      <td>4.384839e-12</td>\n",
       "      <td>1.239415e-11</td>\n",
       "      <td>6.483494e-13</td>\n",
       "      <td>340</td>\n",
       "      <td>407</td>\n",
       "      <td>7.154994e-26</td>\n",
       "      <td>6.717807e-21</td>\n",
       "      <td>7.154994e-26</td>\n",
       "      <td>6.717807e-21</td>\n",
       "    </tr>\n",
       "    <tr>\n",
       "      <th>4</th>\n",
       "      <td>-8.742939e-12</td>\n",
       "      <td>7.467395e-12</td>\n",
       "      <td>1.256876e-05</td>\n",
       "      <td>3.637116e-12</td>\n",
       "      <td>3.948477e-12</td>\n",
       "      <td>2.415871e-13</td>\n",
       "      <td>405</td>\n",
       "      <td>324</td>\n",
       "      <td>9.437465e-24</td>\n",
       "      <td>1.203126e-21</td>\n",
       "      <td>9.437465e-24</td>\n",
       "      <td>1.203126e-21</td>\n",
       "    </tr>\n",
       "    <tr>\n",
       "      <th>5</th>\n",
       "      <td>0.000000e+00</td>\n",
       "      <td>0.000000e+00</td>\n",
       "      <td>0.000000e+00</td>\n",
       "      <td>0.000000e+00</td>\n",
       "      <td>0.000000e+00</td>\n",
       "      <td>0.000000e+00</td>\n",
       "      <td>0</td>\n",
       "      <td>0</td>\n",
       "      <td>1.928818e-29</td>\n",
       "      <td>9.563667e-26</td>\n",
       "      <td>1.928818e-29</td>\n",
       "      <td>9.563667e-26</td>\n",
       "    </tr>\n",
       "    <tr>\n",
       "      <th>6</th>\n",
       "      <td>0.000000e+00</td>\n",
       "      <td>0.000000e+00</td>\n",
       "      <td>0.000000e+00</td>\n",
       "      <td>0.000000e+00</td>\n",
       "      <td>0.000000e+00</td>\n",
       "      <td>0.000000e+00</td>\n",
       "      <td>7</td>\n",
       "      <td>0</td>\n",
       "      <td>4.076331e-26</td>\n",
       "      <td>3.795281e-24</td>\n",
       "      <td>4.076331e-26</td>\n",
       "      <td>3.795281e-24</td>\n",
       "    </tr>\n",
       "    <tr>\n",
       "      <th>7</th>\n",
       "      <td>-9.799884e-10</td>\n",
       "      <td>8.288353e-13</td>\n",
       "      <td>4.597542e-11</td>\n",
       "      <td>5.675210e-13</td>\n",
       "      <td>4.877886e-13</td>\n",
       "      <td>3.437278e-14</td>\n",
       "      <td>275</td>\n",
       "      <td>180</td>\n",
       "      <td>2.006451e-26</td>\n",
       "      <td>9.286194e-23</td>\n",
       "      <td>2.006451e-26</td>\n",
       "      <td>9.286194e-23</td>\n",
       "    </tr>\n",
       "    <tr>\n",
       "      <th>8</th>\n",
       "      <td>0.000000e+00</td>\n",
       "      <td>0.000000e+00</td>\n",
       "      <td>0.000000e+00</td>\n",
       "      <td>0.000000e+00</td>\n",
       "      <td>0.000000e+00</td>\n",
       "      <td>0.000000e+00</td>\n",
       "      <td>0</td>\n",
       "      <td>0</td>\n",
       "      <td>1.352149e-17</td>\n",
       "      <td>1.188350e-17</td>\n",
       "      <td>1.352149e-17</td>\n",
       "      <td>1.188350e-17</td>\n",
       "    </tr>\n",
       "    <tr>\n",
       "      <th>9</th>\n",
       "      <td>-1.036071e-13</td>\n",
       "      <td>6.846028e-15</td>\n",
       "      <td>2.417007e-13</td>\n",
       "      <td>6.131609e-14</td>\n",
       "      <td>1.297121e-13</td>\n",
       "      <td>6.960836e-16</td>\n",
       "      <td>0</td>\n",
       "      <td>6</td>\n",
       "      <td>1.823917e-26</td>\n",
       "      <td>1.498867e-25</td>\n",
       "      <td>1.823917e-26</td>\n",
       "      <td>1.498867e-25</td>\n",
       "    </tr>\n",
       "  </tbody>\n",
       "</table>\n",
       "</div>"
      ],
      "text/plain": [
       "      svd_v_d_1     svd_v_d_2     svd_v_d_3     svd_v_d_4     svd_v_d_5  \\\n",
       "0 -9.994077e-10  5.791914e-10  3.512351e-07  2.486660e-09  2.771146e-09   \n",
       "1 -9.360663e-12  3.206811e-10  4.668669e-08  6.665782e-12  1.495980e-10   \n",
       "2 -4.253080e-13  4.789463e-13  3.479854e-07  1.630555e-13  3.954762e-13   \n",
       "3 -2.162598e-11  6.939286e-12  1.879855e-05  4.384839e-12  1.239415e-11   \n",
       "4 -8.742939e-12  7.467395e-12  1.256876e-05  3.637116e-12  3.948477e-12   \n",
       "5  0.000000e+00  0.000000e+00  0.000000e+00  0.000000e+00  0.000000e+00   \n",
       "6  0.000000e+00  0.000000e+00  0.000000e+00  0.000000e+00  0.000000e+00   \n",
       "7 -9.799884e-10  8.288353e-13  4.597542e-11  5.675210e-13  4.877886e-13   \n",
       "8  0.000000e+00  0.000000e+00  0.000000e+00  0.000000e+00  0.000000e+00   \n",
       "9 -1.036071e-13  6.846028e-15  2.417007e-13  6.131609e-14  1.297121e-13   \n",
       "\n",
       "      svd_v_d_6  followee_preferential_attachment  \\\n",
       "0  1.727695e-12                                54   \n",
       "1  9.836744e-14                                19   \n",
       "2  3.875775e-14                               144   \n",
       "3  6.483494e-13                               340   \n",
       "4  2.415871e-13                               405   \n",
       "5  0.000000e+00                                 0   \n",
       "6  0.000000e+00                                 7   \n",
       "7  3.437278e-14                               275   \n",
       "8  0.000000e+00                                 0   \n",
       "9  6.960836e-16                                 0   \n",
       "\n",
       "   follower_preferential_attachment  test_v_s_dot  test_v_d_dot         s_dot  \\\n",
       "0                                84  1.024953e-22  2.147580e-22  1.024953e-22   \n",
       "1                                34  1.214169e-25  1.090768e-22  1.214169e-25   \n",
       "2                               150  8.413963e-20  2.073977e-17  8.413963e-20   \n",
       "3                               407  7.154994e-26  6.717807e-21  7.154994e-26   \n",
       "4                               324  9.437465e-24  1.203126e-21  9.437465e-24   \n",
       "5                                 0  1.928818e-29  9.563667e-26  1.928818e-29   \n",
       "6                                 0  4.076331e-26  3.795281e-24  4.076331e-26   \n",
       "7                               180  2.006451e-26  9.286194e-23  2.006451e-26   \n",
       "8                                 0  1.352149e-17  1.188350e-17  1.352149e-17   \n",
       "9                                 6  1.823917e-26  1.498867e-25  1.823917e-26   \n",
       "\n",
       "          d_dot  \n",
       "0  2.147580e-22  \n",
       "1  1.090768e-22  \n",
       "2  2.073977e-17  \n",
       "3  6.717807e-21  \n",
       "4  1.203126e-21  \n",
       "5  9.563667e-26  \n",
       "6  3.795281e-24  \n",
       "7  9.286194e-23  \n",
       "8  1.188350e-17  \n",
       "9  1.498867e-25  "
      ]
     },
     "execution_count": 34,
     "metadata": {},
     "output_type": "execute_result"
    }
   ],
   "source": [
    "df_final_test.ix[:,'svd_v_d_1':][:10]"
   ]
  },
  {
   "cell_type": "code",
   "execution_count": 20,
   "metadata": {},
   "outputs": [],
   "source": [
    "y_train = df_final_train.indicator_link\n",
    "y_test = df_final_test.indicator_link"
   ]
  },
  {
   "cell_type": "code",
   "execution_count": 35,
   "metadata": {},
   "outputs": [
    {
     "data": {
      "text/plain": [
       "Index(['jaccard_followers', 'jaccard_followees', 'cosine_followers',\n",
       "       'cosine_followees', 'num_followers_s', 'num_followees_s',\n",
       "       'num_followees_d', 'inter_followers', 'inter_followees', 'adar_index',\n",
       "       'follows_back', 'same_comp', 'shortest_path', 'weight_in', 'weight_out',\n",
       "       'weight_f1', 'weight_f2', 'weight_f3', 'weight_f4', 'page_rank_s',\n",
       "       'page_rank_d', 'katz_s', 'katz_d', 'hubs_s', 'hubs_d', 'authorities_s',\n",
       "       'authorities_d', 'svd_u_s_1', 'svd_u_s_2', 'svd_u_s_3', 'svd_u_s_4',\n",
       "       'svd_u_s_5', 'svd_u_s_6', 'svd_u_d_1', 'svd_u_d_2', 'svd_u_d_3',\n",
       "       'svd_u_d_4', 'svd_u_d_5', 'svd_u_d_6', 'svd_v_s_1', 'svd_v_s_2',\n",
       "       'svd_v_s_3', 'svd_v_s_4', 'svd_v_s_5', 'svd_v_s_6', 'svd_v_d_1',\n",
       "       'svd_v_d_2', 'svd_v_d_3', 'svd_v_d_4', 'svd_v_d_5', 'svd_v_d_6',\n",
       "       'followee_preferential_attachment', 'follower_preferential_attachment',\n",
       "       'train_u_s_dot', 'train_u_d_dot', 's_dot', 'd_dot'],\n",
       "      dtype='object')"
      ]
     },
     "execution_count": 35,
     "metadata": {},
     "output_type": "execute_result"
    }
   ],
   "source": [
    "df_final_train.columns"
   ]
  },
  {
   "cell_type": "code",
   "execution_count": null,
   "metadata": {},
   "outputs": [],
   "source": [
    "df_final_train.drop(['source_node', 'destination_node','indicator_link','train_u_s_dot','train_u_d_dot'],axis=1,inplace=True)\n",
    "df_final_test.drop(['source_node', 'destination_node','indicator_link','test_v_s_dot','test_v_d_dot'],axis=1,inplace=True)"
   ]
  },
  {
   "cell_type": "code",
   "execution_count": 39,
   "metadata": {},
   "outputs": [],
   "source": [
    "df_final_train.drop(['train_u_s_dot','train_u_d_dot'],axis=1,inplace=True)\n",
    "df_final_test.drop(['test_v_s_dot','test_v_d_dot'],axis=1,inplace=True)"
   ]
  },
  {
   "cell_type": "code",
   "execution_count": 40,
   "metadata": {},
   "outputs": [
    {
     "data": {
      "text/plain": [
       "Index(['jaccard_followers', 'jaccard_followees', 'cosine_followers',\n",
       "       'cosine_followees', 'num_followers_s', 'num_followees_s',\n",
       "       'num_followees_d', 'inter_followers', 'inter_followees', 'adar_index',\n",
       "       'follows_back', 'same_comp', 'shortest_path', 'weight_in', 'weight_out',\n",
       "       'weight_f1', 'weight_f2', 'weight_f3', 'weight_f4', 'page_rank_s',\n",
       "       'page_rank_d', 'katz_s', 'katz_d', 'hubs_s', 'hubs_d', 'authorities_s',\n",
       "       'authorities_d', 'svd_u_s_1', 'svd_u_s_2', 'svd_u_s_3', 'svd_u_s_4',\n",
       "       'svd_u_s_5', 'svd_u_s_6', 'svd_u_d_1', 'svd_u_d_2', 'svd_u_d_3',\n",
       "       'svd_u_d_4', 'svd_u_d_5', 'svd_u_d_6', 'svd_v_s_1', 'svd_v_s_2',\n",
       "       'svd_v_s_3', 'svd_v_s_4', 'svd_v_s_5', 'svd_v_s_6', 'svd_v_d_1',\n",
       "       'svd_v_d_2', 'svd_v_d_3', 'svd_v_d_4', 'svd_v_d_5', 'svd_v_d_6',\n",
       "       'followee_preferential_attachment', 'follower_preferential_attachment',\n",
       "       's_dot', 'd_dot'],\n",
       "      dtype='object')"
      ]
     },
     "execution_count": 40,
     "metadata": {},
     "output_type": "execute_result"
    }
   ],
   "source": [
    "df_final_train.columns"
   ]
  },
  {
   "cell_type": "code",
   "execution_count": 41,
   "metadata": {},
   "outputs": [
    {
     "data": {
      "text/plain": [
       "Index(['jaccard_followers', 'jaccard_followees', 'cosine_followers',\n",
       "       'cosine_followees', 'num_followers_s', 'num_followees_s',\n",
       "       'num_followees_d', 'inter_followers', 'inter_followees', 'adar_index',\n",
       "       'follows_back', 'same_comp', 'shortest_path', 'weight_in', 'weight_out',\n",
       "       'weight_f1', 'weight_f2', 'weight_f3', 'weight_f4', 'page_rank_s',\n",
       "       'page_rank_d', 'katz_s', 'katz_d', 'hubs_s', 'hubs_d', 'authorities_s',\n",
       "       'authorities_d', 'svd_u_s_1', 'svd_u_s_2', 'svd_u_s_3', 'svd_u_s_4',\n",
       "       'svd_u_s_5', 'svd_u_s_6', 'svd_u_d_1', 'svd_u_d_2', 'svd_u_d_3',\n",
       "       'svd_u_d_4', 'svd_u_d_5', 'svd_u_d_6', 'svd_v_s_1', 'svd_v_s_2',\n",
       "       'svd_v_s_3', 'svd_v_s_4', 'svd_v_s_5', 'svd_v_s_6', 'svd_v_d_1',\n",
       "       'svd_v_d_2', 'svd_v_d_3', 'svd_v_d_4', 'svd_v_d_5', 'svd_v_d_6',\n",
       "       'followee_preferential_attachment', 'follower_preferential_attachment',\n",
       "       's_dot', 'd_dot'],\n",
       "      dtype='object')"
      ]
     },
     "execution_count": 41,
     "metadata": {},
     "output_type": "execute_result"
    }
   ],
   "source": [
    "df_final_test.columns"
   ]
  },
  {
   "cell_type": "markdown",
   "metadata": {},
   "source": [
    "# Random Forest"
   ]
  },
  {
   "cell_type": "code",
   "execution_count": 162,
   "metadata": {},
   "outputs": [
    {
     "name": "stdout",
     "output_type": "stream",
     "text": [
      "Current Time =  2019-05-24 17:15:40.888059\n",
      "Estimators =  10 Train Score 0.9168054647804179 test Score 0.8991258141926637\n",
      "Estimators =  50 Train Score 0.9220895584588777 test Score 0.8937688248990665\n",
      "Estimators =  100 Train Score 0.9218287697728152 test Score 0.9153860707603692\n",
      "Estimators =  250 Train Score 0.9211508895233912 test Score 0.9164059383071205\n",
      "Estimators =  450 Train Score 0.9216563839799227 test Score 0.9170952910797137\n",
      "Time taken for creation of dataframe is 0:06:27.128323\n"
     ]
    },
    {
     "data": {
      "image/png": "[encoded data removed]",
      "text/plain": [
       "<Figure size 432x288 with 1 Axes>"
      ]
     },
     "metadata": {},
     "output_type": "display_data"
    }
   ],
   "source": [
    "startTime = datetime.datetime.now()\n",
    "print(\"Current Time = \",startTime)\n",
    "\n",
    "estimators = [10,50,100,250,450]\n",
    "train_scores = []\n",
    "test_scores = []\n",
    "for i in estimators:\n",
    "    clf = RandomForestClassifier(bootstrap=True, class_weight=None, criterion='gini',\n",
    "            max_depth=5, max_features='auto', max_leaf_nodes=None,\n",
    "            min_impurity_decrease=0.0, min_impurity_split=None,\n",
    "            min_samples_leaf=52, min_samples_split=120,\n",
    "            min_weight_fraction_leaf=0.0, n_estimators=i,random_state=25,verbose=0,warm_start=False)\n",
    "    clf.fit(df_final_train,y_train)\n",
    "    train_sc = f1_score(y_train,clf.predict(df_final_train))\n",
    "    test_sc = f1_score(y_test,clf.predict(df_final_test))\n",
    "    test_scores.append(test_sc)\n",
    "    train_scores.append(train_sc)\n",
    "    print('Estimators = ',i,'Train Score',train_sc,'test Score',test_sc)\n",
    "plt.plot(estimators,train_scores,label='Train Score')\n",
    "plt.plot(estimators,test_scores,label='Test Score')\n",
    "plt.xlabel('Estimators')\n",
    "plt.ylabel('Score')\n",
    "plt.title('Estimators vs score at depth of 5')\n",
    "\n",
    "print(\"Time taken for creation of dataframe is {}\".format(datetime.datetime.now() - startTime))"
   ]
  },
  {
   "cell_type": "code",
   "execution_count": 163,
   "metadata": {},
   "outputs": [
    {
     "name": "stdout",
     "output_type": "stream",
     "text": [
      "Current Time =  2019-05-24 17:22:55.575829\n",
      "depth =  3 Train Score 0.9094969294708766 test Score 0.8923076923076922\n",
      "depth =  9 Train Score 0.9586727982787979 test Score 0.9234631450149783\n",
      "depth =  11 Train Score 0.9615533269594579 test Score 0.92516748830742\n",
      "depth =  15 Train Score 0.9629599545122248 test Score 0.9252643552260185\n",
      "depth =  20 Train Score 0.963790564217155 test Score 0.9259657330720111\n",
      "depth =  35 Train Score 0.963760461525961 test Score 0.9260593800703796\n",
      "depth =  50 Train Score 0.963760461525961 test Score 0.9260593800703796\n",
      "depth =  70 Train Score 0.963760461525961 test Score 0.9260593800703796\n",
      "depth =  130 Train Score 0.963760461525961 test Score 0.9260593800703796\n"
     ]
    },
    {
     "data": {
      "image/png": "[encoded data removed]",
      "text/plain": [
       "<Figure size 432x288 with 1 Axes>"
      ]
     },
     "metadata": {},
     "output_type": "display_data"
    },
    {
     "name": "stdout",
     "output_type": "stream",
     "text": [
      "Time taken for creation of dataframe is 0:11:28.420432\n"
     ]
    }
   ],
   "source": [
    "startTime = datetime.datetime.now()\n",
    "print(\"Current Time = \",startTime)\n",
    "\n",
    "depths = [3,9,11,15,20,35,50,70,130]\n",
    "train_scores = []\n",
    "test_scores = []\n",
    "for i in depths:\n",
    "    clf = RandomForestClassifier(bootstrap=True, class_weight=None, criterion='gini',\n",
    "            max_depth=i, max_features='auto', max_leaf_nodes=None,\n",
    "            min_impurity_decrease=0.0, min_impurity_split=None,\n",
    "            min_samples_leaf=52, min_samples_split=120,\n",
    "            min_weight_fraction_leaf=0.0, n_estimators=115, random_state=25,verbose=0,warm_start=False)\n",
    "    clf.fit(df_final_train,y_train)\n",
    "    train_sc = f1_score(y_train,clf.predict(df_final_train))\n",
    "    test_sc = f1_score(y_test,clf.predict(df_final_test))\n",
    "    test_scores.append(test_sc)\n",
    "    train_scores.append(train_sc)\n",
    "    print('depth = ',i,'Train Score',train_sc,'test Score',test_sc)\n",
    "plt.plot(depths,train_scores,label='Train Score')\n",
    "plt.plot(depths,test_scores,label='Test Score')\n",
    "plt.xlabel('Depth')\n",
    "plt.ylabel('Score')\n",
    "plt.title('Depth vs score at depth of 5 at estimators = 115')\n",
    "plt.show()\n",
    "\n",
    "print(\"Time taken for creation of dataframe is {}\".format(datetime.datetime.now() - startTime))"
   ]
  },
  {
   "cell_type": "code",
   "execution_count": 164,
   "metadata": {},
   "outputs": [
    {
     "name": "stdout",
     "output_type": "stream",
     "text": [
      "Current Time =  2019-05-24 17:34:24.043261\n",
      "mean test scores [0.96230736 0.96209145 0.96068497 0.96182116 0.96318534]\n",
      "mean train scores [0.9633391  0.96287272 0.96126794 0.96251656 0.96423855]\n",
      "*******************************************************\n",
      "RandomForestClassifier(bootstrap=True, class_weight=None, criterion='gini',\n",
      "            max_depth=14, max_features='auto', max_leaf_nodes=None,\n",
      "            min_impurity_decrease=0.0, min_impurity_split=None,\n",
      "            min_samples_leaf=28, min_samples_split=111,\n",
      "            min_weight_fraction_leaf=0.0, n_estimators=121, n_jobs=None,\n",
      "            oob_score=False, random_state=25, verbose=0, warm_start=False)\n",
      "\n",
      "Train f1 score 0.9643266955735856\n",
      "Test f1 score 0.9263264402706634\n",
      "Time taken for creation of dataframe is 0:59:16.060665\n"
     ]
    }
   ],
   "source": [
    "from sklearn.metrics import f1_score\n",
    "from sklearn.ensemble import RandomForestClassifier\n",
    "from sklearn.metrics import f1_score\n",
    "from sklearn.model_selection import RandomizedSearchCV\n",
    "from scipy.stats import randint as sp_randint\n",
    "from scipy.stats import uniform\n",
    "\n",
    "startTime = datetime.datetime.now()\n",
    "print(\"Current Time = \",startTime)\n",
    "\n",
    "param_dist = {\"n_estimators\":sp_randint(105,125),\n",
    "              \"max_depth\": sp_randint(10,15),\n",
    "              \"min_samples_split\": sp_randint(110,190),\n",
    "              \"min_samples_leaf\": sp_randint(25,65)}\n",
    "\n",
    "clf = RandomForestClassifier(random_state=25)\n",
    "\n",
    "rf_random = RandomizedSearchCV(clf, param_distributions=param_dist,\n",
    "                                   n_iter=5,cv=10,scoring='f1',random_state=25)\n",
    "\n",
    "rf_random.fit(df_final_train,y_train)\n",
    "print('mean test scores',rf_random.cv_results_['mean_test_score'])\n",
    "print('mean train scores',rf_random.cv_results_['mean_train_score'])\n",
    "\n",
    "print(\"*******************************************************\")\n",
    "print(rf_random.best_estimator_)\n",
    "\n",
    "clf = RandomForestClassifier(bootstrap=True, class_weight=None, criterion='gini',\n",
    "            max_depth=14, max_features='auto', max_leaf_nodes=None,\n",
    "            min_impurity_decrease=0.0, min_impurity_split=None,\n",
    "            min_samples_leaf=28, min_samples_split=111,\n",
    "            min_weight_fraction_leaf=0.0, n_estimators=121, n_jobs=-1,\n",
    "            oob_score=False, random_state=25, verbose=0, warm_start=False)\n",
    "\n",
    "clf.fit(df_final_train,y_train)\n",
    "y_train_pred = clf.predict(df_final_train)\n",
    "y_test_pred = clf.predict(df_final_test)\n",
    "\n",
    "from sklearn.metrics import f1_score\n",
    "print('\\nTrain f1 score',f1_score(y_train,y_train_pred))\n",
    "print('Test f1 score',f1_score(y_test,y_test_pred))\n",
    "\n",
    "print(\"Time taken for creation of dataframe is {}\".format(datetime.datetime.now() - startTime))"
   ]
  },
  {
   "cell_type": "code",
   "execution_count": 46,
   "metadata": {},
   "outputs": [],
   "source": [
    "from sklearn.metrics import confusion_matrix\n",
    "def plot_confusion_matrix(test_y, predict_y):\n",
    "    C = confusion_matrix(test_y, predict_y)\n",
    "    \n",
    "    A =(((C.T)/(C.sum(axis=1))).T)\n",
    "    \n",
    "    B =(C/C.sum(axis=0))\n",
    "    plt.figure(figsize=(20,4))\n",
    "    \n",
    "    labels = [0,1]\n",
    "    # representing A in heatmap format\n",
    "    cmap=sns.light_palette(\"blue\")\n",
    "    plt.subplot(1, 3, 1)\n",
    "    sns.heatmap(C, annot=True, cmap=cmap, fmt=\".3f\", xticklabels=labels, yticklabels=labels)\n",
    "    plt.xlabel('Predicted Class')\n",
    "    plt.ylabel('Original Class')\n",
    "    plt.title(\"Confusion matrix\")\n",
    "    \n",
    "    plt.subplot(1, 3, 2)\n",
    "    sns.heatmap(B, annot=True, cmap=cmap, fmt=\".3f\", xticklabels=labels, yticklabels=labels)\n",
    "    plt.xlabel('Predicted Class')\n",
    "    plt.ylabel('Original Class')\n",
    "    plt.title(\"Precision matrix\")\n",
    "    \n",
    "    plt.subplot(1, 3, 3)\n",
    "    # representing B in heatmap format\n",
    "    sns.heatmap(A, annot=True, cmap=cmap, fmt=\".3f\", xticklabels=labels, yticklabels=labels)\n",
    "    plt.xlabel('Predicted Class')\n",
    "    plt.ylabel('Original Class')\n",
    "    plt.title(\"Recall matrix\")\n",
    "    \n",
    "    plt.show()"
   ]
  },
  {
   "cell_type": "code",
   "execution_count": 166,
   "metadata": {},
   "outputs": [
    {
     "name": "stdout",
     "output_type": "stream",
     "text": [
      "Train confusion_matrix\n"
     ]
    },
    {
     "data": {
      "image/png": "[encoded data removed]",
      "text/plain": [
       "<Figure size 1440x288 with 6 Axes>"
      ]
     },
     "metadata": {},
     "output_type": "display_data"
    },
    {
     "name": "stdout",
     "output_type": "stream",
     "text": [
      "Test confusion_matrix\n"
     ]
    },
    {
     "data": {
      "image/png": "[encoded data removed]",
      "text/plain": [
       "<Figure size 1440x288 with 6 Axes>"
      ]
     },
     "metadata": {},
     "output_type": "display_data"
    }
   ],
   "source": [
    "print('Train confusion_matrix')\n",
    "plot_confusion_matrix(y_train,y_train_pred)\n",
    "print('Test confusion_matrix')\n",
    "plot_confusion_matrix(y_test,y_test_pred)"
   ]
  },
  {
   "cell_type": "code",
   "execution_count": 167,
   "metadata": {},
   "outputs": [
    {
     "data": {
      "image/png": "[encoded data removed]",
      "text/plain": [
       "<Figure size 432x288 with 1 Axes>"
      ]
     },
     "metadata": {},
     "output_type": "display_data"
    }
   ],
   "source": [
    "from sklearn.metrics import roc_curve, auc\n",
    "fpr,tpr,ths = roc_curve(y_test,y_test_pred)\n",
    "auc_sc = auc(fpr, tpr)\n",
    "plt.plot(fpr, tpr, color='navy',label='ROC curve (area = %0.2f)' % auc_sc)\n",
    "plt.xlabel('False Positive Rate')\n",
    "plt.ylabel('True Positive Rate')\n",
    "plt.title('Receiver operating characteristic with test data')\n",
    "plt.legend()\n",
    "plt.show()"
   ]
  },
  {
   "cell_type": "code",
   "execution_count": 168,
   "metadata": {},
   "outputs": [
    {
     "data": {
      "image/png": "[encoded data removed]",
      "text/plain": [
       "<Figure size 720x864 with 1 Axes>"
      ]
     },
     "metadata": {},
     "output_type": "display_data"
    }
   ],
   "source": [
    "features = df_final_train.columns\n",
    "importances = clf.feature_importances_\n",
    "indices = (np.argsort(importances))[-25:]\n",
    "plt.figure(figsize=(10,12))\n",
    "plt.title('Feature Importances')\n",
    "plt.barh(range(len(indices)), importances[indices], color='r', align='center')\n",
    "plt.yticks(range(len(indices)), [features[i] for i in indices])\n",
    "plt.xlabel('Relative Importance')\n",
    "plt.show()"
   ]
  },
  {
   "cell_type": "markdown",
   "metadata": {},
   "source": [
    "## Hyperparameter tuning XGBoost"
   ]
  },
  {
   "cell_type": "code",
   "execution_count": 43,
   "metadata": {},
   "outputs": [
    {
     "name": "stdout",
     "output_type": "stream",
     "text": [
      "Current Time =  2019-05-24 21:25:09.249187\n",
      "XGBClassifier(base_score=0.5, booster='gbtree', colsample_bylevel=1,\n",
      "       colsample_bytree=1, gamma=0, learning_rate=0.3, max_delta_step=0,\n",
      "       max_depth=4, min_child_weight=4, missing=None, n_estimators=300,\n",
      "       n_jobs=1, nthread=None, objective='binary:logistic', random_state=0,\n",
      "       reg_alpha=0, reg_lambda=1, scale_pos_weight=1, seed=None,\n",
      "       silent=True, subsample=1)\n",
      "\n",
      "best_min_child_weight_xgb =  4\n",
      "best_max_depth_xgb =  4\n",
      "best_n_estimators_xgb =  300\n",
      "best_learning_rate_xgb =  0.3\n",
      "Time taken for creation of dataframe is 1:55:39.179742\n"
     ]
    }
   ],
   "source": [
    "startTime = datetime.datetime.now()\n",
    "print(\"Current Time = \",startTime)\n",
    "\n",
    "import xgboost as xgb\n",
    "from sklearn.model_selection import RandomizedSearchCV\n",
    "from sklearn.metrics import f1_score,make_scorer\n",
    "\n",
    "min_child_weight = [2,4,6]\n",
    "max_depth = [2,4,6]\n",
    "n_estimators =[100,200,300]\n",
    "learning_rate = [0.1,0.2,0.3]\n",
    "\n",
    "scorer = make_scorer(f1_score)\n",
    "tuned_parameters = {\n",
    "                    'min_child_weight':min_child_weight,\n",
    "                    'max_depth':max_depth,\n",
    "                    'n_estimators': n_estimators,\n",
    "                    'learning_rate':learning_rate}\n",
    "\n",
    "clf = xgb.XGBClassifier()\n",
    "model_gbt = RandomizedSearchCV(clf,tuned_parameters,scoring =scorer,cv=3,pre_dispatch=2)\n",
    "model_gbt.fit(df_final_train,y_train)\n",
    "print(model_gbt.best_estimator_)\n",
    "\n",
    "best_min_child_weight_xgb = model_gbt.best_estimator_.min_child_weight\n",
    "best_max_depth_xgb = model_gbt.best_params_[\"max_depth\"]\n",
    "best_n_estimators_xgb = model_gbt.best_estimator_.n_estimators\n",
    "best_learning_rate_xgb = model_gbt.best_estimator_.learning_rate\n",
    "\n",
    "print(\"\\nbest_min_child_weight_xgb = \", best_min_child_weight_xgb)\n",
    "print(\"best_max_depth_xgb = \",best_max_depth_xgb)\n",
    "print(\"best_n_estimators_xgb = \", best_n_estimators_xgb)\n",
    "print(\"best_learning_rate_xgb = \",best_learning_rate_xgb)\n",
    "\n",
    "print(\"Time taken for creation of dataframe is {}\".format(datetime.datetime.now() - startTime))"
   ]
  },
  {
   "cell_type": "code",
   "execution_count": 44,
   "metadata": {},
   "outputs": [
    {
     "name": "stdout",
     "output_type": "stream",
     "text": [
      "Current Time =  2019-05-24 23:20:48.456948\n",
      "\n",
      "Train Score:  0.9965995919510341\n",
      "Test Score:  0.875133547008547\n",
      "Time taken for creation of dataframe is 0:06:15.302619\n"
     ]
    }
   ],
   "source": [
    "startTime = datetime.datetime.now()\n",
    "print(\"Current Time = \",startTime)\n",
    "\n",
    "xgb_best = xgb.XGBClassifier(objective='binary:logistic',learning_rate = best_learning_rate_xgb,\n",
    "                             min_child_weight = best_min_child_weight_xgb,n_estimators = best_n_estimators_xgb,\n",
    "                             max_depth = best_max_depth_xgb)\n",
    "xgb_best.fit(df_final_train,y_train)\n",
    "pred_train = xgb_best.predict(df_final_train)\n",
    "pred_test = xgb_best.predict(df_final_test)\n",
    "\n",
    "train_score = f1_score(y_train,pred_train)\n",
    "test_score = f1_score(y_test,pred_test)\n",
    "print('\\nTrain Score: ',train_score)\n",
    "print('Test Score: ',test_score)\n",
    "\n",
    "print(\"Time taken for creation of dataframe is {}\".format(datetime.datetime.now() - startTime))"
   ]
  },
  {
   "cell_type": "code",
   "execution_count": 47,
   "metadata": {},
   "outputs": [
    {
     "name": "stdout",
     "output_type": "stream",
     "text": [
      "Train confusion_matrix\n"
     ]
    },
    {
     "data": {
      "image/png": "[encoded data removed]",
      "text/plain": [
       "<Figure size 1440x288 with 6 Axes>"
      ]
     },
     "metadata": {},
     "output_type": "display_data"
    },
    {
     "name": "stdout",
     "output_type": "stream",
     "text": [
      "Test confusion_matrix\n"
     ]
    },
    {
     "data": {
      "image/png": "[encoded data removed]",
      "text/plain": [
       "<Figure size 1440x288 with 6 Axes>"
      ]
     },
     "metadata": {},
     "output_type": "display_data"
    }
   ],
   "source": [
    "print('Train confusion_matrix')\n",
    "plot_confusion_matrix(y_train,pred_train)\n",
    "print('Test confusion_matrix')\n",
    "plot_confusion_matrix(y_test,pred_test)"
   ]
  },
  {
   "cell_type": "code",
   "execution_count": 48,
   "metadata": {},
   "outputs": [
    {
     "data": {
      "image/png": "[encoded data removed]",
      "text/plain": [
       "<Figure size 432x288 with 1 Axes>"
      ]
     },
     "metadata": {},
     "output_type": "display_data"
    }
   ],
   "source": [
    "from sklearn.metrics import roc_curve, auc\n",
    "fpr,tpr,ths = roc_curve(y_test,pred_test)\n",
    "auc_sc = auc(fpr, tpr)\n",
    "plt.plot(fpr, tpr, color='navy',label='ROC curve (area = %0.2f)' % auc_sc)\n",
    "plt.xlabel('False Positive Rate')\n",
    "plt.ylabel('True Positive Rate')\n",
    "plt.title('Receiver operating characteristic with test data')\n",
    "plt.legend()\n",
    "plt.show()"
   ]
  },
  {
   "cell_type": "code",
   "execution_count": 49,
   "metadata": {},
   "outputs": [
    {
     "data": {
      "image/png": "[encoded data removed]",
      "text/plain": [
       "<Figure size 720x864 with 1 Axes>"
      ]
     },
     "metadata": {},
     "output_type": "display_data"
    }
   ],
   "source": [
    "features = df_final_train.columns\n",
    "importances = xgb_best.feature_importances_\n",
    "indices = (np.argsort(importances))[-25:]\n",
    "plt.figure(figsize=(10,12))\n",
    "plt.title('Feature Importances')\n",
    "plt.barh(range(len(indices)), importances[indices], color='r', align='center')\n",
    "plt.yticks(range(len(indices)), [features[i] for i in indices])\n",
    "plt.xlabel('Relative Importance')\n",
    "plt.show()"
   ]
  },
  {
   "cell_type": "code",
   "execution_count": 50,
   "metadata": {},
   "outputs": [
    {
     "name": "stdout",
     "output_type": "stream",
     "text": [
      "+--------------------+--------------------+--------------------+\n",
      "| Model \\ Parameters |   Train f1_score   |   Test f1_score    |\n",
      "+--------------------+--------------------+--------------------+\n",
      "|   RandomForest:    | 0.9643266955735856 | 0.9263264402706634 |\n",
      "|  XGBClassifier:    | 0.9965995919510341 | 0.875133547008547  |\n",
      "+--------------------+--------------------+--------------------+\n"
     ]
    }
   ],
   "source": [
    "from prettytable import PrettyTable\n",
    "x = PrettyTable()\n",
    "x.field_names = [\"Model \\ Parameters\",\"Train f1_score\",\"Test f1_score\"]\n",
    "x.add_row([\"RandomForest: \",0.9643266955735856,0.9263264402706634])\n",
    "x.add_row([\"XGBClassifier: \",0.9965995919510341,0.875133547008547])\n",
    "print(x)"
   ]
  },
  {
   "cell_type": "code",
   "execution_count": null,
   "metadata": {},
   "outputs": [],
   "source": []
  }
 ],
 "metadata": {
  "colab": {
   "collapsed_sections": [
    "DaIHhWh6VFGv",
    "GkkfYYZ6VFGy",
    "AgsorCl7VFG8",
    "baE_95bzVFHF",
    "pBUudhFAVFHY",
    "29Vrq2EXVFHi",
    "SRZqGFgYVFHx"
   ],
   "name": "FB_featurization.ipynb",
   "provenance": [],
   "version": "0.3.2"
  },
  "kernelspec": {
   "display_name": "Python 3",
   "language": "python",
   "name": "python3"
  },
  "language_info": {
   "codemirror_mode": {
    "name": "ipython",
    "version": 3
   },
   "file_extension": ".py",
   "mimetype": "text/x-python",
   "name": "python",
   "nbconvert_exporter": "python",
   "pygments_lexer": "ipython3",
   "version": "3.6.5"
  }
 },
 "nbformat": 4,
 "nbformat_minor": 1
}
